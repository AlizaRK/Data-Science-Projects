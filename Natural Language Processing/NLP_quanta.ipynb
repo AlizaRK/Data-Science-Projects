{
 "cells": [
  {
   "cell_type": "markdown",
   "id": "40690925-bb8d-4ae8-b2d5-11755c25ae0b",
   "metadata": {},
   "source": [
    "# Homework 12: Natural Language Processing"
   ]
  },
  {
   "cell_type": "markdown",
   "id": "473baece-14f6-4a2f-b83b-39185148072b",
   "metadata": {},
   "source": [
    "## Aliza Rafique (ar05986)"
   ]
  },
  {
   "cell_type": "markdown",
   "id": "2d3eceac-3d61-4259-8be8-974dddb3650c",
   "metadata": {},
   "source": [
    "#### ar05986@st.habib.edu.pk"
   ]
  },
  {
   "cell_type": "markdown",
   "id": "258ebe16-185b-4372-89f7-d8daa6db7d6d",
   "metadata": {},
   "source": [
    "## Necessary Imports"
   ]
  },
  {
   "cell_type": "code",
   "execution_count": 204,
   "id": "16c5b84a-1fb9-45db-8c44-dd4754b13509",
   "metadata": {},
   "outputs": [
    {
     "name": "stderr",
     "output_type": "stream",
     "text": [
      "[nltk_data] Downloading package averaged_perceptron_tagger to\n",
      "[nltk_data]     C:\\Users\\Aliza Rafique\\AppData\\Roaming\\nltk_data...\n",
      "[nltk_data]   Package averaged_perceptron_tagger is already up-to-\n",
      "[nltk_data]       date!\n",
      "[nltk_data] Downloading package punkt to C:\\Users\\Aliza\n",
      "[nltk_data]     Rafique\\AppData\\Roaming\\nltk_data...\n",
      "[nltk_data]   Package punkt is already up-to-date!\n"
     ]
    }
   ],
   "source": [
    "import nltk\n",
    "nltk.download('averaged_perceptron_tagger')\n",
    "nltk.download('punkt')\n",
    "from nltk import pos_tag, word_tokenize, RegexpParser\n",
    "import spacy\n",
    "from spacy import displacy\n",
    "from collections import Counter\n",
    "import en_core_web_sm\n",
    "from bs4 import BeautifulSoup\n",
    "import requests\n",
    "import re\n",
    "import numpy\n",
    "from tika import parser\n",
    "import seaborn as sns\n",
    "import datetime as dt\n",
    "import matplotlib.pyplot as plt\n",
    "sns.set(rc={'figure.figsize':(15,10)})"
   ]
  },
  {
   "cell_type": "markdown",
   "id": "b1699a8b-d70a-46fc-80e7-dcd2b819dcc8",
   "metadata": {},
   "source": [
    "## Question 1: Name Entity Relation (NER) Analysis"
   ]
  },
  {
   "cell_type": "markdown",
   "id": "a92c1469-26f3-4e88-a713-0c4d3011649c",
   "metadata": {},
   "source": [
    "#### For this question, I have chosen an article from Quanta Magazine. (I have used the pdf version for some parts and link for other parts)."
   ]
  },
  {
   "cell_type": "markdown",
   "id": "8048ba3d-43f2-4395-8391-6886261583de",
   "metadata": {},
   "source": [
    "### PDF Parser"
   ]
  },
  {
   "cell_type": "code",
   "execution_count": 47,
   "id": "2df2b9e5-aefd-4086-a5a7-3cfae109fbfa",
   "metadata": {},
   "outputs": [],
   "source": [
    "raw = parser.from_file('quanta_physics.pdf')"
   ]
  },
  {
   "cell_type": "markdown",
   "id": "3606d9e0-b4e3-4e7f-ab32-e804894ee8b9",
   "metadata": {},
   "source": [
    "#### There are a lot of empty spaces in the beginning that I am going to remove."
   ]
  },
  {
   "cell_type": "code",
   "execution_count": 49,
   "id": "979bcc64-a5d0-4756-9e73-191d971cb3ee",
   "metadata": {},
   "outputs": [],
   "source": [
    "raw['content'] = raw['content'].strip(\"\\n\")"
   ]
  },
  {
   "cell_type": "markdown",
   "id": "e5d3be89-fa48-426d-98cd-76369a99422d",
   "metadata": {},
   "source": [
    "### Using the SpaCy Library"
   ]
  },
  {
   "cell_type": "code",
   "execution_count": 50,
   "id": "b57bbd63-5c46-49ab-ad16-2e122be724a6",
   "metadata": {},
   "outputs": [
    {
     "name": "stdout",
     "output_type": "stream",
     "text": [
      "[('4/17/22', 'CARDINAL'), ('12:48 AM', 'TIME'), ('1/9', 'CARDINAL'), ('April 7', 'DATE'), ('5', 'CARDINAL'), ('4/17/22', 'CARDINAL'), ('12:48 AM', 'TIME'), ('2/9', 'CARDINAL'), ('one', 'CARDINAL'), ('17', 'CARDINAL'), ('Samuel Velasco/', 'PERSON'), ('4/17/22', 'CARDINAL'), ('12:48 AM', 'TIME'), ('3/9', 'CARDINAL'), ('0.1%', 'PERCENT'), ('today', 'DATE'), ('Science', 'WORK_OF_ART'), ('the Fermi National Accelerator Laboratory', 'ORG'), ('Batavia', 'GPE'), ('Illinois', 'GPE'), ('a decade ago', 'DATE'), ('roughly 400', 'CARDINAL'), ('the Collider Detector', 'ORG'), ('Fermilab', 'ORG'), ('CDF', 'ORG'), ('Tevatron', 'ORG'), ('quantum physics', 'ORG'), ('half a century', 'DATE'), ('2012', 'DATE'), ('Sven Heinemeyer', 'PERSON'), ('the Institute for\\n\\nTheoretical Physics', 'ORG'), ('Madrid', 'GPE'), ('CDF', 'ORG'), ('Higgs', 'PERSON'), ('CDF', 'ORG'), ('hundreds', 'CARDINAL'), ('Aida El-Khadra', 'PERSON'), ('the University of Illinois, Urbana-Champaign', 'ORG'), ('W', 'LOC'), ('2017', 'DATE'), ('ATLAS', 'ORG'), ('Europe', 'LOC'), ('CDF', 'ORG'), ('ATLAS', 'ORG'), ('one', 'CARDINAL'), ('https://www.science.org/doi/10.1126/science.abk1781', 'PRODUCT'), ('https://physics.illinois.edu/people/directory/profile/axk\\n', 'PERSON'), ('4/17/22', 'CARDINAL'), ('12:48 AM', 'TIME'), ('4/9', 'CARDINAL'), ('CERN', 'ORG'), ('ATLAS', 'ORG'), ('Atlantic', 'LOC'), ('Frank Wilczek', 'PERSON'), ('a Nobel Prize', 'WORK_OF_ART'), ('the\\n\\nMassachusetts Institute of Technology', 'ORG'), ('four', 'CARDINAL'), ('the last 40 years', 'DATE'), ('quantum', 'ORG'), ('4/17/22', 'CARDINAL'), ('12:48 AM', 'TIME'), ('5/9', 'CARDINAL'), ('decades', 'DATE'), ('Fermilab', 'ORG'), ('the 1990s', 'DATE'), ('1995', 'DATE'), ('the\\n\\n2000s', 'DATE'), ('Higgs', 'PERSON'), ('today', 'DATE'), ('W', 'LOC'), ('Catching W’s', 'PERSON'), ('about 4 million', 'CARDINAL'), ('between 2002 and 2011', 'DATE'), ('Tevatron', 'ORG'), ('Ashutosh Kotwal', 'PERSON'), ('Duke University', 'ORG'), ('CDF', 'ORG'), ('30,000', 'CARDINAL'), ('CDF', 'ORG'), ('Kotwal', 'PERSON'), ('1', 'CARDINAL'), ('the years', 'DATE'), ('Tevatron', 'ORG'), ('CDF', 'ORG'), ('https://scholars.duke.edu/person/ashutosh.kotwal', 'ORG'), ('4/17/22', 'CARDINAL'), ('12:48 AM', 'TIME'), ('6/9', 'CARDINAL'), ('2012', 'DATE'), ('Tevatron', 'ORG'), ('the next four years', 'DATE'), ('4/17/22', 'CARDINAL'), ('12:48 AM', 'TIME'), ('7/9', 'CARDINAL'), ('CDF', 'ORG'), ('one', 'CARDINAL'), ('two', 'CARDINAL'), ('4-mile', 'QUANTITY'), ('2001', 'DATE'), ('Fermilab', 'ORG'), ('4/17/22', 'CARDINAL'), ('12:48 AM', 'TIME'), ('8/9', 'CARDINAL'), ('Kotwal', 'PERSON'), ('Nearly a decade', 'DATE'), ('November\\n\\n2020', 'DATE'), ('Zoom', 'GPE'), ('Kotwal', 'PERSON'), ('80,433', 'CARDINAL'), ('MeV', 'PERSON'), ('9', 'CARDINAL'), ('76', 'CARDINAL'), ('MeV', 'PERSON'), ('roughly seven', 'CARDINAL'), ('seven', 'CARDINAL'), ('ATLAS', 'ORG'), ('Chris Quigg', 'PERSON'), ('Clash of Experiments\\n\\nWith the Tevatron', 'WORK_OF_ART'), ('CDF', 'ORG'), ('Tevatron', 'ORG'), ('the coming years', 'DATE'), ('W boson', 'LOC'), ('W boson', 'LOC'), ('W boson', 'LOC'), ('second', 'ORDINAL'), ('Higgs', 'PERSON'), ('4/17/22', 'CARDINAL'), ('12:48 AM', 'TIME'), ('9/9', 'CARDINAL'), ('g-2 anomaly', 'ORG'), ('CDF', 'ORG'), ('g-2', 'ORG'), ('El-Khadra', 'ORG'), ('AGREE', 'ORG')]\n"
     ]
    }
   ],
   "source": [
    "nlp = spacy.load('en_core_web_sm')\n",
    "doc = nlp(raw['content'])\n",
    "print([(X.text, X.label_) for X in doc.ents])"
   ]
  },
  {
   "cell_type": "markdown",
   "id": "2691d179-c2ed-428e-9baf-a5dad8a8a8d4",
   "metadata": {},
   "source": [
    "### Explanation"
   ]
  },
  {
   "cell_type": "markdown",
   "id": "fbf5edc9-090f-4ccf-83af-0f600a6124a5",
   "metadata": {},
   "source": [
    "Here through SpaCy library has labelled the words. For example, for all the numbers the label is \"Cardinal\". It has also cleverly recognized phrases such as \"half a century\" as \"Date\" which of course makes sense. Morever, what I found interesting is that it labelled \"Higgs\" as a person which is somehow correct because Peter Higgs was a person but here in the article by \"Higgs\" they mean the particle \"Higgs Boson\" and not the person, that I think the library was unable to identify otherwise it would have probably labelled it something else (strangely there is no label of objects). Moreover, most of the times the library correctly identified the organizations (except for identifying agree, W as organization. Strangely, it identified \"Science\" as a \"work of art\" which doesn't make any sense but also spacy library doesn't really have entity of \"disciplines\". SpaCy lacks a bit in identification as we saw that for some websites it labelled as product, some as person or organization. This lacking maybe is due to the few entities that we can identify through SpaCy. "
   ]
  },
  {
   "cell_type": "markdown",
   "id": "ea6e9671-32a6-4d99-af36-616b904b90a0",
   "metadata": {},
   "source": [
    "##### Miscellanous\n",
    "Checking for what SpaCy returns with list of objects"
   ]
  },
  {
   "cell_type": "code",
   "execution_count": 12,
   "id": "c2b1a3df-5d84-44a4-ac16-7268cf32044b",
   "metadata": {},
   "outputs": [
    {
     "name": "stdout",
     "output_type": "stream",
     "text": [
      "[]\n"
     ]
    }
   ],
   "source": [
    "temp_nlp = spacy.load('en_core_web_sm')\n",
    "temp_doc = temp_nlp('I am Aliza, I am sitting on a chair and writing on a white board. I like to eat pasta and I am doing my homework. Till homework sentence, the nlp output was nothing, lets see if it gives any output now.')\n",
    "print([(X.text, X.label_) for X in temp_doc.ents])\n",
    "\n",
    "# Strangely it did not give any output."
   ]
  },
  {
   "cell_type": "markdown",
   "id": "48f8fa16-b80d-4483-959f-ca7ab9e99823",
   "metadata": {},
   "source": [
    "###### IOB SCHEME\n",
    "###### I – Token is inside an entity.\n",
    "###### O – Token is outside an entity.\n",
    "###### B – Token is the beginning of an entity."
   ]
  },
  {
   "cell_type": "code",
   "execution_count": 15,
   "id": "033f072a-ab55-4e68-9bce-acd551ad3510",
   "metadata": {},
   "outputs": [
    {
     "name": "stdout",
     "output_type": "stream",
     "text": [
      "[(4/17/22, 'B', 'CARDINAL'), (,, 'O', ''), (12:48, 'B', 'TIME'), (AM, 'I', 'TIME'), (Fermilab, 'O', ''), (Says, 'O', ''), (Particle, 'O', ''), (Is, 'O', ''), (Heavy, 'O', ''), (Enough, 'O', ''), (to, 'O', ''), (Break, 'O', ''), (the, 'O', ''), (Standard, 'O', ''), (Model, 'O', ''), (|, 'O', ''), (Quanta, 'O', ''), (Magazine, 'O', ''), (\n",
      "\n",
      ", 'O', ''), (https://www.quantamagazine.org/fermilab-says-particle-is-heavy-enough-to-break-the-standard-model-20220407/, 'O', ''), (1/9, 'B', 'CARDINAL'), (\n",
      "\n",
      ", 'O', ''), (Newly, 'O', ''), (Measured, 'O', ''), (Particle, 'O', ''), (Seems, 'O', ''), (Heavy, 'O', ''), (Enough, 'O', ''), (to, 'O', ''), (Break, 'O', ''), (Known, 'O', ''), (Physics, 'O', ''), (\n",
      "\n",
      ", 'O', ''), (P, 'O', ''), (A, 'O', ''), (R, 'O', ''), (T, 'O', ''), (I, 'O', ''), (C, 'O', ''), (L, 'O', ''), (E, 'O', ''), ( , 'O', ''), (P, 'O', ''), (H, 'O', ''), (Y, 'O', ''), (S, 'O', ''), (I, 'O', ''), (C, 'O', ''), (S, 'O', ''), (\n",
      "\n",
      ", 'O', ''), (By, 'O', ''), (C, 'O', ''), (H, 'O', ''), (A, 'O', ''), (R, 'O', ''), (L, 'O', ''), (I, 'O', ''), (E, 'O', ''), ( , 'O', ''), (W, 'O', ''), (O, 'O', ''), (O, 'O', ''), (D, 'O', ''), (\n",
      "\n",
      ", 'O', ''), (April, 'B', 'DATE'), (7, 'I', 'DATE'), (,, 'O', ''), (2022, 'O', ''), (\n",
      "\n",
      ", 'O', ''), (A, 'O', ''), (new, 'O', ''), (analysis, 'O', ''), (of, 'O', ''), (W, 'O', ''), (bosons, 'O', ''), (suggests, 'O', ''), (these, 'O', ''), (particles, 'O', ''), (are, 'O', ''), (signi, 'O', ''), (�, 'O', ''), (cantly, 'O', ''), (heavier, 'O', ''), (than, 'O', ''), (predicted, 'O', ''), (by, 'O', ''), (the, 'O', ''), (Standard, 'O', ''), (Model, 'O', ''), (of, 'O', ''), (particle, 'O', ''), (physics, 'O', ''), (., 'O', ''), (\n",
      "\n",
      ", 'O', ''), (5, 'B', 'CARDINAL'), (\n",
      "\n",
      ", 'O', ''), (We, 'O', ''), (care, 'O', ''), (about, 'O', ''), (your, 'O', '')]\n"
     ]
    }
   ],
   "source": [
    "print([(X, X.ent_iob_, X.ent_type_) for X in doc][:100])"
   ]
  },
  {
   "cell_type": "markdown",
   "id": "45badbd2-436e-447d-8d8e-71da3ac0fb1b",
   "metadata": {},
   "source": [
    "### Explanation"
   ]
  },
  {
   "cell_type": "markdown",
   "id": "8ccfc50a-bc71-474b-8487-9ae350000c2b",
   "metadata": {},
   "source": [
    "Since the article is very very long, I have printed the output of 100 elements (but I have checked the complete output myself). Here, we can see that it has tokenized letters as well and marked outside of entity which makes sense. Moreover, it has also considered tokens inside the entity like time and cardinal. But we can see that for most of them it is outside the entity. As I already stated above that the entities that SpaCy can recognize are limited. [https://towardsdatascience.com/custom-named-entity-recognition-using-spacy-7140ebbb3718#:~:text=SpaCy%20NER%20already%20supports%20the,%2C%20agencies%2C%20institutions%2C%20etc.]\n"
   ]
  },
  {
   "cell_type": "code",
   "execution_count": 42,
   "id": "ffa08c4c-a9f6-4173-af11-1f886f90b00d",
   "metadata": {},
   "outputs": [],
   "source": [
    "def url_to_string(url):\n",
    "    res = requests.get(url)\n",
    "    html = res.text\n",
    "    soup = BeautifulSoup(html, 'html.parser')\n",
    "    for script in soup([\"script\", \"style\", 'aside']):\n",
    "        script.extract()\n",
    "        return \" \".join(re.split(r'[\\n\\t]+', soup.get_text()))"
   ]
  },
  {
   "cell_type": "code",
   "execution_count": 43,
   "id": "b4d74f28-363d-4039-b414-524964f00f6e",
   "metadata": {},
   "outputs": [
    {
     "data": {
      "text/plain": [
       "131"
      ]
     },
     "execution_count": 43,
     "metadata": {},
     "output_type": "execute_result"
    }
   ],
   "source": [
    "ny_bb = url_to_string(\"https://www.quantamagazine.org/fermilab-says-particle-is-heavy-enough-to-break-the-standard-model-20220407/\")\n",
    "article = nlp(ny_bb)\n",
    "len(article.ents)"
   ]
  },
  {
   "cell_type": "code",
   "execution_count": 19,
   "id": "bfcf25a0-badc-44e9-9c02-9e1c43682776",
   "metadata": {},
   "outputs": [
    {
     "data": {
      "text/plain": [
       "Counter({'PERSON': 22,\n",
       "         'DATE': 22,\n",
       "         'CARDINAL': 19,\n",
       "         'ORG': 47,\n",
       "         'PERCENT': 1,\n",
       "         'WORK_OF_ART': 2,\n",
       "         'GPE': 6,\n",
       "         'ORDINAL': 2,\n",
       "         'LOC': 7,\n",
       "         'QUANTITY': 1,\n",
       "         'TIME': 1,\n",
       "         'LANGUAGE': 1})"
      ]
     },
     "execution_count": 19,
     "metadata": {},
     "output_type": "execute_result"
    }
   ],
   "source": [
    "labels = [x.label_ for x in article.ents]\n",
    "Counter(labels)"
   ]
  },
  {
   "cell_type": "code",
   "execution_count": 20,
   "id": "3886f234-bab8-4626-8335-28a1c5bc63b3",
   "metadata": {},
   "outputs": [
    {
     "data": {
      "text/plain": [
       "Counter({'CARDINAL': 35,\n",
       "         'TIME': 9,\n",
       "         'DATE': 20,\n",
       "         'PERSON': 16,\n",
       "         'PERCENT': 1,\n",
       "         'WORK_OF_ART': 3,\n",
       "         'ORG': 36,\n",
       "         'GPE': 4,\n",
       "         'LOC': 7,\n",
       "         'PRODUCT': 1,\n",
       "         'QUANTITY': 1,\n",
       "         'ORDINAL': 1})"
      ]
     },
     "execution_count": 20,
     "metadata": {},
     "output_type": "execute_result"
    }
   ],
   "source": [
    "labels2 = [x.label_ for x in doc.ents]\n",
    "Counter(labels2)"
   ]
  },
  {
   "cell_type": "markdown",
   "id": "0bfb9900-eee6-47a8-a74f-96acc0cafd87",
   "metadata": {},
   "source": [
    "### Explanation"
   ]
  },
  {
   "cell_type": "markdown",
   "id": "b4628b88-4885-4015-88e2-c0f1ded22332",
   "metadata": {},
   "source": [
    "The number of labels found using the link of the article are different than the labels found in the pdf. That does make sense because if we open the pdf version, we have time and date of publication and more details than the website. But in anyway, we can see the prominent entitities like Person, Cardinal, and organization. These entities are prominent and it makes sense because this is a scientific paper that talks about scientists involved, their organization where they work and performed the experiments, and it also shares the numbers for the experiment results. "
   ]
  },
  {
   "cell_type": "markdown",
   "id": "2f192e22-bee0-47b3-b169-a26f8ca284ce",
   "metadata": {},
   "source": [
    "##### Will use article version for the rest of the question"
   ]
  },
  {
   "cell_type": "code",
   "execution_count": 28,
   "id": "61222a33-4506-4a17-a7b7-7f2505564e2b",
   "metadata": {},
   "outputs": [
    {
     "name": "stderr",
     "output_type": "stream",
     "text": [
      "C:\\Users\\Aliza Rafique\\AppData\\Local\\Programs\\Python\\Python39\\lib\\site-packages\\seaborn\\_decorators.py:36: FutureWarning: Pass the following variables as keyword args: x, y. From version 0.12, the only valid positional argument will be `data`, and passing other arguments without an explicit keyword will result in an error or misinterpretation.\n",
      "  warnings.warn(\n"
     ]
    },
    {
     "data": {
      "image/png": "[encoded data removed]",
      "text/plain": [
       "<Figure size 1080x720 with 1 Axes>"
      ]
     },
     "metadata": {},
     "output_type": "display_data"
    }
   ],
   "source": [
    "items = [x.text for x in article.ents]\n",
    "output = Counter(items).most_common(10)\n",
    "x = [i[0] for i in output]\n",
    "y = [i[1] for i in output]\n",
    "# PLOTTING\n",
    "ax = sns.barplot(x, y)\n",
    "ax.set(xlabel='Contents', ylabel='Mean')\n",
    "for p in ax.patches:\n",
    "    ax.annotate(format(p.get_height(), '.1f'), (p.get_x() + p.get_width() / 2., p.get_height()), ha = 'center', va = 'center', \n",
    "                xytext = (0, 9), textcoords = 'offset points')"
   ]
  },
  {
   "cell_type": "markdown",
   "id": "f374946a-24bd-4fa2-88ee-2dd62332e803",
   "metadata": {},
   "source": [
    "### Explanation"
   ]
  },
  {
   "cell_type": "markdown",
   "id": "9b54e8e3-07ec-4e01-87a4-61ceecc2f65f",
   "metadata": {},
   "source": [
    "Here, I have printed out top 10 most common items. The top one is CDF which is abbreviation of \"Collider Detector at Fermilab\" where the experiment was performed and therefore, of course it is discussed the most. The next is \"Tevatron\" which is also a particle collider. "
   ]
  },
  {
   "cell_type": "code",
   "execution_count": 32,
   "id": "8d238992-2df3-4985-83eb-ce7cd939a335",
   "metadata": {},
   "outputs": [
    {
     "name": "stdout",
     "output_type": "stream",
     "text": [
      "“This would be a complete change in how we see the world,” potentially even rivaling the 2012 discovery of the Higgs boson in significance, said Sven Heinemeyer, a physicist at the Institute for Theoretical Physics in Madrid who is not part of CDF.\n"
     ]
    }
   ],
   "source": [
    "sentences = [x for x in article.sents]\n",
    "print(sentences[10])"
   ]
  },
  {
   "cell_type": "code",
   "execution_count": 34,
   "id": "04bbce65-70f4-4607-8944-3f0efda9cd25",
   "metadata": {},
   "outputs": [
    {
     "data": {
      "text/html": [
       "<span class=\"tex2jax_ignore\"><div class=\"entities\" style=\"line-height: 2.5; direction: ltr\">“This would be a complete change in how we see the world,” potentially even rivaling the \n",
       "<mark class=\"entity\" style=\"background: #bfe1d9; padding: 0.45em 0.6em; margin: 0 0.25em; line-height: 1; border-radius: 0.35em;\">\n",
       "    2012\n",
       "    <span style=\"font-size: 0.8em; font-weight: bold; line-height: 1; border-radius: 0.35em; vertical-align: middle; margin-left: 0.5rem\">DATE</span>\n",
       "</mark>\n",
       " discovery of the Higgs boson in significance, said \n",
       "<mark class=\"entity\" style=\"background: #aa9cfc; padding: 0.45em 0.6em; margin: 0 0.25em; line-height: 1; border-radius: 0.35em;\">\n",
       "    Sven Heinemeyer\n",
       "    <span style=\"font-size: 0.8em; font-weight: bold; line-height: 1; border-radius: 0.35em; vertical-align: middle; margin-left: 0.5rem\">PERSON</span>\n",
       "</mark>\n",
       ", a physicist at \n",
       "<mark class=\"entity\" style=\"background: #7aecec; padding: 0.45em 0.6em; margin: 0 0.25em; line-height: 1; border-radius: 0.35em;\">\n",
       "    the Institute for Theoretical Physics\n",
       "    <span style=\"font-size: 0.8em; font-weight: bold; line-height: 1; border-radius: 0.35em; vertical-align: middle; margin-left: 0.5rem\">ORG</span>\n",
       "</mark>\n",
       " in \n",
       "<mark class=\"entity\" style=\"background: #feca74; padding: 0.45em 0.6em; margin: 0 0.25em; line-height: 1; border-radius: 0.35em;\">\n",
       "    Madrid\n",
       "    <span style=\"font-size: 0.8em; font-weight: bold; line-height: 1; border-radius: 0.35em; vertical-align: middle; margin-left: 0.5rem\">GPE</span>\n",
       "</mark>\n",
       " who is not part of \n",
       "<mark class=\"entity\" style=\"background: #7aecec; padding: 0.45em 0.6em; margin: 0 0.25em; line-height: 1; border-radius: 0.35em;\">\n",
       "    CDF\n",
       "    <span style=\"font-size: 0.8em; font-weight: bold; line-height: 1; border-radius: 0.35em; vertical-align: middle; margin-left: 0.5rem\">ORG</span>\n",
       "</mark>\n",
       ".</div></span>"
      ],
      "text/plain": [
       "<IPython.core.display.HTML object>"
      ]
     },
     "metadata": {},
     "output_type": "display_data"
    }
   ],
   "source": [
    "displacy.render(nlp(str(sentences[10])), jupyter=True, style='ent')"
   ]
  },
  {
   "cell_type": "markdown",
   "id": "e7b6907a-c68e-4fa5-9033-d08509044d9f",
   "metadata": {},
   "source": [
    "### Explanation"
   ]
  },
  {
   "cell_type": "markdown",
   "id": "5b0d5374-c8aa-4f71-b1ec-4528c2c722f4",
   "metadata": {},
   "source": [
    "Here, we can see how SpaCy has found the entities as before. "
   ]
  },
  {
   "cell_type": "code",
   "execution_count": 38,
   "id": "1c7d32fd-1bab-4904-8ff5-d89faf6ece74",
   "metadata": {},
   "outputs": [
    {
     "data": {
      "text/plain": [
       "{'2012': 'DATE',\n",
       " 'Sven Heinemeyer': 'PERSON',\n",
       " 'the Institute for Theoretical Physics': 'ORG',\n",
       " 'Madrid': 'GPE',\n",
       " 'CDF': 'ORG'}"
      ]
     },
     "execution_count": 38,
     "metadata": {},
     "output_type": "execute_result"
    }
   ],
   "source": [
    "dict([(str(x), x.label_) for x in nlp(str(sentences[10])).ents])"
   ]
  },
  {
   "cell_type": "markdown",
   "id": "5b327aa4-0986-434a-89b9-0a3b03790aa1",
   "metadata": {},
   "source": [
    "### Explanation"
   ]
  },
  {
   "cell_type": "markdown",
   "id": "84818944-d7d3-45f4-b3fd-be7d31fffc70",
   "metadata": {},
   "source": [
    "Another way of showing the entities. "
   ]
  },
  {
   "cell_type": "markdown",
   "id": "aa4fe67e-6187-4d58-a573-d4018927483f",
   "metadata": {},
   "source": [
    "### Lemmaization"
   ]
  },
  {
   "cell_type": "code",
   "execution_count": 40,
   "id": "d76c2570-c837-4e37-be0e-02446005c7b1",
   "metadata": {},
   "outputs": [
    {
     "data": {
      "text/plain": [
       "[('2017', 'NUM', '2017'),\n",
       " ('instance', 'NOUN', 'instance'),\n",
       " ('ATLAS', 'PROPN', 'ATLAS'),\n",
       " ('experiment', 'NOUN', 'experiment'),\n",
       " ('Europe', 'PROPN', 'Europe'),\n",
       " ('Large', 'ADJ', 'large'),\n",
       " ('Hadron', 'PROPN', 'Hadron'),\n",
       " ('Collider', 'PROPN', 'Collider'),\n",
       " ('measured', 'VERB', 'measure'),\n",
       " ('W', 'PROPN', 'W'),\n",
       " ('particle', 'NOUN', 'particle'),\n",
       " ('mass', 'NOUN', 'mass'),\n",
       " ('found', 'VERB', 'find'),\n",
       " ('hair', 'NOUN', 'hair'),\n",
       " ('heavier', 'ADJ', 'heavy'),\n",
       " ('Standard', 'PROPN', 'Standard'),\n",
       " ('Model', 'PROPN', 'Model'),\n",
       " ('says', 'VERB', 'say')]"
      ]
     },
     "execution_count": 40,
     "metadata": {},
     "output_type": "execute_result"
    }
   ],
   "source": [
    "[(x.orth_,x.pos_, x.lemma_) for x in [y for y in nlp(str(sentences[20])) if not y.is_stop and y.pos_ != 'PUNCT']]"
   ]
  },
  {
   "cell_type": "markdown",
   "id": "961d3cd3-285b-4471-b9c5-6092d74cb640",
   "metadata": {},
   "source": [
    "### Explanation"
   ]
  },
  {
   "cell_type": "markdown",
   "id": "3272a376-1445-42f4-98e5-cd1c8487ad87",
   "metadata": {},
   "source": [
    "Here some of the words categories are correction for example nouns and verbs. But for expecially pronoun, it has not be correctly identified. "
   ]
  },
  {
   "cell_type": "code",
   "execution_count": 41,
   "id": "14ff662d-b6f7-4270-ab44-cc0caf49c04d",
   "metadata": {},
   "outputs": [
    {
     "data": {
      "text/html": [
       "<span class=\"tex2jax_ignore\"><div class=\"entities\" style=\"line-height: 2.5; direction: ltr\">rticles are significantly heavier than predicted by the Standard Model of particle physics., \n",
       "<mark class=\"entity\" style=\"background: #aa9cfc; padding: 0.45em 0.6em; margin: 0 0.25em; line-height: 1; border-radius: 0.35em;\">\n",
       "    Read LaterThe\n",
       "    <span style=\"font-size: 0.8em; font-weight: bold; line-height: 1; border-radius: 0.35em; vertical-align: middle; margin-left: 0.5rem\">PERSON</span>\n",
       "</mark>\n",
       " curious heaviness of the W boson, \n",
       "<mark class=\"entity\" style=\"background: #e4e7d2; padding: 0.45em 0.6em; margin: 0 0.25em; line-height: 1; border-radius: 0.35em;\">\n",
       "    one\n",
       "    <span style=\"font-size: 0.8em; font-weight: bold; line-height: 1; border-radius: 0.35em; vertical-align: middle; margin-left: 0.5rem\">CARDINAL</span>\n",
       "</mark>\n",
       " of \n",
       "<mark class=\"entity\" style=\"background: #e4e7d2; padding: 0.45em 0.6em; margin: 0 0.25em; line-height: 1; border-radius: 0.35em;\">\n",
       "    17\n",
       "    <span style=\"font-size: 0.8em; font-weight: bold; line-height: 1; border-radius: 0.35em; vertical-align: middle; margin-left: 0.5rem\">CARDINAL</span>\n",
       "</mark>\n",
       " known elementary particles, may point to unknown particles or forces., \n",
       "<mark class=\"entity\" style=\"background: #aa9cfc; padding: 0.45em 0.6em; margin: 0 0.25em; line-height: 1; border-radius: 0.35em;\">\n",
       "    Samuel Velasco/Quanta Magazine\n",
       "    <span style=\"font-size: 0.8em; font-weight: bold; line-height: 1; border-radius: 0.35em; vertical-align: middle; margin-left: 0.5rem\">PERSON</span>\n",
       "</mark>\n",
       " \n",
       "<mark class=\"entity\" style=\"background: #aa9cfc; padding: 0.45em 0.6em; margin: 0 0.25em; line-height: 1; border-radius: 0.35em;\">\n",
       "    Charlie WoodStaff\n",
       "    <span style=\"font-size: 0.8em; font-weight: bold; line-height: 1; border-radius: 0.35em; vertical-align: middle; margin-left: 0.5rem\">PERSON</span>\n",
       "</mark>\n",
       ", \n",
       "<mark class=\"entity\" style=\"background: #7aecec; padding: 0.45em 0.6em; margin: 0 0.25em; line-height: 1; border-radius: 0.35em;\">\n",
       "    WriterApril 7\n",
       "    <span style=\"font-size: 0.8em; font-weight: bold; line-height: 1; border-radius: 0.35em; vertical-align: middle; margin-left: 0.5rem\">ORG</span>\n",
       "</mark>\n",
       ", \n",
       "<mark class=\"entity\" style=\"background: #e4e7d2; padding: 0.45em 0.6em; margin: 0 0.25em; line-height: 1; border-radius: 0.35em;\">\n",
       "    2022View\n",
       "    <span style=\"font-size: 0.8em; font-weight: bold; line-height: 1; border-radius: 0.35em; vertical-align: middle; margin-left: 0.5rem\">CARDINAL</span>\n",
       "</mark>\n",
       " \n",
       "<mark class=\"entity\" style=\"background: #7aecec; padding: 0.45em 0.6em; margin: 0 0.25em; line-height: 1; border-radius: 0.35em;\">\n",
       "    PDF/Print ModeAbstractions\n",
       "    <span style=\"font-size: 0.8em; font-weight: bold; line-height: 1; border-radius: 0.35em; vertical-align: middle; margin-left: 0.5rem\">ORG</span>\n",
       "</mark>\n",
       " blogexperimental physicsparticle physicsphysicsstandard modeltheoretical physicsAll topicsPhysicists have found that an elementary particle called the W boson appears to be \n",
       "<mark class=\"entity\" style=\"background: #e4e7d2; padding: 0.45em 0.6em; margin: 0 0.25em; line-height: 1; border-radius: 0.35em;\">\n",
       "    0.1%\n",
       "    <span style=\"font-size: 0.8em; font-weight: bold; line-height: 1; border-radius: 0.35em; vertical-align: middle; margin-left: 0.5rem\">PERCENT</span>\n",
       "</mark>\n",
       " too heavy — a tiny discrepancy that could foreshadow a huge shift in fundamental physics., The measurement, reported \n",
       "<mark class=\"entity\" style=\"background: #bfe1d9; padding: 0.45em 0.6em; margin: 0 0.25em; line-height: 1; border-radius: 0.35em;\">\n",
       "    today\n",
       "    <span style=\"font-size: 0.8em; font-weight: bold; line-height: 1; border-radius: 0.35em; vertical-align: middle; margin-left: 0.5rem\">DATE</span>\n",
       "</mark>\n",
       " in the journal \n",
       "<mark class=\"entity\" style=\"background: #f0d0ff; padding: 0.45em 0.6em; margin: 0 0.25em; line-height: 1; border-radius: 0.35em;\">\n",
       "    Science\n",
       "    <span style=\"font-size: 0.8em; font-weight: bold; line-height: 1; border-radius: 0.35em; vertical-align: middle; margin-left: 0.5rem\">WORK_OF_ART</span>\n",
       "</mark>\n",
       ", comes from a vintage particle collider at \n",
       "<mark class=\"entity\" style=\"background: #7aecec; padding: 0.45em 0.6em; margin: 0 0.25em; line-height: 1; border-radius: 0.35em;\">\n",
       "    the Fermi National Accelerator Laboratory\n",
       "    <span style=\"font-size: 0.8em; font-weight: bold; line-height: 1; border-radius: 0.35em; vertical-align: middle; margin-left: 0.5rem\">ORG</span>\n",
       "</mark>\n",
       " in \n",
       "<mark class=\"entity\" style=\"background: #feca74; padding: 0.45em 0.6em; margin: 0 0.25em; line-height: 1; border-radius: 0.35em;\">\n",
       "    Batavia\n",
       "    <span style=\"font-size: 0.8em; font-weight: bold; line-height: 1; border-radius: 0.35em; vertical-align: middle; margin-left: 0.5rem\">GPE</span>\n",
       "</mark>\n",
       ", \n",
       "<mark class=\"entity\" style=\"background: #feca74; padding: 0.45em 0.6em; margin: 0 0.25em; line-height: 1; border-radius: 0.35em;\">\n",
       "    Illinois\n",
       "    <span style=\"font-size: 0.8em; font-weight: bold; line-height: 1; border-radius: 0.35em; vertical-align: middle; margin-left: 0.5rem\">GPE</span>\n",
       "</mark>\n",
       ", that smashed its final protons \n",
       "<mark class=\"entity\" style=\"background: #bfe1d9; padding: 0.45em 0.6em; margin: 0 0.25em; line-height: 1; border-radius: 0.35em;\">\n",
       "    a decade ago\n",
       "    <span style=\"font-size: 0.8em; font-weight: bold; line-height: 1; border-radius: 0.35em; vertical-align: middle; margin-left: 0.5rem\">DATE</span>\n",
       "</mark>\n",
       "., The \n",
       "<mark class=\"entity\" style=\"background: #e4e7d2; padding: 0.45em 0.6em; margin: 0 0.25em; line-height: 1; border-radius: 0.35em;\">\n",
       "    roughly 400\n",
       "    <span style=\"font-size: 0.8em; font-weight: bold; line-height: 1; border-radius: 0.35em; vertical-align: middle; margin-left: 0.5rem\">CARDINAL</span>\n",
       "</mark>\n",
       " members of \n",
       "<mark class=\"entity\" style=\"background: #7aecec; padding: 0.45em 0.6em; margin: 0 0.25em; line-height: 1; border-radius: 0.35em;\">\n",
       "    the Collider Detector at\n",
       "    <span style=\"font-size: 0.8em; font-weight: bold; line-height: 1; border-radius: 0.35em; vertical-align: middle; margin-left: 0.5rem\">ORG</span>\n",
       "</mark>\n",
       " Fermilab (\n",
       "<mark class=\"entity\" style=\"background: #7aecec; padding: 0.45em 0.6em; margin: 0 0.25em; line-height: 1; border-radius: 0.35em;\">\n",
       "    CDF\n",
       "    <span style=\"font-size: 0.8em; font-weight: bold; line-height: 1; border-radius: 0.35em; vertical-align: middle; margin-left: 0.5rem\">ORG</span>\n",
       "</mark>\n",
       ") collaboration have continued to analyze W bosons produced by the collider, called the \n",
       "<mark class=\"entity\" style=\"background: #7aecec; padding: 0.45em 0.6em; margin: 0 0.25em; line-height: 1; border-radius: 0.35em;\">\n",
       "    Tevatron\n",
       "    <span style=\"font-size: 0.8em; font-weight: bold; line-height: 1; border-radius: 0.35em; vertical-align: middle; margin-left: 0.5rem\">ORG</span>\n",
       "</mark>\n",
       ", chasing down myriad sources of error to reach an unparalleled level of precision., If the W’s excess heft relative to the standard theoretical prediction can be independently confirmed, the finding would imply the existence of undiscovered particles or forces and would bring about the \n",
       "<mark class=\"entity\" style=\"background: #e4e7d2; padding: 0.45em 0.6em; margin: 0 0.25em; line-height: 1; border-radius: 0.35em;\">\n",
       "    first\n",
       "    <span style=\"font-size: 0.8em; font-weight: bold; line-height: 1; border-radius: 0.35em; vertical-align: middle; margin-left: 0.5rem\">ORDINAL</span>\n",
       "</mark>\n",
       " major rewriting of the laws of \n",
       "<mark class=\"entity\" style=\"background: #7aecec; padding: 0.45em 0.6em; margin: 0 0.25em; line-height: 1; border-radius: 0.35em;\">\n",
       "    quantum physics\n",
       "    <span style=\"font-size: 0.8em; font-weight: bold; line-height: 1; border-radius: 0.35em; vertical-align: middle; margin-left: 0.5rem\">ORG</span>\n",
       "</mark>\n",
       " in \n",
       "<mark class=\"entity\" style=\"background: #bfe1d9; padding: 0.45em 0.6em; margin: 0 0.25em; line-height: 1; border-radius: 0.35em;\">\n",
       "    half a century\n",
       "    <span style=\"font-size: 0.8em; font-weight: bold; line-height: 1; border-radius: 0.35em; vertical-align: middle; margin-left: 0.5rem\">DATE</span>\n",
       "</mark>\n",
       "., “This would be a complete change in how we see the world,” potentially even rivaling the \n",
       "<mark class=\"entity\" style=\"background: #bfe1d9; padding: 0.45em 0.6em; margin: 0 0.25em; line-height: 1; border-radius: 0.35em;\">\n",
       "    2012\n",
       "    <span style=\"font-size: 0.8em; font-weight: bold; line-height: 1; border-radius: 0.35em; vertical-align: middle; margin-left: 0.5rem\">DATE</span>\n",
       "</mark>\n",
       " discovery of the Higgs boson in significance, said \n",
       "<mark class=\"entity\" style=\"background: #aa9cfc; padding: 0.45em 0.6em; margin: 0 0.25em; line-height: 1; border-radius: 0.35em;\">\n",
       "    Sven Heinemeyer\n",
       "    <span style=\"font-size: 0.8em; font-weight: bold; line-height: 1; border-radius: 0.35em; vertical-align: middle; margin-left: 0.5rem\">PERSON</span>\n",
       "</mark>\n",
       ", a physicist at \n",
       "<mark class=\"entity\" style=\"background: #7aecec; padding: 0.45em 0.6em; margin: 0 0.25em; line-height: 1; border-radius: 0.35em;\">\n",
       "    the Institute for Theoretical Physics\n",
       "    <span style=\"font-size: 0.8em; font-weight: bold; line-height: 1; border-radius: 0.35em; vertical-align: middle; margin-left: 0.5rem\">ORG</span>\n",
       "</mark>\n",
       " in \n",
       "<mark class=\"entity\" style=\"background: #feca74; padding: 0.45em 0.6em; margin: 0 0.25em; line-height: 1; border-radius: 0.35em;\">\n",
       "    Madrid\n",
       "    <span style=\"font-size: 0.8em; font-weight: bold; line-height: 1; border-radius: 0.35em; vertical-align: middle; margin-left: 0.5rem\">GPE</span>\n",
       "</mark>\n",
       " who is not part of \n",
       "<mark class=\"entity\" style=\"background: #7aecec; padding: 0.45em 0.6em; margin: 0 0.25em; line-height: 1; border-radius: 0.35em;\">\n",
       "    CDF\n",
       "    <span style=\"font-size: 0.8em; font-weight: bold; line-height: 1; border-radius: 0.35em; vertical-align: middle; margin-left: 0.5rem\">ORG</span>\n",
       "</mark>\n",
       "., “\n",
       "<mark class=\"entity\" style=\"background: #f0d0ff; padding: 0.45em 0.6em; margin: 0 0.25em; line-height: 1; border-radius: 0.35em;\">\n",
       "    The Higgs\n",
       "    <span style=\"font-size: 0.8em; font-weight: bold; line-height: 1; border-radius: 0.35em; vertical-align: middle; margin-left: 0.5rem\">WORK_OF_ART</span>\n",
       "</mark>\n",
       " fit well into the previously known picture., This one would be a completely new area to be entered.”, The finding comes at a time when the physics community hungers for flaws in the Standard Model of particle physics, the long-reigning set of equations capturing all known particles and forces., \n",
       "<mark class=\"entity\" style=\"background: #7aecec; padding: 0.45em 0.6em; margin: 0 0.25em; line-height: 1; border-radius: 0.35em;\">\n",
       "    The Standard Model\n",
       "    <span style=\"font-size: 0.8em; font-weight: bold; line-height: 1; border-radius: 0.35em; vertical-align: middle; margin-left: 0.5rem\">ORG</span>\n",
       "</mark>\n",
       " is known to be incomplete, leaving various grand mysteries unsolved, such as the nature of dark matter., The \n",
       "<mark class=\"entity\" style=\"background: #7aecec; padding: 0.45em 0.6em; margin: 0 0.25em; line-height: 1; border-radius: 0.35em;\">\n",
       "    CDF\n",
       "    <span style=\"font-size: 0.8em; font-weight: bold; line-height: 1; border-radius: 0.35em; vertical-align: middle; margin-left: 0.5rem\">ORG</span>\n",
       "</mark>\n",
       " collaboration’s strong track record makes their new result a credible threat to the Standard Model., “They’ve produced \n",
       "<mark class=\"entity\" style=\"background: #e4e7d2; padding: 0.45em 0.6em; margin: 0 0.25em; line-height: 1; border-radius: 0.35em;\">\n",
       "    hundreds\n",
       "    <span style=\"font-size: 0.8em; font-weight: bold; line-height: 1; border-radius: 0.35em; vertical-align: middle; margin-left: 0.5rem\">CARDINAL</span>\n",
       "</mark>\n",
       " of beautiful measurements,” said \n",
       "<mark class=\"entity\" style=\"background: #aa9cfc; padding: 0.45em 0.6em; margin: 0 0.25em; line-height: 1; border-radius: 0.35em;\">\n",
       "    Aida El-Khadra\n",
       "    <span style=\"font-size: 0.8em; font-weight: bold; line-height: 1; border-radius: 0.35em; vertical-align: middle; margin-left: 0.5rem\">PERSON</span>\n",
       "</mark>\n",
       ", a theoretical physicist at \n",
       "<mark class=\"entity\" style=\"background: #7aecec; padding: 0.45em 0.6em; margin: 0 0.25em; line-height: 1; border-radius: 0.35em;\">\n",
       "    the University of Illinois, Urbana-Champaign\n",
       "    <span style=\"font-size: 0.8em; font-weight: bold; line-height: 1; border-radius: 0.35em; vertical-align: middle; margin-left: 0.5rem\">ORG</span>\n",
       "</mark>\n",
       "., “They’re known to be careful.”, But no one is popping champagne yet., While the new \n",
       "<mark class=\"entity\" style=\"background: #ff9561; padding: 0.45em 0.6em; margin: 0 0.25em; line-height: 1; border-radius: 0.35em;\">\n",
       "    W\n",
       "    <span style=\"font-size: 0.8em; font-weight: bold; line-height: 1; border-radius: 0.35em; vertical-align: middle; margin-left: 0.5rem\">LOC</span>\n",
       "</mark>\n",
       " mass measurement, taken alone, departs starkly from the Standard Model’s prediction, other experiments weighing the W have produced less dramatic (albeit less precise) results., In \n",
       "<mark class=\"entity\" style=\"background: #bfe1d9; padding: 0.45em 0.6em; margin: 0 0.25em; line-height: 1; border-radius: 0.35em;\">\n",
       "    2017\n",
       "    <span style=\"font-size: 0.8em; font-weight: bold; line-height: 1; border-radius: 0.35em; vertical-align: middle; margin-left: 0.5rem\">DATE</span>\n",
       "</mark>\n",
       ", for instance, the \n",
       "<mark class=\"entity\" style=\"background: #7aecec; padding: 0.45em 0.6em; margin: 0 0.25em; line-height: 1; border-radius: 0.35em;\">\n",
       "    ATLAS\n",
       "    <span style=\"font-size: 0.8em; font-weight: bold; line-height: 1; border-radius: 0.35em; vertical-align: middle; margin-left: 0.5rem\">ORG</span>\n",
       "</mark>\n",
       " experiment at \n",
       "<mark class=\"entity\" style=\"background: #ff9561; padding: 0.45em 0.6em; margin: 0 0.25em; line-height: 1; border-radius: 0.35em;\">\n",
       "    Europe\n",
       "    <span style=\"font-size: 0.8em; font-weight: bold; line-height: 1; border-radius: 0.35em; vertical-align: middle; margin-left: 0.5rem\">LOC</span>\n",
       "</mark>\n",
       "’s Large Hadron Collider measured the W particle’s mass and found it to be only a hair heavier than what the Standard Model says., The clash between \n",
       "<mark class=\"entity\" style=\"background: #7aecec; padding: 0.45em 0.6em; margin: 0 0.25em; line-height: 1; border-radius: 0.35em;\">\n",
       "    CDF\n",
       "    <span style=\"font-size: 0.8em; font-weight: bold; line-height: 1; border-radius: 0.35em; vertical-align: middle; margin-left: 0.5rem\">ORG</span>\n",
       "</mark>\n",
       " and \n",
       "<mark class=\"entity\" style=\"background: #7aecec; padding: 0.45em 0.6em; margin: 0 0.25em; line-height: 1; border-radius: 0.35em;\">\n",
       "    ATLAS\n",
       "    <span style=\"font-size: 0.8em; font-weight: bold; line-height: 1; border-radius: 0.35em; vertical-align: middle; margin-left: 0.5rem\">ORG</span>\n",
       "</mark>\n",
       " suggests that \n",
       "<mark class=\"entity\" style=\"background: #e4e7d2; padding: 0.45em 0.6em; margin: 0 0.25em; line-height: 1; border-radius: 0.35em;\">\n",
       "    one\n",
       "    <span style=\"font-size: 0.8em; font-weight: bold; line-height: 1; border-radius: 0.35em; vertical-align: middle; margin-left: 0.5rem\">CARDINAL</span>\n",
       "</mark>\n",
       " or both groups has overlooked some subtle quirk of their experiments., “I would like it to be confirmed and to understand the difference from prior measurements,” said \n",
       "<mark class=\"entity\" style=\"background: #aa9cfc; padding: 0.45em 0.6em; margin: 0 0.25em; line-height: 1; border-radius: 0.35em;\">\n",
       "    Guillaume Unal\n",
       "    <span style=\"font-size: 0.8em; font-weight: bold; line-height: 1; border-radius: 0.35em; vertical-align: middle; margin-left: 0.5rem\">PERSON</span>\n",
       "</mark>\n",
       ", a physicist at \n",
       "<mark class=\"entity\" style=\"background: #7aecec; padding: 0.45em 0.6em; margin: 0 0.25em; line-height: 1; border-radius: 0.35em;\">\n",
       "    CERN\n",
       "    <span style=\"font-size: 0.8em; font-weight: bold; line-height: 1; border-radius: 0.35em; vertical-align: middle; margin-left: 0.5rem\">ORG</span>\n",
       "</mark>\n",
       ", the laboratory that houses the Large Hadron Collider, and a member of the \n",
       "<mark class=\"entity\" style=\"background: #7aecec; padding: 0.45em 0.6em; margin: 0 0.25em; line-height: 1; border-radius: 0.35em;\">\n",
       "    ATLAS\n",
       "    <span style=\"font-size: 0.8em; font-weight: bold; line-height: 1; border-radius: 0.35em; vertical-align: middle; margin-left: 0.5rem\">ORG</span>\n",
       "</mark>\n",
       " experiment., “The W boson has to be the same on both sides of the \n",
       "<mark class=\"entity\" style=\"background: #ff9561; padding: 0.45em 0.6em; margin: 0 0.25em; line-height: 1; border-radius: 0.35em;\">\n",
       "    Atlantic\n",
       "    <span style=\"font-size: 0.8em; font-weight: bold; line-height: 1; border-radius: 0.35em; vertical-align: middle; margin-left: 0.5rem\">LOC</span>\n",
       "</mark>\n",
       ".”, “It’s a monumental piece of work,” said \n",
       "<mark class=\"entity\" style=\"background: #aa9cfc; padding: 0.45em 0.6em; margin: 0 0.25em; line-height: 1; border-radius: 0.35em;\">\n",
       "    Frank Wilczek\n",
       "    <span style=\"font-size: 0.8em; font-weight: bold; line-height: 1; border-radius: 0.35em; vertical-align: middle; margin-left: 0.5rem\">PERSON</span>\n",
       "</mark>\n",
       ", \n",
       "<mark class=\"entity\" style=\"background: #f0d0ff; padding: 0.45em 0.6em; margin: 0 0.25em; line-height: 1; border-radius: 0.35em;\">\n",
       "    a Nobel Prize\n",
       "    <span style=\"font-size: 0.8em; font-weight: bold; line-height: 1; border-radius: 0.35em; vertical-align: middle; margin-left: 0.5rem\">WORK_OF_ART</span>\n",
       "</mark>\n",
       "-winning physicist at \n",
       "<mark class=\"entity\" style=\"background: #7aecec; padding: 0.45em 0.6em; margin: 0 0.25em; line-height: 1; border-radius: 0.35em;\">\n",
       "    the Massachusetts Institute of Technology\n",
       "    <span style=\"font-size: 0.8em; font-weight: bold; line-height: 1; border-radius: 0.35em; vertical-align: middle; margin-left: 0.5rem\">ORG</span>\n",
       "</mark>\n",
       ", “but it’s very hard to know what to do with it.”, Weak \n",
       "<mark class=\"entity\" style=\"background: #aa9cfc; padding: 0.45em 0.6em; margin: 0 0.25em; line-height: 1; border-radius: 0.35em;\">\n",
       "    Bosons W\n",
       "    <span style=\"font-size: 0.8em; font-weight: bold; line-height: 1; border-radius: 0.35em; vertical-align: middle; margin-left: 0.5rem\">PERSON</span>\n",
       "</mark>\n",
       " bosons, together with Z bosons, mediate the weak force, one of the universe’s \n",
       "<mark class=\"entity\" style=\"background: #e4e7d2; padding: 0.45em 0.6em; margin: 0 0.25em; line-height: 1; border-radius: 0.35em;\">\n",
       "    four\n",
       "    <span style=\"font-size: 0.8em; font-weight: bold; line-height: 1; border-radius: 0.35em; vertical-align: middle; margin-left: 0.5rem\">CARDINAL</span>\n",
       "</mark>\n",
       " fundamental forces., Unlike gravity, electromagnetism and the strong force, the weak force doesn’t push or pull so much as it transforms heavier particles into lighter ones., A muon spontaneously decays into a W boson and a neutrino, for instance, and the W then becomes an electron and another neutrino., Related subatomic shape-shifting causes radioactivity and helps keep the sun shining., Assorted experiments have measured the W and Z bosons’ masses over \n",
       "<mark class=\"entity\" style=\"background: #bfe1d9; padding: 0.45em 0.6em; margin: 0 0.25em; line-height: 1; border-radius: 0.35em;\">\n",
       "    the last 40 years\n",
       "    <span style=\"font-size: 0.8em; font-weight: bold; line-height: 1; border-radius: 0.35em; vertical-align: middle; margin-left: 0.5rem\">DATE</span>\n",
       "</mark>\n",
       "., The W boson’s mass has proved an especially alluring target., Whereas other particle masses must simply be measured and accepted as facts of nature, the W mass can be predicted by combining a handful of other measurable quantum properties in the Standard Model equations., Share this article   Copied!NewsletterGet \n",
       "<mark class=\"entity\" style=\"background: #7aecec; padding: 0.45em 0.6em; margin: 0 0.25em; line-height: 1; border-radius: 0.35em;\">\n",
       "    Quanta Magazine\n",
       "    <span style=\"font-size: 0.8em; font-weight: bold; line-height: 1; border-radius: 0.35em; vertical-align: middle; margin-left: 0.5rem\">ORG</span>\n",
       "</mark>\n",
       " delivered to your inboxSubscribe nowRecent newslettersVideo:, The Standard Model of particle physics is the most successful scientific theory of all time., In this explainer, \n",
       "<mark class=\"entity\" style=\"background: #7aecec; padding: 0.45em 0.6em; margin: 0 0.25em; line-height: 1; border-radius: 0.35em;\">\n",
       "    Cambridge University\n",
       "    <span style=\"font-size: 0.8em; font-weight: bold; line-height: 1; border-radius: 0.35em; vertical-align: middle; margin-left: 0.5rem\">ORG</span>\n",
       "</mark>\n",
       " physicist \n",
       "<mark class=\"entity\" style=\"background: #aa9cfc; padding: 0.45em 0.6em; margin: 0 0.25em; line-height: 1; border-radius: 0.35em;\">\n",
       "    David Tong\n",
       "    <span style=\"font-size: 0.8em; font-weight: bold; line-height: 1; border-radius: 0.35em; vertical-align: middle; margin-left: 0.5rem\">PERSON</span>\n",
       "</mark>\n",
       " recreates the model, piece by piece, to provide some intuition for ho</div></span>"
      ],
      "text/plain": [
       "<IPython.core.display.HTML object>"
      ]
     },
     "metadata": {},
     "output_type": "display_data"
    }
   ],
   "source": [
    "displacy.render(nlp(str(sentences)[500:5000]), jupyter=True, style='ent')"
   ]
  },
  {
   "cell_type": "markdown",
   "id": "cd53f454-db09-4609-b309-c68f9b85c4cc",
   "metadata": {},
   "source": [
    "### Explanation"
   ]
  },
  {
   "cell_type": "markdown",
   "id": "a7af0882-3828-442e-9e49-9de47a515c1e",
   "metadata": {},
   "source": [
    "This is smilar to what we did above. For this since the article is long, I have picked the string from 500th index to 5000th index for the output. Here, we can see the prominent entities for this particular range."
   ]
  },
  {
   "cell_type": "markdown",
   "id": "c2c768a1-e553-4550-9238-a1e1b50e2777",
   "metadata": {},
   "source": [
    "## Question 2: Word frequency and Keyword Extraction Analysis"
   ]
  },
  {
   "cell_type": "markdown",
   "id": "ac0d4b44-4c75-4fc1-b241-19e89a32c0e0",
   "metadata": {},
   "source": [
    "The research paper that I am analyzing is from IEEE and this link [https://ieeexplore.ieee.org/abstract/document/9064519]."
   ]
  },
  {
   "cell_type": "markdown",
   "id": "12a44a2c-9974-480b-93ef-b15b7619c1b4",
   "metadata": {},
   "source": [
    "### PDF Parser"
   ]
  },
  {
   "cell_type": "code",
   "execution_count": 51,
   "id": "5d56f35c-90b9-4f19-b64a-210d2059cfeb",
   "metadata": {},
   "outputs": [],
   "source": [
    "raw = parser.from_file('2020.2987324.pdf')"
   ]
  },
  {
   "cell_type": "markdown",
   "id": "d363b707-b9ed-40b3-84a3-e01a6f2ea021",
   "metadata": {},
   "source": [
    "### Word Frequency"
   ]
  },
  {
   "cell_type": "markdown",
   "id": "38277079-79b6-4855-9b44-be140ffdd09c",
   "metadata": {},
   "source": [
    "#### Using NLTK"
   ]
  },
  {
   "cell_type": "code",
   "execution_count": 53,
   "id": "448a8607-490d-4f51-b5d8-31ee1aa8f3ab",
   "metadata": {},
   "outputs": [],
   "source": [
    "tokenize_words = nltk.tokenize.word_tokenize(raw['content'])\n",
    "stopwords = nltk.corpus.stopwords.words('english')\n",
    "stopwords.extend([\"T\", \"J\", \"D\", \"S\", \"M\", \"H\", \"et al\", \"et\", \"pp\", \"a.\", \"m.\", \"d.\", \"j.\", \"s.\", \"r.\", \"c.\", \"t.\"])\n",
    "no_stopwords = [word for word in tokenize_words if word.lower() not in stopwords]\n",
    "\n",
    "# remove punctuation, count raw words\n",
    "nonPunct = re.compile('.*[A-Za-z].*')\n",
    "clean_words = [w for w in no_stopwords if nonPunct.match(w)]\n",
    "    \n",
    "filtered_word_freq = nltk.FreqDist(clean_words)"
   ]
  },
  {
   "cell_type": "code",
   "execution_count": 54,
   "id": "a1de3846-b83b-4b11-b75d-1bb7a0ec0ef3",
   "metadata": {},
   "outputs": [
    {
     "data": {
      "text/plain": [
       "[('data', 262),\n",
       " ('vol', 154),\n",
       " ('model', 130),\n",
       " ('models', 128),\n",
       " ('CPS', 114),\n",
       " ('systems', 103),\n",
       " ('learning', 102),\n",
       " ('system', 101),\n",
       " ('hybrid', 99),\n",
       " ('modeling', 95),\n",
       " ('ML', 84),\n",
       " ('used', 70),\n",
       " ('Proc', 68),\n",
       " ('K.', 60),\n",
       " ('IEEE', 58),\n",
       " ('Physics', 55),\n",
       " ('P.', 55),\n",
       " ('physics', 54),\n",
       " ('MB', 53),\n",
       " ('dynamics', 53)]"
      ]
     },
     "execution_count": 54,
     "metadata": {},
     "output_type": "execute_result"
    }
   ],
   "source": [
    "filtered_word_freq.most_common(20)"
   ]
  },
  {
   "cell_type": "code",
   "execution_count": 57,
   "id": "4b248812-ade9-4fec-bfa7-fee6ced7de38",
   "metadata": {},
   "outputs": [
    {
     "name": "stderr",
     "output_type": "stream",
     "text": [
      "C:\\Users\\Aliza Rafique\\AppData\\Local\\Programs\\Python\\Python39\\lib\\site-packages\\seaborn\\_decorators.py:36: FutureWarning: Pass the following variables as keyword args: x, y. From version 0.12, the only valid positional argument will be `data`, and passing other arguments without an explicit keyword will result in an error or misinterpretation.\n",
      "  warnings.warn(\n"
     ]
    },
    {
     "data": {
      "image/png": "[encoded data removed]",
      "text/plain": [
       "<Figure size 1080x720 with 1 Axes>"
      ]
     },
     "metadata": {},
     "output_type": "display_data"
    }
   ],
   "source": [
    "words = filtered_word_freq.most_common(20)\n",
    "# Visualizing\n",
    "x = [i[0] for i in words]\n",
    "y = [i[1] for i in words]\n",
    "# PLOTTING\n",
    "ax = sns.barplot(x, y)\n",
    "ax.set(xlabel='Contents', ylabel='Mean')\n",
    "for p in ax.patches:\n",
    "    ax.annotate(format(p.get_height(), '.1f'), (p.get_x() + p.get_width() / 2., p.get_height()), ha = 'center', va = 'center', \n",
    "                xytext = (0, 9), textcoords = 'offset points')"
   ]
  },
  {
   "cell_type": "markdown",
   "id": "2c4b568c-3ffe-46df-9559-a0699e05c8e3",
   "metadata": {},
   "source": [
    "#### Explanation"
   ]
  },
  {
   "cell_type": "markdown",
   "id": "a6ebb784-4b31-4171-80c5-199065e29c76",
   "metadata": {},
   "source": [
    "From this graph, we can see that the top most word that was used throughout the research paper is data then it is \"vol\" (which when I checked basically refers to volume and has appeared a lot in the references section of the paper) and after that we have model and models and so on. "
   ]
  },
  {
   "cell_type": "markdown",
   "id": "47bb3b54-565a-42b6-b122-b567b71234b2",
   "metadata": {},
   "source": [
    "#### Using SpaCy"
   ]
  },
  {
   "cell_type": "code",
   "execution_count": 70,
   "id": "fb7548aa-99be-4949-a485-1acddf29bc21",
   "metadata": {},
   "outputs": [],
   "source": [
    "nlp = spacy.load('en_core_web_sm')\n",
    "doc = nlp(raw['content'])"
   ]
  },
  {
   "cell_type": "code",
   "execution_count": 71,
   "id": "954d4bb2-ddb8-4f7b-9acd-f709321ab9f4",
   "metadata": {},
   "outputs": [],
   "source": [
    "raw['content'] = raw['content'].strip(\"\\n\")"
   ]
  },
  {
   "cell_type": "code",
   "execution_count": 72,
   "id": "497887aa-9e95-49c1-98e0-dd3e581e75a9",
   "metadata": {},
   "outputs": [
    {
     "name": "stderr",
     "output_type": "stream",
     "text": [
      "C:\\Users\\Aliza Rafique\\AppData\\Local\\Programs\\Python\\Python39\\lib\\site-packages\\seaborn\\_decorators.py:36: FutureWarning: Pass the following variables as keyword args: x, y. From version 0.12, the only valid positional argument will be `data`, and passing other arguments without an explicit keyword will result in an error or misinterpretation.\n",
      "  warnings.warn(\n"
     ]
    },
    {
     "data": {
      "image/png": "[encoded data removed]",
      "text/plain": [
       "<Figure size 1080x720 with 1 Axes>"
      ]
     },
     "metadata": {},
     "output_type": "display_data"
    }
   ],
   "source": [
    "items = [x.text for x in doc.ents]\n",
    "output = Counter(items).most_common(20)\n",
    "x = [i[0] for i in output]\n",
    "y = [i[1] for i in output]\n",
    "# PLOTTING\n",
    "ax = sns.barplot(x, y)\n",
    "ax.set(xlabel='Contents', ylabel='Mean')\n",
    "for p in ax.patches:\n",
    "    ax.annotate(format(p.get_height(), '.1f'), (p.get_x() + p.get_width() / 2., p.get_height()), ha = 'center', va = 'center', \n",
    "                xytext = (0, 9), textcoords = 'offset points')"
   ]
  },
  {
   "cell_type": "markdown",
   "id": "f1a8585e-3da3-4e4e-a54c-c813d754e499",
   "metadata": {},
   "source": [
    "#### Explanation\n",
    "SpaCy library is giving a very different output than NLTK. For SpaCy, CPS appeared a lot more as compared to all the other words but in NLTK, \"CPS\" is the 5th most frequent word. Most of the words are very differently identified by both of the libraries. The most frequent word for SpaCy has appeared on average 108 times and the least frequent has appeared 12 times. "
   ]
  },
  {
   "cell_type": "markdown",
   "id": "45c75874-70ad-4afb-b503-8c343df7872e",
   "metadata": {},
   "source": [
    "#### Using Collections library"
   ]
  },
  {
   "cell_type": "code",
   "execution_count": 75,
   "id": "06b7fe19-fe57-44a4-9303-907ddca56829",
   "metadata": {},
   "outputs": [],
   "source": [
    "from collections import Counter"
   ]
  },
  {
   "cell_type": "code",
   "execution_count": 87,
   "id": "258db871-c45e-4d9c-b509-ff6c212bbd6f",
   "metadata": {},
   "outputs": [],
   "source": [
    "wordcount = {}\n",
    "for word in raw['content'].lower().split():\n",
    "    word = word.replace(\".\",\"\")\n",
    "    word = word.replace(\",\",\"\")\n",
    "    word = word.replace(\":\",\"\")\n",
    "    word = word.replace(\"\\\"\",\"\")\n",
    "    word = word.replace(\"!\",\"\")\n",
    "    word = word.replace(\"â€œ\",\"\")\n",
    "    word = word.replace(\"â€˜\",\"\")\n",
    "    word = word.replace(\"*\",\"\")\n",
    "    if word not in stopwords:\n",
    "        if word not in wordcount:\n",
    "            wordcount[word] = 1\n",
    "        else:\n",
    "            wordcount[word] += 1"
   ]
  },
  {
   "cell_type": "code",
   "execution_count": 97,
   "id": "294aba95-2e48-4468-8880-94a6c33324c0",
   "metadata": {},
   "outputs": [],
   "source": [
    "# Removing individual letters\n",
    "alpha = 'abcdefghijklmnopqrstuvwxyz'\n",
    "new = {}\n",
    "for i in wordcount:\n",
    "    if i not in alpha:\n",
    "        new[i] = wordcount[i]\n",
    "wordcount = new"
   ]
  },
  {
   "cell_type": "code",
   "execution_count": 100,
   "id": "38804a38-5d13-4427-9b55-c2dda899f0c2",
   "metadata": {},
   "outputs": [],
   "source": [
    "count = Counter(wordcount)\n",
    "most_occur = count.most_common(20)"
   ]
  },
  {
   "cell_type": "code",
   "execution_count": 101,
   "id": "0f56cb4b-a7d8-4507-99e4-5a38e685e8e9",
   "metadata": {},
   "outputs": [
    {
     "name": "stderr",
     "output_type": "stream",
     "text": [
      "C:\\Users\\Aliza Rafique\\AppData\\Local\\Programs\\Python\\Python39\\lib\\site-packages\\seaborn\\_decorators.py:36: FutureWarning: Pass the following variables as keyword args: x, y. From version 0.12, the only valid positional argument will be `data`, and passing other arguments without an explicit keyword will result in an error or misinterpretation.\n",
      "  warnings.warn(\n"
     ]
    },
    {
     "data": {
      "image/png": "[encoded data removed]",
      "text/plain": [
       "<Figure size 1080x720 with 1 Axes>"
      ]
     },
     "metadata": {},
     "output_type": "display_data"
    }
   ],
   "source": [
    "x = [i[0] for i in most_occur]\n",
    "y = [i[1] for i in most_occur]\n",
    "# PLOTTING\n",
    "ax = sns.barplot(x, y)\n",
    "ax.set(xlabel='Contents', ylabel='Mean')\n",
    "for p in ax.patches:\n",
    "    ax.annotate(format(p.get_height(), '.1f'), (p.get_x() + p.get_width() / 2., p.get_height()), ha = 'center', va = 'center', \n",
    "                xytext = (0, 9), textcoords = 'offset points')"
   ]
  },
  {
   "cell_type": "markdown",
   "id": "a9b6c702-48ce-4653-b77a-74a0c7cecc50",
   "metadata": {},
   "source": [
    "#### Explanation\n",
    "With collections we are simply counting the occurrences of the words. The most frequent word is \"data\" which is also the most frequent word in NLTK. Most of the other words also match with the results of NLTK as opposed to that of SpaCy. But the results showed by this technique almost accurately shows the count that exists. This technique, shows more counts for the same words as compared to NLTK library."
   ]
  },
  {
   "cell_type": "markdown",
   "id": "c4ceb7f5-ecf4-4614-bf68-5d591a788fe6",
   "metadata": {},
   "source": [
    "### Final Word Cloud Visualization"
   ]
  },
  {
   "cell_type": "code",
   "execution_count": 104,
   "id": "d627ace8-93e3-4835-9ae0-800f7583425c",
   "metadata": {},
   "outputs": [
    {
     "ename": "ModuleNotFoundError",
     "evalue": "No module named 'wordcloud'",
     "output_type": "error",
     "traceback": [
      "\u001b[1;31m---------------------------------------------------------------------------\u001b[0m",
      "\u001b[1;31mModuleNotFoundError\u001b[0m                       Traceback (most recent call last)",
      "Input \u001b[1;32mIn [104]\u001b[0m, in \u001b[0;36m<module>\u001b[1;34m\u001b[0m\n\u001b[1;32m----> 1\u001b[0m \u001b[38;5;28;01mfrom\u001b[39;00m \u001b[38;5;21;01mwordcloud\u001b[39;00m \u001b[38;5;28;01mimport\u001b[39;00m WordCloud, STOPWORDS, ImageColorGenerator\n",
      "\u001b[1;31mModuleNotFoundError\u001b[0m: No module named 'wordcloud'"
     ]
    }
   ],
   "source": [
    "from wordcloud import WordCloud, STOPWORDS, ImageColorGenerator"
   ]
  },
  {
   "cell_type": "markdown",
   "id": "f31cd4e6-e1fb-4528-9eb3-7b70a12b32ce",
   "metadata": {},
   "source": [
    "### I am having some issues with WorkCloud imports therefore, I could not include the visualizations. "
   ]
  },
  {
   "cell_type": "markdown",
   "id": "94a3c1be-1497-4cfd-8b08-cac2a0fc5530",
   "metadata": {},
   "source": [
    "### Keyword Extraction"
   ]
  },
  {
   "cell_type": "markdown",
   "id": "fdcd804c-9ffd-4a65-ab9d-d81f45bdb91b",
   "metadata": {},
   "source": [
    "#### Using Rake"
   ]
  },
  {
   "cell_type": "code",
   "execution_count": 106,
   "id": "ca96f8d6-96eb-4fe4-915b-2ddab7754059",
   "metadata": {},
   "outputs": [
    {
     "data": {
      "text/plain": [
       "[(60.21035300972146,\n",
       "  'imbalanced data sets ,’’ acm sigkdd explorations newslett ., vol'),\n",
       " (53.561624649859944,\n",
       "  'reciprocating compressor valves using teager – kaiser energy operator'),\n",
       " (46.509987016664645,\n",
       "  'time series ,’’ handbook brain theory neural netw ., vol'),\n",
       " (43.68773946360153,\n",
       "  'computationally inexpensive delayed error normalized least mean square'),\n",
       " (43.59487179487179,\n",
       "  '‘‘ piecewise affine regression via recursive multiple least squares'),\n",
       " (43.06457653567882,\n",
       "  'annual runoff time series forecasting using elman neural network'),\n",
       " (42.24487284657722,\n",
       "  'assessing average model performance ,’’ climate res ., vol'),\n",
       " (41.92717561128037,\n",
       "  'stable drone landing control using learned dynamics ,’’'),\n",
       " (41.71565625671547, 'rolling element bearings ,’’ ieee sensors j ., vol'),\n",
       " (40.087679002787894,\n",
       "  '‘‘ intelligent bearing fault diagnosis method combining compressed data acquisition')]"
      ]
     },
     "execution_count": 106,
     "metadata": {},
     "output_type": "execute_result"
    }
   ],
   "source": [
    "from rake_nltk import Rake\n",
    "r = Rake()\n",
    "r.extract_keywords_from_text(raw['content'])\n",
    "r.get_ranked_phrases_with_scores()[:10]"
   ]
  },
  {
   "cell_type": "markdown",
   "id": "2cbce818-032f-4150-b7c4-28e46349de7e",
   "metadata": {},
   "source": [
    "#### Explanation\n",
    "Here we can see the most used phrases in this research paper and also how many times did they occur. These phrases can give key insights about the main things being talked about in the whole research paper. For example, the type of datasets used that are referred many times, the type of data as mentioned here is time series and so on. These phrases extracted are not perfect as we can see some of them don't make any sense. "
   ]
  },
  {
   "cell_type": "markdown",
   "id": "b769b5cd-9e9b-40ee-aa81-f550f2b4a1aa",
   "metadata": {},
   "source": [
    "#### Using Yake"
   ]
  },
  {
   "cell_type": "code",
   "execution_count": 108,
   "id": "c8032ae5-3131-44ce-af54-ebcd31071138",
   "metadata": {},
   "outputs": [],
   "source": [
    "import yake"
   ]
  },
  {
   "cell_type": "code",
   "execution_count": 109,
   "id": "bd1bfc52-586a-46fa-9a05-8e9ee03564c4",
   "metadata": {},
   "outputs": [
    {
     "name": "stdout",
     "output_type": "stream",
     "text": [
      "('Hybrid Physics Guided', 9.437132285696676e-05)\n",
      "('Data', 0.00026018965703038135)\n",
      "('CPS hybrid modeling', 0.00032658280666276253)\n",
      "('hybrid models', 0.0003421290769177994)\n",
      "('Hybrid Physics', 0.0004772070747274833)\n",
      "('CPS', 0.0005191612152334601)\n",
      "('Hybrid modeling', 0.000673195375069954)\n",
      "('Physics Guided', 0.0006775808425684895)\n",
      "('hybrid modeling domain', 0.0006938013123154947)\n",
      "('model', 0.000710919358919604)\n",
      "('CPS hybrid model', 0.0007442146365162072)\n",
      "('hybrid CPS model', 0.0007442146365162072)\n",
      "('models', 0.0007477818441969168)\n",
      "('Physics', 0.0008084320856893846)\n",
      "('deep learning', 0.0008562180686418184)\n",
      "('Hybrid', 0.0008733500239432829)\n",
      "('CPS modeling techniques', 0.000901520529601937)\n",
      "('CPS modeling', 0.0009596998468670329)\n",
      "('vol.', 0.000975383380795609)\n",
      "('systems', 0.001013172574246407)\n"
     ]
    }
   ],
   "source": [
    "kw_extractor = yake.KeywordExtractor()\n",
    "language = \"en\"\n",
    "max_ngram_size = 3\n",
    "deduplication_threshold = 0.9\n",
    "numOfKeywords = 20\n",
    "custom_kw_extractor = yake.KeywordExtractor(lan=language, n=max_ngram_size, dedupLim=deduplication_threshold, top=numOfKeywords, features=None)\n",
    "keywords = custom_kw_extractor.extract_keywords(raw['content'])\n",
    "for kw in keywords:\n",
    "    print(kw)"
   ]
  },
  {
   "cell_type": "markdown",
   "id": "90cfb5b0-75a5-4cd1-b4ee-a70a63636caa",
   "metadata": {},
   "source": [
    "#### Explanation\n",
    "This output is much better as compared to the output from Rake library. Here we can see that a proper phrases and how many times they are repeated. We can see that CPS Modeling Techqniue is repeated many times as compared to others."
   ]
  },
  {
   "cell_type": "markdown",
   "id": "c34ef53e-1537-4bdb-82b9-95d75e261f5f",
   "metadata": {},
   "source": [
    "## Question 3: Sentiment Analysis"
   ]
  },
  {
   "cell_type": "code",
   "execution_count": 112,
   "id": "b588b53f-5c2d-48a0-8002-f83e62a08600",
   "metadata": {},
   "outputs": [],
   "source": [
    "import tweepy as tw\n",
    "import json\n",
    "import pandas as pd\n",
    "import numpy as np\n",
    "from textblob import TextBlob"
   ]
  },
  {
   "cell_type": "markdown",
   "id": "26ee79c9-20d1-4bc2-8c9e-c93153f0382e",
   "metadata": {},
   "source": [
    "### Authorization"
   ]
  },
  {
   "cell_type": "code",
   "execution_count": 113,
   "id": "dd45cc8b-7f8d-4e4e-ba07-0e7446670265",
   "metadata": {},
   "outputs": [],
   "source": [
    "consumer_key = 'eR1zb853CsroHzovzLiJNPBK8'\n",
    "consumer_key_secret = 'SMTGv6dLoAj81HAJ1q0I8DQ19pTTscdAINCXynLHdxb6tUDVjA'\n",
    "access_token = '107436862-6ywCOzDd5bSHLZd3BWJ3buacPsL4OpWmhV5Lu9Uk'\n",
    "access_token_secret = 'JAfDMXeg0OYz9ax8dELqvSlfX1sduHDVHnslVWwJjiJc2'\n",
    "auth = tw.OAuthHandler(consumer_key, consumer_key_secret)\n",
    "auth.set_access_token(access_token, access_token_secret)\n",
    "api = tw.API(auth, wait_on_rate_limit=True)"
   ]
  },
  {
   "cell_type": "markdown",
   "id": "7f98327b-ff45-48c8-8331-9435e7dfa5cc",
   "metadata": {},
   "source": [
    "### Searching Tweets "
   ]
  },
  {
   "cell_type": "code",
   "execution_count": 256,
   "id": "a884ba52-92f4-4e94-98ac-5b2bb5bba666",
   "metadata": {},
   "outputs": [],
   "source": [
    "search_term = \"#importedgovernmentnamanzoor -filter:retweets\"\n",
    "tweets = api.search_tweets(q=search_term, lang=\"en\", since_id='2022-01-01')"
   ]
  },
  {
   "cell_type": "code",
   "execution_count": 257,
   "id": "97296e7e-f0ac-44b2-a5ed-885c2f8206d3",
   "metadata": {},
   "outputs": [],
   "source": [
    "searched_tweets = [t for t in tweets]"
   ]
  },
  {
   "cell_type": "markdown",
   "id": "6d00d215-05ea-4111-a0a5-958f7b2e2cb9",
   "metadata": {},
   "source": [
    "### Cleaning and Storing them in CSV file"
   ]
  },
  {
   "cell_type": "code",
   "execution_count": 258,
   "id": "7cd5dfb0-4c89-4da9-b90e-fef02dfc36fe",
   "metadata": {},
   "outputs": [],
   "source": [
    "my_list_of_dicts = []\n",
    "for each_json_tweet in searched_tweets:\n",
    "    my_list_of_dicts.append(each_json_tweet._json)\n",
    "    \n",
    "with open('tweet_json_politics_Data.txt', 'w') as file:\n",
    "        file.write(json.dumps(my_list_of_dicts, indent=4))\n",
    "        \n",
    "my_demo_list = []\n",
    "with open('tweet_json_politics_Data.txt', encoding='utf-8') as json_file:  \n",
    "    all_data = json.load(json_file)\n",
    "    for each_dictionary in all_data:\n",
    "        tweet_id = each_dictionary['id']\n",
    "        text = each_dictionary['text']\n",
    "        favorite_count = each_dictionary['favorite_count']\n",
    "        retweet_count = each_dictionary['retweet_count']\n",
    "        created_at = each_dictionary['created_at']\n",
    "        my_demo_list.append({'tweet_id': str(tweet_id),\n",
    "                             'text': str(text),\n",
    "                             'favorite_count': int(favorite_count),\n",
    "                             'retweet_count': int(retweet_count),\n",
    "                             'created_at': created_at,\n",
    "                            })\n",
    "        \n",
    "        tweet_dataset = pd.DataFrame(my_demo_list, columns = \n",
    "                                  ['tweet_id', 'text', \n",
    "                                   'favorite_count', 'retweet_count', \n",
    "                                   'created_at'])\n",
    "    \n",
    "#Writing tweet dataset ti csv file for future reference\n",
    "tweet_dataset.to_csv('tweet_data_politics.csv',index=False)"
   ]
  },
  {
   "cell_type": "code",
   "execution_count": 259,
   "id": "02c1b973-006d-4578-9d33-46f0eccc9b88",
   "metadata": {},
   "outputs": [],
   "source": [
    "def remove_url(txt):\n",
    "    #Replace URLs found in a text string with nothing\n",
    "    return \" \".join(re.sub(\"([^0-9A-Za-z \\t])|(\\w+:\\/\\/\\S+)\", \"\", txt).split())\n",
    "#Removing @ handle\n",
    "def remove_pattern(input_txt, pattern):\n",
    "    r = re.findall(pattern, input_txt)\n",
    "    for i in r:\n",
    "        input_txt = re.sub(i, '', input_txt)\n",
    "        \n",
    "    return input_txt "
   ]
  },
  {
   "cell_type": "markdown",
   "id": "61adcd7c-8668-4260-8e3d-6bfaafa33241",
   "metadata": {},
   "source": [
    "### Sentiment Analysis"
   ]
  },
  {
   "cell_type": "code",
   "execution_count": 260,
   "id": "a2b82d7c-ac18-425e-82bf-179846a78bf1",
   "metadata": {},
   "outputs": [],
   "source": [
    "tweet_dataset['text'] = np.vectorize(remove_url)(tweet_dataset['text'])\n",
    "tweet_dataset['text'] = np.vectorize(remove_pattern)(tweet_dataset['text'], \"@[\\w]*\")"
   ]
  },
  {
   "cell_type": "code",
   "execution_count": 261,
   "id": "0a0cc3fb-0c91-4c6b-ac0b-9b3a89e475bd",
   "metadata": {},
   "outputs": [],
   "source": [
    "#Writing tweet dataset ti csv file for future reference\n",
    "tweet_dataset.to_csv('tweet_data_clean_politics.csv',index=False)\n",
    "tweet_dataset = pd.read_csv('tweet_data_clean_politics.csv')"
   ]
  },
  {
   "cell_type": "code",
   "execution_count": 262,
   "id": "77383243-1ea3-40f7-8c56-4517d8b25af9",
   "metadata": {},
   "outputs": [],
   "source": [
    "def tweet_sentiment(txt):\n",
    "    analysis = TextBlob(txt)\n",
    "    if analysis.sentiment[0]>=0:\n",
    "       res = 'positive'\n",
    "    else:\n",
    "       res= 'negative'\n",
    "    return(res)"
   ]
  },
  {
   "cell_type": "code",
   "execution_count": 263,
   "id": "1a9d72db-86d9-4c13-9e75-16a2852f8d18",
   "metadata": {},
   "outputs": [],
   "source": [
    "tweet_dataset['sentiment'] = np.vectorize(tweet_sentiment)(tweet_dataset['text'])"
   ]
  },
  {
   "cell_type": "code",
   "execution_count": 264,
   "id": "bb089f9b-d3dc-42a1-b5ba-3a653f32f557",
   "metadata": {},
   "outputs": [
    {
     "data": {
      "text/html": [
       "<div>\n",
       "<style scoped>\n",
       "    .dataframe tbody tr th:only-of-type {\n",
       "        vertical-align: middle;\n",
       "    }\n",
       "\n",
       "    .dataframe tbody tr th {\n",
       "        vertical-align: top;\n",
       "    }\n",
       "\n",
       "    .dataframe thead th {\n",
       "        text-align: right;\n",
       "    }\n",
       "</style>\n",
       "<table border=\"1\" class=\"dataframe\">\n",
       "  <thead>\n",
       "    <tr style=\"text-align: right;\">\n",
       "      <th></th>\n",
       "      <th>tweet_id</th>\n",
       "      <th>text</th>\n",
       "      <th>favorite_count</th>\n",
       "      <th>retweet_count</th>\n",
       "      <th>created_at</th>\n",
       "      <th>sentiment</th>\n",
       "    </tr>\n",
       "  </thead>\n",
       "  <tbody>\n",
       "    <tr>\n",
       "      <th>0</th>\n",
       "      <td>1515762621026377741</td>\n",
       "      <td>Run the trend in English instead of Urdu IMPOR...</td>\n",
       "      <td>0</td>\n",
       "      <td>0</td>\n",
       "      <td>Sun Apr 17 18:42:25 +0000 2022</td>\n",
       "      <td>positive</td>\n",
       "    </tr>\n",
       "    <tr>\n",
       "      <th>1</th>\n",
       "      <td>1515750601711550464</td>\n",
       "      <td>AzmaBokhariPMLN complete trash you are wait IA...</td>\n",
       "      <td>0</td>\n",
       "      <td>0</td>\n",
       "      <td>Sun Apr 17 17:54:39 +0000 2022</td>\n",
       "      <td>positive</td>\n",
       "    </tr>\n",
       "    <tr>\n",
       "      <th>2</th>\n",
       "      <td>1515744767493095425</td>\n",
       "      <td>CMShehbaz Thats mean our Basha Dam money is go...</td>\n",
       "      <td>0</td>\n",
       "      <td>0</td>\n",
       "      <td>Sun Apr 17 17:31:28 +0000 2022</td>\n",
       "      <td>negative</td>\n",
       "    </tr>\n",
       "    <tr>\n",
       "      <th>3</th>\n",
       "      <td>1515739213286760450</td>\n",
       "      <td>Nawaz stayed at Avenfield property that he doe...</td>\n",
       "      <td>2</td>\n",
       "      <td>4</td>\n",
       "      <td>Sun Apr 17 17:09:24 +0000 2022</td>\n",
       "      <td>negative</td>\n",
       "    </tr>\n",
       "    <tr>\n",
       "      <th>4</th>\n",
       "      <td>1515736418718564358</td>\n",
       "      <td>nadeemiba As Americas policy of making India i...</td>\n",
       "      <td>0</td>\n",
       "      <td>0</td>\n",
       "      <td>Sun Apr 17 16:58:17 +0000 2022</td>\n",
       "      <td>negative</td>\n",
       "    </tr>\n",
       "    <tr>\n",
       "      <th>5</th>\n",
       "      <td>1515736293635936257</td>\n",
       "      <td>hina98hina As Americas policy of making India ...</td>\n",
       "      <td>0</td>\n",
       "      <td>0</td>\n",
       "      <td>Sun Apr 17 16:57:48 +0000 2022</td>\n",
       "      <td>negative</td>\n",
       "    </tr>\n",
       "    <tr>\n",
       "      <th>6</th>\n",
       "      <td>1515736205320728581</td>\n",
       "      <td>NaziaMemon01 As Americas policy of making Indi...</td>\n",
       "      <td>0</td>\n",
       "      <td>0</td>\n",
       "      <td>Sun Apr 17 16:57:27 +0000 2022</td>\n",
       "      <td>negative</td>\n",
       "    </tr>\n",
       "    <tr>\n",
       "      <th>7</th>\n",
       "      <td>1515735482990272513</td>\n",
       "      <td>As Americas policy of making India its number ...</td>\n",
       "      <td>0</td>\n",
       "      <td>0</td>\n",
       "      <td>Sun Apr 17 16:54:34 +0000 2022</td>\n",
       "      <td>negative</td>\n",
       "    </tr>\n",
       "    <tr>\n",
       "      <th>8</th>\n",
       "      <td>1515731737841741824</td>\n",
       "      <td>You can stop a man but you cannot stop a revol...</td>\n",
       "      <td>0</td>\n",
       "      <td>0</td>\n",
       "      <td>Sun Apr 17 16:39:41 +0000 2022</td>\n",
       "      <td>positive</td>\n",
       "    </tr>\n",
       "    <tr>\n",
       "      <th>9</th>\n",
       "      <td>1515727854121938945</td>\n",
       "      <td>PM Nation must get rid of this imported govern...</td>\n",
       "      <td>1</td>\n",
       "      <td>0</td>\n",
       "      <td>Sun Apr 17 16:24:15 +0000 2022</td>\n",
       "      <td>positive</td>\n",
       "    </tr>\n",
       "    <tr>\n",
       "      <th>10</th>\n",
       "      <td>1515711856249380866</td>\n",
       "      <td>This one man has been fighting for the whole n...</td>\n",
       "      <td>0</td>\n",
       "      <td>0</td>\n",
       "      <td>Sun Apr 17 15:20:41 +0000 2022</td>\n",
       "      <td>positive</td>\n",
       "    </tr>\n",
       "    <tr>\n",
       "      <th>11</th>\n",
       "      <td>1515710684369387522</td>\n",
       "      <td>What a slap on JUIF70K vs 5K So PTI will clean...</td>\n",
       "      <td>2</td>\n",
       "      <td>0</td>\n",
       "      <td>Sun Apr 17 15:16:02 +0000 2022</td>\n",
       "      <td>positive</td>\n",
       "    </tr>\n",
       "    <tr>\n",
       "      <th>12</th>\n",
       "      <td>1515681167592329218</td>\n",
       "      <td>ayeshaijazkhan Do you think buying MNAS assets...</td>\n",
       "      <td>0</td>\n",
       "      <td>0</td>\n",
       "      <td>Sun Apr 17 13:18:45 +0000 2022</td>\n",
       "      <td>positive</td>\n",
       "    </tr>\n",
       "    <tr>\n",
       "      <th>13</th>\n",
       "      <td>1515662457724936196</td>\n",
       "      <td>Look at this man and then look at goons in pow...</td>\n",
       "      <td>1</td>\n",
       "      <td>0</td>\n",
       "      <td>Sun Apr 17 12:04:24 +0000 2022</td>\n",
       "      <td>negative</td>\n",
       "    </tr>\n",
       "    <tr>\n",
       "      <th>14</th>\n",
       "      <td>1515661950625189904</td>\n",
       "      <td>All 5 juduges per Artical 6 Laga kr pore life ...</td>\n",
       "      <td>0</td>\n",
       "      <td>0</td>\n",
       "      <td>Sun Apr 17 12:02:23 +0000 2022</td>\n",
       "      <td>positive</td>\n",
       "    </tr>\n",
       "  </tbody>\n",
       "</table>\n",
       "</div>"
      ],
      "text/plain": [
       "               tweet_id                                               text  \\\n",
       "0   1515762621026377741  Run the trend in English instead of Urdu IMPOR...   \n",
       "1   1515750601711550464  AzmaBokhariPMLN complete trash you are wait IA...   \n",
       "2   1515744767493095425  CMShehbaz Thats mean our Basha Dam money is go...   \n",
       "3   1515739213286760450  Nawaz stayed at Avenfield property that he doe...   \n",
       "4   1515736418718564358  nadeemiba As Americas policy of making India i...   \n",
       "5   1515736293635936257  hina98hina As Americas policy of making India ...   \n",
       "6   1515736205320728581  NaziaMemon01 As Americas policy of making Indi...   \n",
       "7   1515735482990272513  As Americas policy of making India its number ...   \n",
       "8   1515731737841741824  You can stop a man but you cannot stop a revol...   \n",
       "9   1515727854121938945  PM Nation must get rid of this imported govern...   \n",
       "10  1515711856249380866  This one man has been fighting for the whole n...   \n",
       "11  1515710684369387522  What a slap on JUIF70K vs 5K So PTI will clean...   \n",
       "12  1515681167592329218  ayeshaijazkhan Do you think buying MNAS assets...   \n",
       "13  1515662457724936196  Look at this man and then look at goons in pow...   \n",
       "14  1515661950625189904  All 5 juduges per Artical 6 Laga kr pore life ...   \n",
       "\n",
       "    favorite_count  retweet_count                      created_at sentiment  \n",
       "0                0              0  Sun Apr 17 18:42:25 +0000 2022  positive  \n",
       "1                0              0  Sun Apr 17 17:54:39 +0000 2022  positive  \n",
       "2                0              0  Sun Apr 17 17:31:28 +0000 2022  negative  \n",
       "3                2              4  Sun Apr 17 17:09:24 +0000 2022  negative  \n",
       "4                0              0  Sun Apr 17 16:58:17 +0000 2022  negative  \n",
       "5                0              0  Sun Apr 17 16:57:48 +0000 2022  negative  \n",
       "6                0              0  Sun Apr 17 16:57:27 +0000 2022  negative  \n",
       "7                0              0  Sun Apr 17 16:54:34 +0000 2022  negative  \n",
       "8                0              0  Sun Apr 17 16:39:41 +0000 2022  positive  \n",
       "9                1              0  Sun Apr 17 16:24:15 +0000 2022  positive  \n",
       "10               0              0  Sun Apr 17 15:20:41 +0000 2022  positive  \n",
       "11               2              0  Sun Apr 17 15:16:02 +0000 2022  positive  \n",
       "12               0              0  Sun Apr 17 13:18:45 +0000 2022  positive  \n",
       "13               1              0  Sun Apr 17 12:04:24 +0000 2022  negative  \n",
       "14               0              0  Sun Apr 17 12:02:23 +0000 2022  positive  "
      ]
     },
     "execution_count": 264,
     "metadata": {},
     "output_type": "execute_result"
    }
   ],
   "source": [
    "tweet_dataset.head(20)"
   ]
  },
  {
   "cell_type": "markdown",
   "id": "6b2a5fa7-46af-47f8-a4b1-5d1c56dcb3e9",
   "metadata": {},
   "source": [
    "### Discussing one negative and one positive tweet"
   ]
  },
  {
   "cell_type": "markdown",
   "id": "834a076a-4e0d-435a-8905-af171614c83c",
   "metadata": {},
   "source": [
    "#### Negative"
   ]
  },
  {
   "cell_type": "code",
   "execution_count": 265,
   "id": "2c4f87e5-2e69-4978-88da-878517c7d54e",
   "metadata": {},
   "outputs": [
    {
     "data": {
      "text/plain": [
       "tweet_id                                        1515739213286760450\n",
       "text              Nawaz stayed at Avenfield property that he doe...\n",
       "favorite_count                                                    2\n",
       "retweet_count                                                     4\n",
       "created_at                           Sun Apr 17 17:09:24 +0000 2022\n",
       "sentiment                                                  negative\n",
       "Name: 3, dtype: object"
      ]
     },
     "execution_count": 265,
     "metadata": {},
     "output_type": "execute_result"
    }
   ],
   "source": [
    "tweet_dataset.iloc[3]"
   ]
  },
  {
   "cell_type": "code",
   "execution_count": 266,
   "id": "6076ef05-3ef1-48a2-b87c-186a15cf5e60",
   "metadata": {},
   "outputs": [
    {
     "data": {
      "text/plain": [
       "'Nawaz stayed at Avenfield property that he does not own for 1 year DunyaNews ArmyStand4NationPride'"
      ]
     },
     "execution_count": 266,
     "metadata": {},
     "output_type": "execute_result"
    }
   ],
   "source": [
    "tweet_dataset.iloc[3]['text']"
   ]
  },
  {
   "cell_type": "markdown",
   "id": "cc7922ea-a04c-44ad-9224-78a640ff85d0",
   "metadata": {},
   "source": [
    "#### Explanation\n",
    "This tweet can not exactly be categorized as showing a positive or negative sentiment because it is mostly based on the context and the sentiment is relative to who this tweet is targetting. However, from one perspective as it is written that \"China is bound to fail America\" that can be portrayed as a negative sentiment because this tweet is actually talking about the downfall of a nation which is a negative thing. "
   ]
  },
  {
   "cell_type": "markdown",
   "id": "1dd85884-f6d6-4732-99e4-0aed0afc37f0",
   "metadata": {},
   "source": [
    "#### Positive"
   ]
  },
  {
   "cell_type": "code",
   "execution_count": 267,
   "id": "60902366-b168-4919-a757-740d7b03adb5",
   "metadata": {},
   "outputs": [
    {
     "data": {
      "text/plain": [
       "tweet_id                                        1515731737841741824\n",
       "text              You can stop a man but you cannot stop a revol...\n",
       "favorite_count                                                    0\n",
       "retweet_count                                                     0\n",
       "created_at                           Sun Apr 17 16:39:41 +0000 2022\n",
       "sentiment                                                  positive\n",
       "Name: 8, dtype: object"
      ]
     },
     "execution_count": 267,
     "metadata": {},
     "output_type": "execute_result"
    }
   ],
   "source": [
    "tweet_dataset.iloc[8]"
   ]
  },
  {
   "cell_type": "code",
   "execution_count": 268,
   "id": "c1a7e670-370a-4131-b052-1b47443fa9ec",
   "metadata": {},
   "outputs": [
    {
     "data": {
      "text/plain": [
       "'You can stop a man but you cannot stop a revolution ImranKhanPTI is a revolution'"
      ]
     },
     "execution_count": 268,
     "metadata": {},
     "output_type": "execute_result"
    }
   ],
   "source": [
    "tweet_dataset.iloc[8]['text']"
   ]
  },
  {
   "cell_type": "markdown",
   "id": "025c8adf-7aac-42bc-9ec6-ef4b49e67841",
   "metadata": {},
   "source": [
    "#### Explanation\n",
    "As mentioned above as well, it is relative to determine the sentiment. For this one, it is categorized as positive. This is pretty neutral statement and does not threats any entity. But maybe due to the word \"revolution\", change, which is normally considered as something good, this tweet is categorized as positive sentiment by the algorithm."
   ]
  },
  {
   "cell_type": "markdown",
   "id": "5f58b4eb-e18b-4fa9-aa5f-e9cf2cf0a17f",
   "metadata": {},
   "source": [
    "### Most Retweets"
   ]
  },
  {
   "cell_type": "code",
   "execution_count": 269,
   "id": "d31ae3f0-f9c1-47ec-85e6-d34d0b625715",
   "metadata": {},
   "outputs": [
    {
     "data": {
      "text/plain": [
       "4"
      ]
     },
     "execution_count": 269,
     "metadata": {},
     "output_type": "execute_result"
    }
   ],
   "source": [
    "tweet_dataset['retweet_count'].max()"
   ]
  },
  {
   "cell_type": "code",
   "execution_count": 270,
   "id": "8849e561-4e4c-44fb-945d-950000d5e668",
   "metadata": {},
   "outputs": [
    {
     "data": {
      "text/html": [
       "<div>\n",
       "<style scoped>\n",
       "    .dataframe tbody tr th:only-of-type {\n",
       "        vertical-align: middle;\n",
       "    }\n",
       "\n",
       "    .dataframe tbody tr th {\n",
       "        vertical-align: top;\n",
       "    }\n",
       "\n",
       "    .dataframe thead th {\n",
       "        text-align: right;\n",
       "    }\n",
       "</style>\n",
       "<table border=\"1\" class=\"dataframe\">\n",
       "  <thead>\n",
       "    <tr style=\"text-align: right;\">\n",
       "      <th></th>\n",
       "      <th>tweet_id</th>\n",
       "      <th>text</th>\n",
       "      <th>favorite_count</th>\n",
       "      <th>retweet_count</th>\n",
       "      <th>created_at</th>\n",
       "      <th>sentiment</th>\n",
       "    </tr>\n",
       "  </thead>\n",
       "  <tbody>\n",
       "    <tr>\n",
       "      <th>3</th>\n",
       "      <td>1515739213286760450</td>\n",
       "      <td>Nawaz stayed at Avenfield property that he doe...</td>\n",
       "      <td>2</td>\n",
       "      <td>4</td>\n",
       "      <td>Sun Apr 17 17:09:24 +0000 2022</td>\n",
       "      <td>negative</td>\n",
       "    </tr>\n",
       "  </tbody>\n",
       "</table>\n",
       "</div>"
      ],
      "text/plain": [
       "              tweet_id                                               text  \\\n",
       "3  1515739213286760450  Nawaz stayed at Avenfield property that he doe...   \n",
       "\n",
       "   favorite_count  retweet_count                      created_at sentiment  \n",
       "3               2              4  Sun Apr 17 17:09:24 +0000 2022  negative  "
      ]
     },
     "execution_count": 270,
     "metadata": {},
     "output_type": "execute_result"
    }
   ],
   "source": [
    "tweet_dataset[tweet_dataset['retweet_count'] == 4]"
   ]
  },
  {
   "cell_type": "code",
   "execution_count": 274,
   "id": "e13eaf4c-ffc4-4a4a-9748-fe66f023ed52",
   "metadata": {},
   "outputs": [
    {
     "data": {
      "text/plain": [
       "'Nawaz stayed at Avenfield property that he does not own for 1 year DunyaNews ArmyStand4NationPride'"
      ]
     },
     "execution_count": 274,
     "metadata": {},
     "output_type": "execute_result"
    }
   ],
   "source": [
    "tweet_dataset.iloc[3]['text']"
   ]
  },
  {
   "cell_type": "markdown",
   "id": "b81885e7-020a-4296-9155-141097166eec",
   "metadata": {},
   "source": [
    "#### Explanation\n",
    "This tweet has 4 retweets. This tweet might appear very neutral but the algorithm categorized it as negative. This is however against the opposition and for that group of people it is indeed negative. "
   ]
  },
  {
   "cell_type": "markdown",
   "id": "dd640ae0-eabf-4b09-814d-7a3dbbe8e2a1",
   "metadata": {},
   "source": [
    "### Timeline Visualization"
   ]
  },
  {
   "cell_type": "markdown",
   "id": "1b60ff27-a014-459f-95fc-b85224386f10",
   "metadata": {},
   "source": [
    "#### Plotting counts vs time"
   ]
  },
  {
   "cell_type": "markdown",
   "id": "49e342eb-35e0-4ecd-b5ff-1fb9ec0c21b9",
   "metadata": {},
   "source": [
    "#### Converting created_at to dates"
   ]
  },
  {
   "cell_type": "code",
   "execution_count": 272,
   "id": "2842e2c8-235e-4f74-9598-2932f596d727",
   "metadata": {},
   "outputs": [],
   "source": [
    "tweet_dataset['created_at'] = pd.to_datetime(tweet_dataset['created_at']).dt.time"
   ]
  },
  {
   "cell_type": "code",
   "execution_count": 286,
   "id": "7156d23f-8adf-441a-962d-a011529be846",
   "metadata": {},
   "outputs": [],
   "source": [
    "tweet_dataset['created_at'] = tweet_dataset['created_at'].astype('str')"
   ]
  },
  {
   "cell_type": "code",
   "execution_count": 287,
   "id": "71e1b700-7fbf-4ea7-a18b-db11f75204cd",
   "metadata": {},
   "outputs": [
    {
     "data": {
      "text/html": [
       "<div>\n",
       "<style scoped>\n",
       "    .dataframe tbody tr th:only-of-type {\n",
       "        vertical-align: middle;\n",
       "    }\n",
       "\n",
       "    .dataframe tbody tr th {\n",
       "        vertical-align: top;\n",
       "    }\n",
       "\n",
       "    .dataframe thead th {\n",
       "        text-align: right;\n",
       "    }\n",
       "</style>\n",
       "<table border=\"1\" class=\"dataframe\">\n",
       "  <thead>\n",
       "    <tr style=\"text-align: right;\">\n",
       "      <th></th>\n",
       "      <th>tweet_id</th>\n",
       "      <th>text</th>\n",
       "      <th>favorite_count</th>\n",
       "      <th>retweet_count</th>\n",
       "      <th>created_at</th>\n",
       "      <th>sentiment</th>\n",
       "    </tr>\n",
       "  </thead>\n",
       "  <tbody>\n",
       "    <tr>\n",
       "      <th>0</th>\n",
       "      <td>1515762621026377741</td>\n",
       "      <td>Run the trend in English instead of Urdu IMPOR...</td>\n",
       "      <td>0</td>\n",
       "      <td>0</td>\n",
       "      <td>18:42:25</td>\n",
       "      <td>positive</td>\n",
       "    </tr>\n",
       "    <tr>\n",
       "      <th>1</th>\n",
       "      <td>1515750601711550464</td>\n",
       "      <td>AzmaBokhariPMLN complete trash you are wait IA...</td>\n",
       "      <td>0</td>\n",
       "      <td>0</td>\n",
       "      <td>17:54:39</td>\n",
       "      <td>positive</td>\n",
       "    </tr>\n",
       "    <tr>\n",
       "      <th>2</th>\n",
       "      <td>1515744767493095425</td>\n",
       "      <td>CMShehbaz Thats mean our Basha Dam money is go...</td>\n",
       "      <td>0</td>\n",
       "      <td>0</td>\n",
       "      <td>17:31:28</td>\n",
       "      <td>negative</td>\n",
       "    </tr>\n",
       "    <tr>\n",
       "      <th>3</th>\n",
       "      <td>1515739213286760450</td>\n",
       "      <td>Nawaz stayed at Avenfield property that he doe...</td>\n",
       "      <td>2</td>\n",
       "      <td>4</td>\n",
       "      <td>17:09:24</td>\n",
       "      <td>negative</td>\n",
       "    </tr>\n",
       "    <tr>\n",
       "      <th>4</th>\n",
       "      <td>1515736418718564358</td>\n",
       "      <td>nadeemiba As Americas policy of making India i...</td>\n",
       "      <td>0</td>\n",
       "      <td>0</td>\n",
       "      <td>16:58:17</td>\n",
       "      <td>negative</td>\n",
       "    </tr>\n",
       "    <tr>\n",
       "      <th>5</th>\n",
       "      <td>1515736293635936257</td>\n",
       "      <td>hina98hina As Americas policy of making India ...</td>\n",
       "      <td>0</td>\n",
       "      <td>0</td>\n",
       "      <td>16:57:48</td>\n",
       "      <td>negative</td>\n",
       "    </tr>\n",
       "    <tr>\n",
       "      <th>6</th>\n",
       "      <td>1515736205320728581</td>\n",
       "      <td>NaziaMemon01 As Americas policy of making Indi...</td>\n",
       "      <td>0</td>\n",
       "      <td>0</td>\n",
       "      <td>16:57:27</td>\n",
       "      <td>negative</td>\n",
       "    </tr>\n",
       "    <tr>\n",
       "      <th>7</th>\n",
       "      <td>1515735482990272513</td>\n",
       "      <td>As Americas policy of making India its number ...</td>\n",
       "      <td>0</td>\n",
       "      <td>0</td>\n",
       "      <td>16:54:34</td>\n",
       "      <td>negative</td>\n",
       "    </tr>\n",
       "    <tr>\n",
       "      <th>8</th>\n",
       "      <td>1515731737841741824</td>\n",
       "      <td>You can stop a man but you cannot stop a revol...</td>\n",
       "      <td>0</td>\n",
       "      <td>0</td>\n",
       "      <td>16:39:41</td>\n",
       "      <td>positive</td>\n",
       "    </tr>\n",
       "    <tr>\n",
       "      <th>9</th>\n",
       "      <td>1515727854121938945</td>\n",
       "      <td>PM Nation must get rid of this imported govern...</td>\n",
       "      <td>1</td>\n",
       "      <td>0</td>\n",
       "      <td>16:24:15</td>\n",
       "      <td>positive</td>\n",
       "    </tr>\n",
       "    <tr>\n",
       "      <th>10</th>\n",
       "      <td>1515711856249380866</td>\n",
       "      <td>This one man has been fighting for the whole n...</td>\n",
       "      <td>0</td>\n",
       "      <td>0</td>\n",
       "      <td>15:20:41</td>\n",
       "      <td>positive</td>\n",
       "    </tr>\n",
       "    <tr>\n",
       "      <th>11</th>\n",
       "      <td>1515710684369387522</td>\n",
       "      <td>What a slap on JUIF70K vs 5K So PTI will clean...</td>\n",
       "      <td>2</td>\n",
       "      <td>0</td>\n",
       "      <td>15:16:02</td>\n",
       "      <td>positive</td>\n",
       "    </tr>\n",
       "    <tr>\n",
       "      <th>12</th>\n",
       "      <td>1515681167592329218</td>\n",
       "      <td>ayeshaijazkhan Do you think buying MNAS assets...</td>\n",
       "      <td>0</td>\n",
       "      <td>0</td>\n",
       "      <td>13:18:45</td>\n",
       "      <td>positive</td>\n",
       "    </tr>\n",
       "    <tr>\n",
       "      <th>13</th>\n",
       "      <td>1515662457724936196</td>\n",
       "      <td>Look at this man and then look at goons in pow...</td>\n",
       "      <td>1</td>\n",
       "      <td>0</td>\n",
       "      <td>12:04:24</td>\n",
       "      <td>negative</td>\n",
       "    </tr>\n",
       "    <tr>\n",
       "      <th>14</th>\n",
       "      <td>1515661950625189904</td>\n",
       "      <td>All 5 juduges per Artical 6 Laga kr pore life ...</td>\n",
       "      <td>0</td>\n",
       "      <td>0</td>\n",
       "      <td>12:02:23</td>\n",
       "      <td>positive</td>\n",
       "    </tr>\n",
       "  </tbody>\n",
       "</table>\n",
       "</div>"
      ],
      "text/plain": [
       "               tweet_id                                               text  \\\n",
       "0   1515762621026377741  Run the trend in English instead of Urdu IMPOR...   \n",
       "1   1515750601711550464  AzmaBokhariPMLN complete trash you are wait IA...   \n",
       "2   1515744767493095425  CMShehbaz Thats mean our Basha Dam money is go...   \n",
       "3   1515739213286760450  Nawaz stayed at Avenfield property that he doe...   \n",
       "4   1515736418718564358  nadeemiba As Americas policy of making India i...   \n",
       "5   1515736293635936257  hina98hina As Americas policy of making India ...   \n",
       "6   1515736205320728581  NaziaMemon01 As Americas policy of making Indi...   \n",
       "7   1515735482990272513  As Americas policy of making India its number ...   \n",
       "8   1515731737841741824  You can stop a man but you cannot stop a revol...   \n",
       "9   1515727854121938945  PM Nation must get rid of this imported govern...   \n",
       "10  1515711856249380866  This one man has been fighting for the whole n...   \n",
       "11  1515710684369387522  What a slap on JUIF70K vs 5K So PTI will clean...   \n",
       "12  1515681167592329218  ayeshaijazkhan Do you think buying MNAS assets...   \n",
       "13  1515662457724936196  Look at this man and then look at goons in pow...   \n",
       "14  1515661950625189904  All 5 juduges per Artical 6 Laga kr pore life ...   \n",
       "\n",
       "    favorite_count  retweet_count created_at sentiment  \n",
       "0                0              0   18:42:25  positive  \n",
       "1                0              0   17:54:39  positive  \n",
       "2                0              0   17:31:28  negative  \n",
       "3                2              4   17:09:24  negative  \n",
       "4                0              0   16:58:17  negative  \n",
       "5                0              0   16:57:48  negative  \n",
       "6                0              0   16:57:27  negative  \n",
       "7                0              0   16:54:34  negative  \n",
       "8                0              0   16:39:41  positive  \n",
       "9                1              0   16:24:15  positive  \n",
       "10               0              0   15:20:41  positive  \n",
       "11               2              0   15:16:02  positive  \n",
       "12               0              0   13:18:45  positive  \n",
       "13               1              0   12:04:24  negative  \n",
       "14               0              0   12:02:23  positive  "
      ]
     },
     "execution_count": 287,
     "metadata": {},
     "output_type": "execute_result"
    }
   ],
   "source": [
    "tweet_dataset"
   ]
  },
  {
   "cell_type": "code",
   "execution_count": 288,
   "id": "f59b4143-7d5e-41f3-a8ed-4d093a38df7e",
   "metadata": {},
   "outputs": [],
   "source": [
    "count_neg = len(tweet_dataset[tweet_dataset['sentiment'] == 'negative'])\n",
    "count_pos = len(tweet_dataset[tweet_dataset['sentiment'] == 'positive'])"
   ]
  },
  {
   "cell_type": "code",
   "execution_count": 289,
   "id": "33eeb327-cec6-4739-bea6-7672b5b3f4da",
   "metadata": {},
   "outputs": [
    {
     "data": {
      "text/plain": [
       "[<matplotlib.lines.Line2D at 0x229d941c4f0>]"
      ]
     },
     "execution_count": 289,
     "metadata": {},
     "output_type": "execute_result"
    },
    {
     "data": {
      "image/png": "[encoded data removed]",
      "text/plain": [
       "<Figure size 1080x720 with 1 Axes>"
      ]
     },
     "metadata": {},
     "output_type": "display_data"
    }
   ],
   "source": [
    "plt.plot(tweet_dataset['created_at'], tweet_dataset['sentiment'])"
   ]
  },
  {
   "cell_type": "markdown",
   "id": "a41f358b-4527-481a-b752-d7d8602e60aa",
   "metadata": {},
   "source": [
    "# End of Assignment"
   ]
  }
 ],
 "metadata": {
  "kernelspec": {
   "display_name": "Python 3 (ipykernel)",
   "language": "python",
   "name": "python3"
  },
  "language_info": {
   "codemirror_mode": {
    "name": "ipython",
    "version": 3
   },
   "file_extension": ".py",
   "mimetype": "text/x-python",
   "name": "python",
   "nbconvert_exporter": "python",
   "pygments_lexer": "ipython3",
   "version": "3.9.7"
  }
 },
 "nbformat": 4,
 "nbformat_minor": 5
}
