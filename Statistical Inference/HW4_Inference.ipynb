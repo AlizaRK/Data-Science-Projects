{
 "cells": [
  {
   "cell_type": "markdown",
   "id": "c1796ed7",
   "metadata": {},
   "source": [
    "# Homework 4: Statistical Inference"
   ]
  },
  {
   "cell_type": "markdown",
   "id": "d34b2e3f",
   "metadata": {},
   "source": [
    "## Aliza Rafique (ar05986)"
   ]
  },
  {
   "cell_type": "markdown",
   "id": "e1ed4ed2",
   "metadata": {},
   "source": [
    "## ar05986@st.habib.edu.pk"
   ]
  },
  {
   "cell_type": "code",
   "execution_count": 2,
   "id": "97c927df",
   "metadata": {},
   "outputs": [],
   "source": [
    "import pandas as pd\n",
    "import numpy as np\n",
    "import seaborn as sns\n",
    "import matplotlib.pyplot as plt\n",
    "from scipy import stats"
   ]
  },
  {
   "cell_type": "code",
   "execution_count": 3,
   "id": "aa3f2c74",
   "metadata": {},
   "outputs": [],
   "source": [
    "data = pd.read_csv(\"EmployeeAttrition.csv\")"
   ]
  },
  {
   "cell_type": "code",
   "execution_count": 4,
   "id": "e34cce34",
   "metadata": {},
   "outputs": [
    {
     "data": {
      "text/plain": [
       "Index(['Age', 'BusinessTravel', 'DailyRate', 'Department', 'DistanceFromHome',\n",
       "       'Education', 'EducationField', 'EnvironmentSatisfaction', 'Gender',\n",
       "       'HourlyRate', 'JobInvolvement', 'JobLevel', 'JobRole',\n",
       "       'JobSatisfaction', 'MaritalStatus', 'MonthlyIncome', 'MonthlyRate',\n",
       "       'NumCompaniesWorked', 'OverTime', 'PercentSalaryHike',\n",
       "       'PerformanceRating', 'RelationshipSatisfaction', 'StandardHours',\n",
       "       'StockOptionLevel', 'TotalWorkingYears', 'TrainingTimesLastYear',\n",
       "       'WorkLifeBalance', 'YearsAtCompany', 'YearsInCurrentRole',\n",
       "       'YearsSinceLastPromotion', 'YearsWithCurrManager', 'Attrition'],\n",
       "      dtype='object')"
      ]
     },
     "execution_count": 4,
     "metadata": {},
     "output_type": "execute_result"
    }
   ],
   "source": [
    "data.keys()"
   ]
  },
  {
   "cell_type": "markdown",
   "id": "d00eb83e",
   "metadata": {},
   "source": [
    "### 1: Monthly income of Males is greater than Females\n",
    "#### Null Hypothesis: Monthly income of Males is greater than Females. \n",
    "#### Alternative Hypothesis: Monthly income of Males is less than equal to that of Females. "
   ]
  },
  {
   "cell_type": "code",
   "execution_count": 5,
   "id": "53d1fd9f",
   "metadata": {},
   "outputs": [
    {
     "data": {
      "text/plain": [
       "Ttest_indResult(statistic=-1.2212617308870655, pvalue=0.22218303455087904)"
      ]
     },
     "execution_count": 5,
     "metadata": {},
     "output_type": "execute_result"
    }
   ],
   "source": [
    "male = data[data['Gender']=='Male']['MonthlyIncome']\n",
    "female = data[data['Gender']=='Female']['MonthlyIncome']\n",
    "\n",
    "stats.ttest_ind(male, female)"
   ]
  },
  {
   "cell_type": "markdown",
   "id": "1d853409",
   "metadata": {},
   "source": [
    "#### Accept the Null Hypothesis. Since pvalue > 0.05. Which means that the monthly income of males is greater than females. For this particular company, there is an unequal salary distribution, this might be due to internal biases of the company or this can also mean that male employees have worked overtime at their company resulting in higher salary."
   ]
  },
  {
   "cell_type": "markdown",
   "id": "017db823",
   "metadata": {},
   "source": [
    "### 2: Work Life Balance of Males is less than Females\n",
    "#### Null Hypothesis: Work life balance of males is less than females.\n",
    "#### Alternative Hypothesis: Work life balance of males is greater than equal to that of females."
   ]
  },
  {
   "cell_type": "code",
   "execution_count": 6,
   "id": "273e6a1e",
   "metadata": {},
   "outputs": [
    {
     "data": {
      "text/plain": [
       "Ttest_indResult(statistic=-0.10546787956064164, pvalue=0.9160189649366257)"
      ]
     },
     "execution_count": 6,
     "metadata": {},
     "output_type": "execute_result"
    }
   ],
   "source": [
    "male = data[data['Gender']=='Male']['WorkLifeBalance']\n",
    "female = data[data['Gender']=='Female']['WorkLifeBalance']\n",
    "\n",
    "stats.ttest_ind(male, female)"
   ]
  },
  {
   "cell_type": "markdown",
   "id": "acbc0876",
   "metadata": {},
   "source": [
    "#### Accept the Null Hypothesis. As the p-value is greater than 0.05. This means that males do have less work-life balance than females. The reason for this result might be that males are easily able to stay for work or do overtime at their company (depending on the cities where the company is located). This might be difficult for females due to safety reasons or their other responsibilities."
   ]
  },
  {
   "cell_type": "markdown",
   "id": "f8b0b58a",
   "metadata": {},
   "source": [
    "### 3: Year At Company of Single is less than Married\n",
    "#### Null Hypothesis: Years at company of singles is less than married.\n",
    "#### Alternative Hypothesis: Years at company of singles is greater than equal to that of married. "
   ]
  },
  {
   "cell_type": "code",
   "execution_count": 7,
   "id": "eab57681",
   "metadata": {},
   "outputs": [
    {
     "data": {
      "text/plain": [
       "Ttest_indResult(statistic=-2.5589985737464476, pvalue=0.010625532709863163)"
      ]
     },
     "execution_count": 7,
     "metadata": {},
     "output_type": "execute_result"
    }
   ],
   "source": [
    "single = data[data['MaritalStatus']=='Single']['YearsAtCompany']\n",
    "married = data[data['MaritalStatus']=='Married']['YearsAtCompany']\n",
    "\n",
    "stats.ttest_ind(single, married)"
   ]
  },
  {
   "cell_type": "markdown",
   "id": "bcc737c2",
   "metadata": {},
   "source": [
    "#### Accept the alternative hypothesis. The p-value < 0.05. This means that single people have stayed more or equal years as compared to married people in the company. One of the reasons for this result might be that after marriage some people prefer to move to a different city or country, thus leaving the company. Or they might consider working at the organization with flexible work hours or other benefits. "
   ]
  },
  {
   "cell_type": "markdown",
   "id": "8052bd9d",
   "metadata": {},
   "source": [
    "### 4: Environmental Satisfaction of Attrition=Yes is less than Attrition=No\n",
    "#### Null Hypothesis: Environmental satisfaction when attrition is yes is less than when the attrition is no.\n",
    "#### Alternative Hypothesis: Environmental satisfaction when attrition is yes is greater or equal to that of when the attrition is no."
   ]
  },
  {
   "cell_type": "code",
   "execution_count": 8,
   "id": "82376803",
   "metadata": {},
   "outputs": [
    {
     "data": {
      "text/plain": [
       "Ttest_indResult(statistic=-3.9818600026818496, pvalue=7.17233854936886e-05)"
      ]
     },
     "execution_count": 8,
     "metadata": {},
     "output_type": "execute_result"
    }
   ],
   "source": [
    "yes = data[data['Attrition']=='Yes']['EnvironmentSatisfaction']\n",
    "no = data[data['Attrition']=='No']['EnvironmentSatisfaction']\n",
    "\n",
    "stats.ttest_ind(yes, no)"
   ]
  },
  {
   "cell_type": "markdown",
   "id": "2d9179b7",
   "metadata": {},
   "source": [
    "#### Accept the alternative hypothesis. The p-value < 0.05. It means that when the attrition value is \"yes\", the environmental satisfaction is higher or equal to the enviornmental satisfaction value when attrition value is \"no\". A possible deduction from this can be that when an employee is leaving the company it is not due to a low environmental satisfaction (as it is greater with a \"yes\" attrition). There might be some other factors then at play for the employees with a \"yes\" attrition (making them resign or leave). "
   ]
  },
  {
   "cell_type": "markdown",
   "id": "569e89a6",
   "metadata": {},
   "source": [
    "### 5: Monthly Income and Laboratory Technician\n",
    "#### Null Hypothesis: Monthly income of Manager is greater than that of Laboratory Technician.\n",
    "#### Alternative Hypothesis: Monthly income of Manager is less that or equal to that of Laboratory Technician."
   ]
  },
  {
   "cell_type": "code",
   "execution_count": 9,
   "id": "14af9ec9",
   "metadata": {},
   "outputs": [
    {
     "data": {
      "text/plain": [
       "Ttest_indResult(statistic=76.03317414634023, pvalue=1.9942336668736867e-223)"
      ]
     },
     "execution_count": 9,
     "metadata": {},
     "output_type": "execute_result"
    }
   ],
   "source": [
    "manager = data[data['JobRole']=='Manager']['MonthlyIncome']\n",
    "tech = data[data['JobRole']=='Laboratory Technician']['MonthlyIncome']\n",
    "\n",
    "stats.ttest_ind(manager, tech)"
   ]
  },
  {
   "cell_type": "markdown",
   "id": "fca183b5",
   "metadata": {},
   "source": [
    "#### Accept the alternative hypothesis. The p-value < 0.05 which means that the monthly income of a Laboratory Technician is greater than or equal to the monthly income of the Manager. The reasons of the difference in the salary package depends on the agenda of the company. If it is a research based company then the funds are invested more in the researchers and the people working in the experimentation side that may be the case for this data."
   ]
  },
  {
   "cell_type": "markdown",
   "id": "139d421a",
   "metadata": {},
   "source": [
    "### 6: Associatiation between Department and Gender\n",
    "#### Null Hypothesis: There is no association between Department and Gender (they are independent variables). \n",
    "#### Alternative Hypothesis: There is an association between Department and Gender (they are dependent variables). "
   ]
  },
  {
   "cell_type": "code",
   "execution_count": 10,
   "id": "7c5ed67a",
   "metadata": {},
   "outputs": [
    {
     "data": {
      "text/html": [
       "<div>\n",
       "<style scoped>\n",
       "    .dataframe tbody tr th:only-of-type {\n",
       "        vertical-align: middle;\n",
       "    }\n",
       "\n",
       "    .dataframe tbody tr th {\n",
       "        vertical-align: top;\n",
       "    }\n",
       "\n",
       "    .dataframe thead th {\n",
       "        text-align: right;\n",
       "    }\n",
       "</style>\n",
       "<table border=\"1\" class=\"dataframe\">\n",
       "  <thead>\n",
       "    <tr style=\"text-align: right;\">\n",
       "      <th>Gender</th>\n",
       "      <th>Female</th>\n",
       "      <th>Male</th>\n",
       "      <th>All</th>\n",
       "    </tr>\n",
       "    <tr>\n",
       "      <th>Department</th>\n",
       "      <th></th>\n",
       "      <th></th>\n",
       "      <th></th>\n",
       "    </tr>\n",
       "  </thead>\n",
       "  <tbody>\n",
       "    <tr>\n",
       "      <th>Human Resources</th>\n",
       "      <td>20</td>\n",
       "      <td>43</td>\n",
       "      <td>63</td>\n",
       "    </tr>\n",
       "    <tr>\n",
       "      <th>Research &amp; Development</th>\n",
       "      <td>379</td>\n",
       "      <td>582</td>\n",
       "      <td>961</td>\n",
       "    </tr>\n",
       "    <tr>\n",
       "      <th>Sales</th>\n",
       "      <td>189</td>\n",
       "      <td>257</td>\n",
       "      <td>446</td>\n",
       "    </tr>\n",
       "    <tr>\n",
       "      <th>All</th>\n",
       "      <td>588</td>\n",
       "      <td>882</td>\n",
       "      <td>1470</td>\n",
       "    </tr>\n",
       "  </tbody>\n",
       "</table>\n",
       "</div>"
      ],
      "text/plain": [
       "Gender                  Female  Male   All\n",
       "Department                                \n",
       "Human Resources             20    43    63\n",
       "Research & Development     379   582   961\n",
       "Sales                      189   257   446\n",
       "All                        588   882  1470"
      ]
     },
     "execution_count": 10,
     "metadata": {},
     "output_type": "execute_result"
    }
   ],
   "source": [
    "chisqt = pd.crosstab(data['Department'],data['Gender'], margins=True)\n",
    "\n",
    "chisqt"
   ]
  },
  {
   "cell_type": "code",
   "execution_count": 11,
   "id": "3f44ee88",
   "metadata": {},
   "outputs": [
    {
     "data": {
      "text/plain": [
       "(1.4709421142834458,\n",
       " 0.47927963769548776,\n",
       " 2,\n",
       " array([[ 24.54785156,  38.45214844,  63.        ],\n",
       "        [374.45214844, 586.54785156, 961.        ]]))"
      ]
     },
     "execution_count": 11,
     "metadata": {},
     "output_type": "execute_result"
    }
   ],
   "source": [
    "value = np.array([chisqt.iloc[0][0:].values, chisqt.iloc[1][0:].values])\n",
    "\n",
    "stats.chi2_contingency(value)"
   ]
  },
  {
   "cell_type": "code",
   "execution_count": 12,
   "id": "e5ae3f62",
   "metadata": {},
   "outputs": [
    {
     "data": {
      "text/plain": [
       "1.4709421142834458"
      ]
     },
     "execution_count": 12,
     "metadata": {},
     "output_type": "execute_result"
    }
   ],
   "source": [
    "chi2, p, dof, ex = stats.chi2_contingency(value)\n",
    "\n",
    "chi2"
   ]
  },
  {
   "cell_type": "code",
   "execution_count": 13,
   "id": "30b00613",
   "metadata": {},
   "outputs": [
    {
     "data": {
      "text/plain": [
       "0.47927963769548776"
      ]
     },
     "execution_count": 13,
     "metadata": {},
     "output_type": "execute_result"
    }
   ],
   "source": [
    "p"
   ]
  },
  {
   "cell_type": "markdown",
   "id": "b69d0d3a",
   "metadata": {},
   "source": [
    "#### Accept null hypothesis. The p-value > 0.05 which means that there is an association between Department and Gender. We can deduce that there is no specific department that is saturated with only one kind of Gender and that in this company females or males are hired fairly in all of the departments. "
   ]
  },
  {
   "cell_type": "markdown",
   "id": "91bbf925",
   "metadata": {},
   "source": [
    "# End of Assignment"
   ]
  }
 ],
 "metadata": {
  "kernelspec": {
   "display_name": "Python 3 (ipykernel)",
   "language": "python",
   "name": "python3"
  },
  "language_info": {
   "codemirror_mode": {
    "name": "ipython",
    "version": 3
   },
   "file_extension": ".py",
   "mimetype": "text/x-python",
   "name": "python",
   "nbconvert_exporter": "python",
   "pygments_lexer": "ipython3",
   "version": "3.9.7"
  }
 },
 "nbformat": 4,
 "nbformat_minor": 5
}
