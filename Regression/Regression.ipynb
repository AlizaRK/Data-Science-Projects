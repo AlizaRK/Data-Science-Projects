{
 "cells": [
  {
   "cell_type": "markdown",
   "metadata": {
    "id": "tMKCp5k_cKJL"
   },
   "source": [
    "# Homework 8: Regression"
   ]
  },
  {
   "cell_type": "markdown",
   "metadata": {
    "id": "_-PBnHIPcKJO"
   },
   "source": [
    "# Aliza Rafique (ar05986)"
   ]
  },
  {
   "cell_type": "markdown",
   "metadata": {
    "id": "dcoyXtolcKJP"
   },
   "source": [
    "# ar06986@st.habib.edu.pk"
   ]
  },
  {
   "cell_type": "markdown",
   "metadata": {
    "id": "OOm_CeG7cKJP"
   },
   "source": [
    "## Necessary imports"
   ]
  },
  {
   "cell_type": "code",
   "execution_count": 2,
   "metadata": {
    "id": "6e0zxEoXcKJQ"
   },
   "outputs": [],
   "source": [
    "import pandas as pd\n",
    "import numpy as np\n",
    "import scipy\n",
    "import statsmodels.api as sm\n",
    "from statsmodels.formula.api import ols\n",
    "import matplotlib.pyplot as plt\n",
    "import seaborn as sns\n",
    "import random"
   ]
  },
  {
   "cell_type": "code",
   "execution_count": 3,
   "metadata": {
    "colab": {
     "base_uri": "https://localhost:8080/",
     "height": 661
    },
    "id": "Cw9TL5LOcKJS",
    "outputId": "308aee56-6da2-483d-d8dc-09e679979538"
   },
   "outputs": [
    {
     "data": {
      "text/html": [
       "<div>\n",
       "<style scoped>\n",
       "    .dataframe tbody tr th:only-of-type {\n",
       "        vertical-align: middle;\n",
       "    }\n",
       "\n",
       "    .dataframe tbody tr th {\n",
       "        vertical-align: top;\n",
       "    }\n",
       "\n",
       "    .dataframe thead th {\n",
       "        text-align: right;\n",
       "    }\n",
       "</style>\n",
       "<table border=\"1\" class=\"dataframe\">\n",
       "  <thead>\n",
       "    <tr style=\"text-align: right;\">\n",
       "      <th></th>\n",
       "      <th>Age</th>\n",
       "      <th>Department</th>\n",
       "      <th>DistanceFromHome</th>\n",
       "      <th>Education</th>\n",
       "      <th>EducationField</th>\n",
       "      <th>Gender</th>\n",
       "      <th>HourlyRate</th>\n",
       "      <th>JobLevel</th>\n",
       "      <th>JobRole</th>\n",
       "      <th>MaritalStatus</th>\n",
       "      <th>...</th>\n",
       "      <th>PerformanceRating</th>\n",
       "      <th>StockOptionLevel</th>\n",
       "      <th>TotalWorkingYears</th>\n",
       "      <th>TrainingTimesLastYear</th>\n",
       "      <th>WorkLifeBalance</th>\n",
       "      <th>YearsAtCompany</th>\n",
       "      <th>YearsInCurrentRole</th>\n",
       "      <th>YearsSinceLastPromotion</th>\n",
       "      <th>YearsWithCurrManager</th>\n",
       "      <th>MonthlyIncome</th>\n",
       "    </tr>\n",
       "  </thead>\n",
       "  <tbody>\n",
       "    <tr>\n",
       "      <th>0</th>\n",
       "      <td>41</td>\n",
       "      <td>Sales</td>\n",
       "      <td>1</td>\n",
       "      <td>2</td>\n",
       "      <td>Life Sciences</td>\n",
       "      <td>Female</td>\n",
       "      <td>94</td>\n",
       "      <td>2</td>\n",
       "      <td>Sales Executive</td>\n",
       "      <td>Single</td>\n",
       "      <td>...</td>\n",
       "      <td>3</td>\n",
       "      <td>0</td>\n",
       "      <td>8</td>\n",
       "      <td>0</td>\n",
       "      <td>1</td>\n",
       "      <td>6</td>\n",
       "      <td>4</td>\n",
       "      <td>0</td>\n",
       "      <td>5</td>\n",
       "      <td>5993</td>\n",
       "    </tr>\n",
       "    <tr>\n",
       "      <th>1</th>\n",
       "      <td>49</td>\n",
       "      <td>Research &amp; Development</td>\n",
       "      <td>8</td>\n",
       "      <td>1</td>\n",
       "      <td>Life Sciences</td>\n",
       "      <td>Male</td>\n",
       "      <td>61</td>\n",
       "      <td>2</td>\n",
       "      <td>Research Scientist</td>\n",
       "      <td>Married</td>\n",
       "      <td>...</td>\n",
       "      <td>4</td>\n",
       "      <td>1</td>\n",
       "      <td>10</td>\n",
       "      <td>3</td>\n",
       "      <td>3</td>\n",
       "      <td>10</td>\n",
       "      <td>7</td>\n",
       "      <td>1</td>\n",
       "      <td>7</td>\n",
       "      <td>5130</td>\n",
       "    </tr>\n",
       "    <tr>\n",
       "      <th>2</th>\n",
       "      <td>37</td>\n",
       "      <td>Research &amp; Development</td>\n",
       "      <td>2</td>\n",
       "      <td>2</td>\n",
       "      <td>Other</td>\n",
       "      <td>Male</td>\n",
       "      <td>92</td>\n",
       "      <td>1</td>\n",
       "      <td>Laboratory Technician</td>\n",
       "      <td>Single</td>\n",
       "      <td>...</td>\n",
       "      <td>3</td>\n",
       "      <td>0</td>\n",
       "      <td>7</td>\n",
       "      <td>3</td>\n",
       "      <td>3</td>\n",
       "      <td>0</td>\n",
       "      <td>0</td>\n",
       "      <td>0</td>\n",
       "      <td>0</td>\n",
       "      <td>2090</td>\n",
       "    </tr>\n",
       "    <tr>\n",
       "      <th>3</th>\n",
       "      <td>33</td>\n",
       "      <td>Research &amp; Development</td>\n",
       "      <td>3</td>\n",
       "      <td>4</td>\n",
       "      <td>Life Sciences</td>\n",
       "      <td>Female</td>\n",
       "      <td>56</td>\n",
       "      <td>1</td>\n",
       "      <td>Research Scientist</td>\n",
       "      <td>Married</td>\n",
       "      <td>...</td>\n",
       "      <td>3</td>\n",
       "      <td>0</td>\n",
       "      <td>8</td>\n",
       "      <td>3</td>\n",
       "      <td>3</td>\n",
       "      <td>8</td>\n",
       "      <td>7</td>\n",
       "      <td>3</td>\n",
       "      <td>0</td>\n",
       "      <td>2909</td>\n",
       "    </tr>\n",
       "    <tr>\n",
       "      <th>4</th>\n",
       "      <td>27</td>\n",
       "      <td>Research &amp; Development</td>\n",
       "      <td>2</td>\n",
       "      <td>1</td>\n",
       "      <td>Medical</td>\n",
       "      <td>Male</td>\n",
       "      <td>40</td>\n",
       "      <td>1</td>\n",
       "      <td>Laboratory Technician</td>\n",
       "      <td>Married</td>\n",
       "      <td>...</td>\n",
       "      <td>3</td>\n",
       "      <td>1</td>\n",
       "      <td>6</td>\n",
       "      <td>3</td>\n",
       "      <td>3</td>\n",
       "      <td>2</td>\n",
       "      <td>2</td>\n",
       "      <td>2</td>\n",
       "      <td>2</td>\n",
       "      <td>3468</td>\n",
       "    </tr>\n",
       "    <tr>\n",
       "      <th>...</th>\n",
       "      <td>...</td>\n",
       "      <td>...</td>\n",
       "      <td>...</td>\n",
       "      <td>...</td>\n",
       "      <td>...</td>\n",
       "      <td>...</td>\n",
       "      <td>...</td>\n",
       "      <td>...</td>\n",
       "      <td>...</td>\n",
       "      <td>...</td>\n",
       "      <td>...</td>\n",
       "      <td>...</td>\n",
       "      <td>...</td>\n",
       "      <td>...</td>\n",
       "      <td>...</td>\n",
       "      <td>...</td>\n",
       "      <td>...</td>\n",
       "      <td>...</td>\n",
       "      <td>...</td>\n",
       "      <td>...</td>\n",
       "      <td>...</td>\n",
       "    </tr>\n",
       "    <tr>\n",
       "      <th>1465</th>\n",
       "      <td>36</td>\n",
       "      <td>Research &amp; Development</td>\n",
       "      <td>23</td>\n",
       "      <td>2</td>\n",
       "      <td>Medical</td>\n",
       "      <td>Male</td>\n",
       "      <td>41</td>\n",
       "      <td>2</td>\n",
       "      <td>Laboratory Technician</td>\n",
       "      <td>Married</td>\n",
       "      <td>...</td>\n",
       "      <td>3</td>\n",
       "      <td>1</td>\n",
       "      <td>17</td>\n",
       "      <td>3</td>\n",
       "      <td>3</td>\n",
       "      <td>5</td>\n",
       "      <td>2</td>\n",
       "      <td>0</td>\n",
       "      <td>3</td>\n",
       "      <td>2571</td>\n",
       "    </tr>\n",
       "    <tr>\n",
       "      <th>1466</th>\n",
       "      <td>39</td>\n",
       "      <td>Research &amp; Development</td>\n",
       "      <td>6</td>\n",
       "      <td>1</td>\n",
       "      <td>Medical</td>\n",
       "      <td>Male</td>\n",
       "      <td>42</td>\n",
       "      <td>3</td>\n",
       "      <td>Healthcare Representative</td>\n",
       "      <td>Married</td>\n",
       "      <td>...</td>\n",
       "      <td>3</td>\n",
       "      <td>1</td>\n",
       "      <td>9</td>\n",
       "      <td>5</td>\n",
       "      <td>3</td>\n",
       "      <td>7</td>\n",
       "      <td>7</td>\n",
       "      <td>1</td>\n",
       "      <td>7</td>\n",
       "      <td>9991</td>\n",
       "    </tr>\n",
       "    <tr>\n",
       "      <th>1467</th>\n",
       "      <td>27</td>\n",
       "      <td>Research &amp; Development</td>\n",
       "      <td>4</td>\n",
       "      <td>3</td>\n",
       "      <td>Life Sciences</td>\n",
       "      <td>Male</td>\n",
       "      <td>87</td>\n",
       "      <td>2</td>\n",
       "      <td>Manufacturing Director</td>\n",
       "      <td>Married</td>\n",
       "      <td>...</td>\n",
       "      <td>4</td>\n",
       "      <td>1</td>\n",
       "      <td>6</td>\n",
       "      <td>0</td>\n",
       "      <td>3</td>\n",
       "      <td>6</td>\n",
       "      <td>2</td>\n",
       "      <td>0</td>\n",
       "      <td>3</td>\n",
       "      <td>6142</td>\n",
       "    </tr>\n",
       "    <tr>\n",
       "      <th>1468</th>\n",
       "      <td>49</td>\n",
       "      <td>Sales</td>\n",
       "      <td>2</td>\n",
       "      <td>3</td>\n",
       "      <td>Medical</td>\n",
       "      <td>Male</td>\n",
       "      <td>63</td>\n",
       "      <td>2</td>\n",
       "      <td>Sales Executive</td>\n",
       "      <td>Married</td>\n",
       "      <td>...</td>\n",
       "      <td>3</td>\n",
       "      <td>0</td>\n",
       "      <td>17</td>\n",
       "      <td>3</td>\n",
       "      <td>2</td>\n",
       "      <td>9</td>\n",
       "      <td>6</td>\n",
       "      <td>0</td>\n",
       "      <td>8</td>\n",
       "      <td>5390</td>\n",
       "    </tr>\n",
       "    <tr>\n",
       "      <th>1469</th>\n",
       "      <td>34</td>\n",
       "      <td>Research &amp; Development</td>\n",
       "      <td>8</td>\n",
       "      <td>3</td>\n",
       "      <td>Medical</td>\n",
       "      <td>Male</td>\n",
       "      <td>82</td>\n",
       "      <td>2</td>\n",
       "      <td>Laboratory Technician</td>\n",
       "      <td>Married</td>\n",
       "      <td>...</td>\n",
       "      <td>3</td>\n",
       "      <td>0</td>\n",
       "      <td>6</td>\n",
       "      <td>3</td>\n",
       "      <td>4</td>\n",
       "      <td>4</td>\n",
       "      <td>3</td>\n",
       "      <td>1</td>\n",
       "      <td>2</td>\n",
       "      <td>4404</td>\n",
       "    </tr>\n",
       "  </tbody>\n",
       "</table>\n",
       "<p>1470 rows × 22 columns</p>\n",
       "</div>"
      ],
      "text/plain": [
       "      Age              Department  DistanceFromHome  Education EducationField  \\\n",
       "0      41                   Sales                 1          2  Life Sciences   \n",
       "1      49  Research & Development                 8          1  Life Sciences   \n",
       "2      37  Research & Development                 2          2          Other   \n",
       "3      33  Research & Development                 3          4  Life Sciences   \n",
       "4      27  Research & Development                 2          1        Medical   \n",
       "...   ...                     ...               ...        ...            ...   \n",
       "1465   36  Research & Development                23          2        Medical   \n",
       "1466   39  Research & Development                 6          1        Medical   \n",
       "1467   27  Research & Development                 4          3  Life Sciences   \n",
       "1468   49                   Sales                 2          3        Medical   \n",
       "1469   34  Research & Development                 8          3        Medical   \n",
       "\n",
       "      Gender  HourlyRate  JobLevel                    JobRole MaritalStatus  \\\n",
       "0     Female          94         2            Sales Executive        Single   \n",
       "1       Male          61         2         Research Scientist       Married   \n",
       "2       Male          92         1      Laboratory Technician        Single   \n",
       "3     Female          56         1         Research Scientist       Married   \n",
       "4       Male          40         1      Laboratory Technician       Married   \n",
       "...      ...         ...       ...                        ...           ...   \n",
       "1465    Male          41         2      Laboratory Technician       Married   \n",
       "1466    Male          42         3  Healthcare Representative       Married   \n",
       "1467    Male          87         2     Manufacturing Director       Married   \n",
       "1468    Male          63         2            Sales Executive       Married   \n",
       "1469    Male          82         2      Laboratory Technician       Married   \n",
       "\n",
       "      ...  PerformanceRating StockOptionLevel  TotalWorkingYears  \\\n",
       "0     ...                  3                0                  8   \n",
       "1     ...                  4                1                 10   \n",
       "2     ...                  3                0                  7   \n",
       "3     ...                  3                0                  8   \n",
       "4     ...                  3                1                  6   \n",
       "...   ...                ...              ...                ...   \n",
       "1465  ...                  3                1                 17   \n",
       "1466  ...                  3                1                  9   \n",
       "1467  ...                  4                1                  6   \n",
       "1468  ...                  3                0                 17   \n",
       "1469  ...                  3                0                  6   \n",
       "\n",
       "      TrainingTimesLastYear  WorkLifeBalance  YearsAtCompany  \\\n",
       "0                         0                1               6   \n",
       "1                         3                3              10   \n",
       "2                         3                3               0   \n",
       "3                         3                3               8   \n",
       "4                         3                3               2   \n",
       "...                     ...              ...             ...   \n",
       "1465                      3                3               5   \n",
       "1466                      5                3               7   \n",
       "1467                      0                3               6   \n",
       "1468                      3                2               9   \n",
       "1469                      3                4               4   \n",
       "\n",
       "      YearsInCurrentRole  YearsSinceLastPromotion  YearsWithCurrManager  \\\n",
       "0                      4                        0                     5   \n",
       "1                      7                        1                     7   \n",
       "2                      0                        0                     0   \n",
       "3                      7                        3                     0   \n",
       "4                      2                        2                     2   \n",
       "...                  ...                      ...                   ...   \n",
       "1465                   2                        0                     3   \n",
       "1466                   7                        1                     7   \n",
       "1467                   2                        0                     3   \n",
       "1468                   6                        0                     8   \n",
       "1469                   3                        1                     2   \n",
       "\n",
       "      MonthlyIncome  \n",
       "0              5993  \n",
       "1              5130  \n",
       "2              2090  \n",
       "3              2909  \n",
       "4              3468  \n",
       "...             ...  \n",
       "1465           2571  \n",
       "1466           9991  \n",
       "1467           6142  \n",
       "1468           5390  \n",
       "1469           4404  \n",
       "\n",
       "[1470 rows x 22 columns]"
      ]
     },
     "execution_count": 3,
     "metadata": {},
     "output_type": "execute_result"
    }
   ],
   "source": [
    "df = pd.read_csv(\"EmployeeSalaryRegression.csv\")\n",
    "df"
   ]
  },
  {
   "cell_type": "markdown",
   "metadata": {
    "id": "j1Ah0dokcKJU"
   },
   "source": [
    "## Question 1"
   ]
  },
  {
   "cell_type": "markdown",
   "metadata": {
    "id": "Jvl_Bd80cKJV"
   },
   "source": [
    "#### Monthly Income against Total Working Years"
   ]
  },
  {
   "cell_type": "code",
   "execution_count": 4,
   "metadata": {
    "id": "DB7gVkpAcKJV"
   },
   "outputs": [],
   "source": [
    "X = df.drop(['MonthlyIncome'],axis=1)\n",
    "Y = df['MonthlyIncome']"
   ]
  },
  {
   "cell_type": "code",
   "execution_count": 5,
   "metadata": {
    "colab": {
     "base_uri": "https://localhost:8080/",
     "height": 506
    },
    "id": "lyj475r7cKJW",
    "outputId": "417613d6-1030-4b07-f14b-e45a328585c8"
   },
   "outputs": [
    {
     "data": {
      "text/html": [
       "<table class=\"simpletable\">\n",
       "<caption>OLS Regression Results</caption>\n",
       "<tr>\n",
       "  <th>Dep. Variable:</th>      <td>MonthlyIncome</td>  <th>  R-squared:         </th> <td>   0.597</td> \n",
       "</tr>\n",
       "<tr>\n",
       "  <th>Model:</th>                   <td>OLS</td>       <th>  Adj. R-squared:    </th> <td>   0.597</td> \n",
       "</tr>\n",
       "<tr>\n",
       "  <th>Method:</th>             <td>Least Squares</td>  <th>  F-statistic:       </th> <td>   2178.</td> \n",
       "</tr>\n",
       "<tr>\n",
       "  <th>Date:</th>             <td>Mon, 14 Mar 2022</td> <th>  Prob (F-statistic):</th> <td>2.73e-292</td>\n",
       "</tr>\n",
       "<tr>\n",
       "  <th>Time:</th>                 <td>22:47:08</td>     <th>  Log-Likelihood:    </th> <td> -13848.</td> \n",
       "</tr>\n",
       "<tr>\n",
       "  <th>No. Observations:</th>      <td>  1470</td>      <th>  AIC:               </th> <td>2.770e+04</td>\n",
       "</tr>\n",
       "<tr>\n",
       "  <th>Df Residuals:</th>          <td>  1468</td>      <th>  BIC:               </th> <td>2.771e+04</td>\n",
       "</tr>\n",
       "<tr>\n",
       "  <th>Df Model:</th>              <td>     1</td>      <th>                     </th>     <td> </td>    \n",
       "</tr>\n",
       "<tr>\n",
       "  <th>Covariance Type:</th>      <td>nonrobust</td>    <th>                     </th>     <td> </td>    \n",
       "</tr>\n",
       "</table>\n",
       "<table class=\"simpletable\">\n",
       "<tr>\n",
       "          <td></td>             <th>coef</th>     <th>std err</th>      <th>t</th>      <th>P>|t|</th>  <th>[0.025</th>    <th>0.975]</th>  \n",
       "</tr>\n",
       "<tr>\n",
       "  <th>const</th>             <td> 1227.9353</td> <td>  137.299</td> <td>    8.944</td> <td> 0.000</td> <td>  958.612</td> <td> 1497.259</td>\n",
       "</tr>\n",
       "<tr>\n",
       "  <th>TotalWorkingYears</th> <td>  467.6584</td> <td>   10.021</td> <td>   46.669</td> <td> 0.000</td> <td>  448.002</td> <td>  487.315</td>\n",
       "</tr>\n",
       "</table>\n",
       "<table class=\"simpletable\">\n",
       "<tr>\n",
       "  <th>Omnibus:</th>       <td>47.473</td> <th>  Durbin-Watson:     </th> <td>   1.993</td>\n",
       "</tr>\n",
       "<tr>\n",
       "  <th>Prob(Omnibus):</th> <td> 0.000</td> <th>  Jarque-Bera (JB):  </th> <td>  79.304</td>\n",
       "</tr>\n",
       "<tr>\n",
       "  <th>Skew:</th>          <td> 0.269</td> <th>  Prob(JB):          </th> <td>6.02e-18</td>\n",
       "</tr>\n",
       "<tr>\n",
       "  <th>Kurtosis:</th>      <td> 4.003</td> <th>  Cond. No.          </th> <td>    24.2</td>\n",
       "</tr>\n",
       "</table><br/><br/>Notes:<br/>[1] Standard Errors assume that the covariance matrix of the errors is correctly specified."
      ],
      "text/plain": [
       "<class 'statsmodels.iolib.summary.Summary'>\n",
       "\"\"\"\n",
       "                            OLS Regression Results                            \n",
       "==============================================================================\n",
       "Dep. Variable:          MonthlyIncome   R-squared:                       0.597\n",
       "Model:                            OLS   Adj. R-squared:                  0.597\n",
       "Method:                 Least Squares   F-statistic:                     2178.\n",
       "Date:                Mon, 14 Mar 2022   Prob (F-statistic):          2.73e-292\n",
       "Time:                        22:47:08   Log-Likelihood:                -13848.\n",
       "No. Observations:                1470   AIC:                         2.770e+04\n",
       "Df Residuals:                    1468   BIC:                         2.771e+04\n",
       "Df Model:                           1                                         \n",
       "Covariance Type:            nonrobust                                         \n",
       "=====================================================================================\n",
       "                        coef    std err          t      P>|t|      [0.025      0.975]\n",
       "-------------------------------------------------------------------------------------\n",
       "const              1227.9353    137.299      8.944      0.000     958.612    1497.259\n",
       "TotalWorkingYears   467.6584     10.021     46.669      0.000     448.002     487.315\n",
       "==============================================================================\n",
       "Omnibus:                       47.473   Durbin-Watson:                   1.993\n",
       "Prob(Omnibus):                  0.000   Jarque-Bera (JB):               79.304\n",
       "Skew:                           0.269   Prob(JB):                     6.02e-18\n",
       "Kurtosis:                       4.003   Cond. No.                         24.2\n",
       "==============================================================================\n",
       "\n",
       "Notes:\n",
       "[1] Standard Errors assume that the covariance matrix of the errors is correctly specified.\n",
       "\"\"\""
      ]
     },
     "execution_count": 5,
     "metadata": {},
     "output_type": "execute_result"
    }
   ],
   "source": [
    "model = sm.OLS(Y,sm.add_constant(X['TotalWorkingYears'])).fit()\n",
    "model.summary()"
   ]
  },
  {
   "cell_type": "markdown",
   "metadata": {
    "id": "YtU8SDNfcKJX"
   },
   "source": [
    "### Explanation"
   ]
  },
  {
   "cell_type": "markdown",
   "metadata": {
    "id": "dLJpdYVQcKJY"
   },
   "source": [
    "The value of p is 0.000, a lot less than 0.05 which indicates that the correlation between total working years and monthly income exists and is strong. Practically, it means that for every 1 year increase in the working years, the monthly income increases by 467.65. Without even any working years, an employee gets approximatly 1228. "
   ]
  },
  {
   "cell_type": "markdown",
   "metadata": {
    "id": "8rNt97NacKJZ"
   },
   "source": [
    "### Visualization"
   ]
  },
  {
   "cell_type": "code",
   "execution_count": 6,
   "metadata": {
    "colab": {
     "base_uri": "https://localhost:8080/",
     "height": 296
    },
    "id": "7nziOm1_cKJZ",
    "outputId": "9a859bf1-3667-47b0-84a0-234e1f74a794"
   },
   "outputs": [
    {
     "name": "stderr",
     "output_type": "stream",
     "text": [
      "C:\\Users\\Haroon\\AppData\\Local\\Programs\\Python\\Python37\\lib\\site-packages\\matplotlib\\cbook\\__init__.py:1402: FutureWarning: Support for multi-dimensional indexing (e.g. `obj[:, None]`) is deprecated and will be removed in a future version.  Convert to a numpy array before indexing instead.\n",
      "  x[:, None]\n",
      "C:\\Users\\Haroon\\AppData\\Local\\Programs\\Python\\Python37\\lib\\site-packages\\matplotlib\\axes\\_base.py:276: FutureWarning: Support for multi-dimensional indexing (e.g. `obj[:, None]`) is deprecated and will be removed in a future version.  Convert to a numpy array before indexing instead.\n",
      "  x = x[:, np.newaxis]\n",
      "C:\\Users\\Haroon\\AppData\\Local\\Programs\\Python\\Python37\\lib\\site-packages\\matplotlib\\axes\\_base.py:278: FutureWarning: Support for multi-dimensional indexing (e.g. `obj[:, None]`) is deprecated and will be removed in a future version.  Convert to a numpy array before indexing instead.\n",
      "  y = y[:, np.newaxis]\n"
     ]
    },
    {
     "data": {
      "text/plain": [
       "Text(0, 0.5, 'Monthly Income')"
      ]
     },
     "execution_count": 6,
     "metadata": {},
     "output_type": "execute_result"
    },
    {
     "data": {
      "image/png": "[encoded data removed]",
      "text/plain": [
       "<Figure size 432x288 with 1 Axes>"
      ]
     },
     "metadata": {
      "needs_background": "light"
     },
     "output_type": "display_data"
    }
   ],
   "source": [
    "plt.plot(df['TotalWorkingYears'],df['MonthlyIncome'],'ro')\n",
    "plt.plot(df['TotalWorkingYears'],model.fittedvalues,  'b')\n",
    "plt.legend(['Data', 'Fitted model'])\n",
    "plt.xlabel('Total Working Years')\n",
    "plt.ylabel('Monthly Income')"
   ]
  },
  {
   "cell_type": "markdown",
   "metadata": {
    "id": "WaI6lY5scKJa"
   },
   "source": [
    "## Question 2"
   ]
  },
  {
   "cell_type": "markdown",
   "metadata": {
    "id": "H8Ju8D4-cKJb"
   },
   "source": [
    "#### Distance from home against Age"
   ]
  },
  {
   "cell_type": "code",
   "execution_count": 7,
   "metadata": {
    "id": "iXvCNS33cKJb"
   },
   "outputs": [],
   "source": [
    "X = df.drop(['DistanceFromHome'],axis=1)\n",
    "Y = df['DistanceFromHome']"
   ]
  },
  {
   "cell_type": "code",
   "execution_count": 8,
   "metadata": {
    "colab": {
     "base_uri": "https://localhost:8080/",
     "height": 506
    },
    "id": "plTjS04-cKJc",
    "outputId": "51def328-4f9d-492d-d97a-54f254759af2"
   },
   "outputs": [
    {
     "data": {
      "text/html": [
       "<table class=\"simpletable\">\n",
       "<caption>OLS Regression Results</caption>\n",
       "<tr>\n",
       "  <th>Dep. Variable:</th>    <td>DistanceFromHome</td> <th>  R-squared:         </th> <td>   0.000</td> \n",
       "</tr>\n",
       "<tr>\n",
       "  <th>Model:</th>                   <td>OLS</td>       <th>  Adj. R-squared:    </th> <td>  -0.001</td> \n",
       "</tr>\n",
       "<tr>\n",
       "  <th>Method:</th>             <td>Least Squares</td>  <th>  F-statistic:       </th> <td>0.004174</td> \n",
       "</tr>\n",
       "<tr>\n",
       "  <th>Date:</th>             <td>Mon, 14 Mar 2022</td> <th>  Prob (F-statistic):</th>  <td> 0.948</td>  \n",
       "</tr>\n",
       "<tr>\n",
       "  <th>Time:</th>                 <td>22:47:09</td>     <th>  Log-Likelihood:    </th> <td> -5161.6</td> \n",
       "</tr>\n",
       "<tr>\n",
       "  <th>No. Observations:</th>      <td>  1470</td>      <th>  AIC:               </th> <td>1.033e+04</td>\n",
       "</tr>\n",
       "<tr>\n",
       "  <th>Df Residuals:</th>          <td>  1468</td>      <th>  BIC:               </th> <td>1.034e+04</td>\n",
       "</tr>\n",
       "<tr>\n",
       "  <th>Df Model:</th>              <td>     1</td>      <th>                     </th>     <td> </td>    \n",
       "</tr>\n",
       "<tr>\n",
       "  <th>Covariance Type:</th>      <td>nonrobust</td>    <th>                     </th>     <td> </td>    \n",
       "</tr>\n",
       "</table>\n",
       "<table class=\"simpletable\">\n",
       "<tr>\n",
       "    <td></td>       <th>coef</th>     <th>std err</th>      <th>t</th>      <th>P>|t|</th>  <th>[0.025</th>    <th>0.975]</th>  \n",
       "</tr>\n",
       "<tr>\n",
       "  <th>const</th> <td>    9.2478</td> <td>    0.881</td> <td>   10.497</td> <td> 0.000</td> <td>    7.520</td> <td>   10.976</td>\n",
       "</tr>\n",
       "<tr>\n",
       "  <th>Age</th>   <td>   -0.0015</td> <td>    0.023</td> <td>   -0.065</td> <td> 0.948</td> <td>   -0.047</td> <td>    0.044</td>\n",
       "</tr>\n",
       "</table>\n",
       "<table class=\"simpletable\">\n",
       "<tr>\n",
       "  <th>Omnibus:</th>       <td>168.749</td> <th>  Durbin-Watson:     </th> <td>   2.000</td>\n",
       "</tr>\n",
       "<tr>\n",
       "  <th>Prob(Omnibus):</th> <td> 0.000</td>  <th>  Jarque-Bera (JB):  </th> <td> 227.762</td>\n",
       "</tr>\n",
       "<tr>\n",
       "  <th>Skew:</th>          <td> 0.957</td>  <th>  Prob(JB):          </th> <td>3.48e-50</td>\n",
       "</tr>\n",
       "<tr>\n",
       "  <th>Kurtosis:</th>      <td> 2.773</td>  <th>  Cond. No.          </th> <td>    159.</td>\n",
       "</tr>\n",
       "</table><br/><br/>Notes:<br/>[1] Standard Errors assume that the covariance matrix of the errors is correctly specified."
      ],
      "text/plain": [
       "<class 'statsmodels.iolib.summary.Summary'>\n",
       "\"\"\"\n",
       "                            OLS Regression Results                            \n",
       "==============================================================================\n",
       "Dep. Variable:       DistanceFromHome   R-squared:                       0.000\n",
       "Model:                            OLS   Adj. R-squared:                 -0.001\n",
       "Method:                 Least Squares   F-statistic:                  0.004174\n",
       "Date:                Mon, 14 Mar 2022   Prob (F-statistic):              0.948\n",
       "Time:                        22:47:09   Log-Likelihood:                -5161.6\n",
       "No. Observations:                1470   AIC:                         1.033e+04\n",
       "Df Residuals:                    1468   BIC:                         1.034e+04\n",
       "Df Model:                           1                                         \n",
       "Covariance Type:            nonrobust                                         \n",
       "==============================================================================\n",
       "                 coef    std err          t      P>|t|      [0.025      0.975]\n",
       "------------------------------------------------------------------------------\n",
       "const          9.2478      0.881     10.497      0.000       7.520      10.976\n",
       "Age           -0.0015      0.023     -0.065      0.948      -0.047       0.044\n",
       "==============================================================================\n",
       "Omnibus:                      168.749   Durbin-Watson:                   2.000\n",
       "Prob(Omnibus):                  0.000   Jarque-Bera (JB):              227.762\n",
       "Skew:                           0.957   Prob(JB):                     3.48e-50\n",
       "Kurtosis:                       2.773   Cond. No.                         159.\n",
       "==============================================================================\n",
       "\n",
       "Notes:\n",
       "[1] Standard Errors assume that the covariance matrix of the errors is correctly specified.\n",
       "\"\"\""
      ]
     },
     "execution_count": 8,
     "metadata": {},
     "output_type": "execute_result"
    }
   ],
   "source": [
    "model = sm.OLS(Y,sm.add_constant(X['Age'])).fit()\n",
    "model.summary()"
   ]
  },
  {
   "cell_type": "markdown",
   "metadata": {
    "id": "WRyQvetIcKJd"
   },
   "source": [
    "### Explanation"
   ]
  },
  {
   "cell_type": "markdown",
   "metadata": {
    "id": "-6cY_E8PcKJd"
   },
   "source": [
    "The value for p for this model is very high compared to 0.05 which indicates that the null hypothesis stating that there is no relationship between age and distance from home is accepted. It means that younger or older employees do not preferably choose to stay near or far from the office. We can further see this relationship with the following graph:"
   ]
  },
  {
   "cell_type": "markdown",
   "metadata": {
    "id": "RgyWnGtXcKJe"
   },
   "source": [
    "### Visualization"
   ]
  },
  {
   "cell_type": "code",
   "execution_count": 9,
   "metadata": {
    "colab": {
     "base_uri": "https://localhost:8080/",
     "height": 298
    },
    "id": "RHPCZ4UhcKJe",
    "outputId": "9bc81050-4120-4701-b810-f35cbbf58766"
   },
   "outputs": [
    {
     "name": "stderr",
     "output_type": "stream",
     "text": [
      "C:\\Users\\Haroon\\AppData\\Local\\Programs\\Python\\Python37\\lib\\site-packages\\matplotlib\\cbook\\__init__.py:1402: FutureWarning: Support for multi-dimensional indexing (e.g. `obj[:, None]`) is deprecated and will be removed in a future version.  Convert to a numpy array before indexing instead.\n",
      "  x[:, None]\n",
      "C:\\Users\\Haroon\\AppData\\Local\\Programs\\Python\\Python37\\lib\\site-packages\\matplotlib\\axes\\_base.py:276: FutureWarning: Support for multi-dimensional indexing (e.g. `obj[:, None]`) is deprecated and will be removed in a future version.  Convert to a numpy array before indexing instead.\n",
      "  x = x[:, np.newaxis]\n",
      "C:\\Users\\Haroon\\AppData\\Local\\Programs\\Python\\Python37\\lib\\site-packages\\matplotlib\\axes\\_base.py:278: FutureWarning: Support for multi-dimensional indexing (e.g. `obj[:, None]`) is deprecated and will be removed in a future version.  Convert to a numpy array before indexing instead.\n",
      "  y = y[:, np.newaxis]\n"
     ]
    },
    {
     "data": {
      "text/plain": [
       "Text(0, 0.5, 'DistanceFromHome')"
      ]
     },
     "execution_count": 9,
     "metadata": {},
     "output_type": "execute_result"
    },
    {
     "data": {
      "image/png": "[encoded data removed]",
      "text/plain": [
       "<Figure size 432x288 with 1 Axes>"
      ]
     },
     "metadata": {
      "needs_background": "light"
     },
     "output_type": "display_data"
    }
   ],
   "source": [
    "plt.plot(df['Age'],df['DistanceFromHome'],'ro')\n",
    "plt.plot(df['Age'],model.fittedvalues,  'b')\n",
    "plt.legend(['Data', 'Fitted model'])\n",
    "plt.xlabel('Age')\n",
    "plt.ylabel('DistanceFromHome')"
   ]
  },
  {
   "cell_type": "markdown",
   "metadata": {
    "id": "7nyYLLxXcKJf"
   },
   "source": [
    "## Question 3"
   ]
  },
  {
   "cell_type": "markdown",
   "metadata": {
    "id": "Zw8NjxGtcKJf"
   },
   "source": [
    "### Q1"
   ]
  },
  {
   "cell_type": "markdown",
   "metadata": {
    "id": "Kx81wq70cKJg"
   },
   "source": [
    "The r-squared value for this relationship is 0.597 that corresponds to the correlation value of 0.773 between predictions and actual value of monthly income. This indicates that there is a relationship between total working years and monthly income and this is a precise prediction. We can also use the function to find correlation:"
   ]
  },
  {
   "cell_type": "code",
   "execution_count": 10,
   "metadata": {
    "colab": {
     "base_uri": "https://localhost:8080/",
     "height": 175
    },
    "id": "BJniEA27cKJg",
    "outputId": "dcbc0041-d7fb-4b6e-da93-67a2e529510d"
   },
   "outputs": [
    {
     "data": {
      "text/html": [
       "<div>\n",
       "<style scoped>\n",
       "    .dataframe tbody tr th:only-of-type {\n",
       "        vertical-align: middle;\n",
       "    }\n",
       "\n",
       "    .dataframe tbody tr th {\n",
       "        vertical-align: top;\n",
       "    }\n",
       "\n",
       "    .dataframe thead th {\n",
       "        text-align: right;\n",
       "    }\n",
       "</style>\n",
       "<table border=\"1\" class=\"dataframe\">\n",
       "  <thead>\n",
       "    <tr style=\"text-align: right;\">\n",
       "      <th></th>\n",
       "      <th>DistanceFromHome</th>\n",
       "      <th>MonthlyIncome</th>\n",
       "      <th>TotalWorkingYears</th>\n",
       "      <th>Age</th>\n",
       "    </tr>\n",
       "  </thead>\n",
       "  <tbody>\n",
       "    <tr>\n",
       "      <th>DistanceFromHome</th>\n",
       "      <td>1.000000</td>\n",
       "      <td>-0.017014</td>\n",
       "      <td>0.004628</td>\n",
       "      <td>-0.001686</td>\n",
       "    </tr>\n",
       "    <tr>\n",
       "      <th>MonthlyIncome</th>\n",
       "      <td>-0.017014</td>\n",
       "      <td>1.000000</td>\n",
       "      <td>0.772893</td>\n",
       "      <td>0.497855</td>\n",
       "    </tr>\n",
       "    <tr>\n",
       "      <th>TotalWorkingYears</th>\n",
       "      <td>0.004628</td>\n",
       "      <td>0.772893</td>\n",
       "      <td>1.000000</td>\n",
       "      <td>0.680381</td>\n",
       "    </tr>\n",
       "    <tr>\n",
       "      <th>Age</th>\n",
       "      <td>-0.001686</td>\n",
       "      <td>0.497855</td>\n",
       "      <td>0.680381</td>\n",
       "      <td>1.000000</td>\n",
       "    </tr>\n",
       "  </tbody>\n",
       "</table>\n",
       "</div>"
      ],
      "text/plain": [
       "                   DistanceFromHome  MonthlyIncome  TotalWorkingYears  \\\n",
       "DistanceFromHome           1.000000      -0.017014           0.004628   \n",
       "MonthlyIncome             -0.017014       1.000000           0.772893   \n",
       "TotalWorkingYears          0.004628       0.772893           1.000000   \n",
       "Age                       -0.001686       0.497855           0.680381   \n",
       "\n",
       "                        Age  \n",
       "DistanceFromHome  -0.001686  \n",
       "MonthlyIncome      0.497855  \n",
       "TotalWorkingYears  0.680381  \n",
       "Age                1.000000  "
      ]
     },
     "execution_count": 10,
     "metadata": {},
     "output_type": "execute_result"
    }
   ],
   "source": [
    "df2 = df[['DistanceFromHome', 'MonthlyIncome', \"TotalWorkingYears\", \"Age\"]]\n",
    "df2.corr()"
   ]
  },
  {
   "cell_type": "markdown",
   "metadata": {
    "id": "NMZu5_RkcKJg"
   },
   "source": [
    "Here for Q1, the relationship between Monthly income and total working years shows positive correlation value exactly same to the one that we calculated. It also shows that there is a positive correlation between these two variables. "
   ]
  },
  {
   "cell_type": "markdown",
   "metadata": {
    "id": "M0pGUR9ScKJh"
   },
   "source": [
    "### Q2"
   ]
  },
  {
   "cell_type": "markdown",
   "metadata": {
    "id": "opl4TuarcKJh"
   },
   "source": [
    "The r-squared value for this relationship is 0.000 corresponding to correlation value of 0.000. This means that there is no relationship between the variables. "
   ]
  },
  {
   "cell_type": "code",
   "execution_count": 11,
   "metadata": {
    "colab": {
     "base_uri": "https://localhost:8080/",
     "height": 175
    },
    "id": "BJ4CsTiMcKJh",
    "outputId": "580a3e76-48e9-495e-fa7e-d307bd726bdf"
   },
   "outputs": [
    {
     "data": {
      "text/html": [
       "<div>\n",
       "<style scoped>\n",
       "    .dataframe tbody tr th:only-of-type {\n",
       "        vertical-align: middle;\n",
       "    }\n",
       "\n",
       "    .dataframe tbody tr th {\n",
       "        vertical-align: top;\n",
       "    }\n",
       "\n",
       "    .dataframe thead th {\n",
       "        text-align: right;\n",
       "    }\n",
       "</style>\n",
       "<table border=\"1\" class=\"dataframe\">\n",
       "  <thead>\n",
       "    <tr style=\"text-align: right;\">\n",
       "      <th></th>\n",
       "      <th>DistanceFromHome</th>\n",
       "      <th>MonthlyIncome</th>\n",
       "      <th>TotalWorkingYears</th>\n",
       "      <th>Age</th>\n",
       "    </tr>\n",
       "  </thead>\n",
       "  <tbody>\n",
       "    <tr>\n",
       "      <th>DistanceFromHome</th>\n",
       "      <td>1.000000</td>\n",
       "      <td>-0.017014</td>\n",
       "      <td>0.004628</td>\n",
       "      <td>-0.001686</td>\n",
       "    </tr>\n",
       "    <tr>\n",
       "      <th>MonthlyIncome</th>\n",
       "      <td>-0.017014</td>\n",
       "      <td>1.000000</td>\n",
       "      <td>0.772893</td>\n",
       "      <td>0.497855</td>\n",
       "    </tr>\n",
       "    <tr>\n",
       "      <th>TotalWorkingYears</th>\n",
       "      <td>0.004628</td>\n",
       "      <td>0.772893</td>\n",
       "      <td>1.000000</td>\n",
       "      <td>0.680381</td>\n",
       "    </tr>\n",
       "    <tr>\n",
       "      <th>Age</th>\n",
       "      <td>-0.001686</td>\n",
       "      <td>0.497855</td>\n",
       "      <td>0.680381</td>\n",
       "      <td>1.000000</td>\n",
       "    </tr>\n",
       "  </tbody>\n",
       "</table>\n",
       "</div>"
      ],
      "text/plain": [
       "                   DistanceFromHome  MonthlyIncome  TotalWorkingYears  \\\n",
       "DistanceFromHome           1.000000      -0.017014           0.004628   \n",
       "MonthlyIncome             -0.017014       1.000000           0.772893   \n",
       "TotalWorkingYears          0.004628       0.772893           1.000000   \n",
       "Age                       -0.001686       0.497855           0.680381   \n",
       "\n",
       "                        Age  \n",
       "DistanceFromHome  -0.001686  \n",
       "MonthlyIncome      0.497855  \n",
       "TotalWorkingYears  0.680381  \n",
       "Age                1.000000  "
      ]
     },
     "execution_count": 11,
     "metadata": {},
     "output_type": "execute_result"
    }
   ],
   "source": [
    "df2 = df[['DistanceFromHome', 'MonthlyIncome', \"TotalWorkingYears\", \"Age\"]]\n",
    "df2.corr()"
   ]
  },
  {
   "cell_type": "markdown",
   "metadata": {
    "id": "RPPy2I0gcKJi"
   },
   "source": [
    "The correlation value is very weak thus indicating no some to none relationship."
   ]
  },
  {
   "cell_type": "markdown",
   "metadata": {
    "id": "jcWNiIPncKJi"
   },
   "source": [
    "## One hot encoding to be used in the later questions. \n",
    "One hot encoding neeeded to convert categories into numerical data."
   ]
  },
  {
   "cell_type": "code",
   "execution_count": 28,
   "metadata": {
    "id": "8o1hRVvYcKJi"
   },
   "outputs": [],
   "source": [
    "def encoding(df, cols):\n",
    "    one_hot = pd.get_dummies(df, columns=cols)\n",
    "    return one_hot"
   ]
  },
  {
   "cell_type": "markdown",
   "metadata": {
    "id": "Re-lDLi-cKJj"
   },
   "source": [
    "## Question 4"
   ]
  },
  {
   "cell_type": "markdown",
   "metadata": {
    "id": "3-H0VMNkcKJj"
   },
   "source": [
    "### Part 1"
   ]
  },
  {
   "cell_type": "code",
   "execution_count": 29,
   "metadata": {
    "id": "DKz3_kC_cKJj"
   },
   "outputs": [],
   "source": [
    "cols = ['Department', 'Education', 'EducationField', 'Gender', 'JobRole', 'MaritalStatus', 'OverTime']\n",
    "one_hot = encoding(df, cols)\n",
    "X = one_hot.drop(['MonthlyIncome'], axis=1)\n",
    "Y = one_hot['MonthlyIncome']"
   ]
  },
  {
   "cell_type": "code",
   "execution_count": 14,
   "metadata": {
    "colab": {
     "base_uri": "https://localhost:8080/",
     "height": 1000
    },
    "id": "fml-w_cQcKJk",
    "outputId": "dd03197f-cf2c-48b5-d5ca-ef3140bf2756"
   },
   "outputs": [
    {
     "data": {
      "text/html": [
       "<table class=\"simpletable\">\n",
       "<caption>OLS Regression Results</caption>\n",
       "<tr>\n",
       "  <th>Dep. Variable:</th>      <td>MonthlyIncome</td>  <th>  R-squared:         </th> <td>   0.945</td> \n",
       "</tr>\n",
       "<tr>\n",
       "  <th>Model:</th>                   <td>OLS</td>       <th>  Adj. R-squared:    </th> <td>   0.943</td> \n",
       "</tr>\n",
       "<tr>\n",
       "  <th>Method:</th>             <td>Least Squares</td>  <th>  F-statistic:       </th> <td>   661.2</td> \n",
       "</tr>\n",
       "<tr>\n",
       "  <th>Date:</th>             <td>Mon, 14 Mar 2022</td> <th>  Prob (F-statistic):</th>  <td>  0.00</td>  \n",
       "</tr>\n",
       "<tr>\n",
       "  <th>Time:</th>                 <td>22:47:10</td>     <th>  Log-Likelihood:    </th> <td> -12389.</td> \n",
       "</tr>\n",
       "<tr>\n",
       "  <th>No. Observations:</th>      <td>  1470</td>      <th>  AIC:               </th> <td>2.485e+04</td>\n",
       "</tr>\n",
       "<tr>\n",
       "  <th>Df Residuals:</th>          <td>  1432</td>      <th>  BIC:               </th> <td>2.506e+04</td>\n",
       "</tr>\n",
       "<tr>\n",
       "  <th>Df Model:</th>              <td>    37</td>      <th>                     </th>     <td> </td>    \n",
       "</tr>\n",
       "<tr>\n",
       "  <th>Covariance Type:</th>      <td>nonrobust</td>    <th>                     </th>     <td> </td>    \n",
       "</tr>\n",
       "</table>\n",
       "<table class=\"simpletable\">\n",
       "<tr>\n",
       "                  <td></td>                     <th>coef</th>     <th>std err</th>      <th>t</th>      <th>P>|t|</th>  <th>[0.025</th>    <th>0.975]</th>  \n",
       "</tr>\n",
       "<tr>\n",
       "  <th>const</th>                             <td>  300.1479</td> <td>  119.803</td> <td>    2.505</td> <td> 0.012</td> <td>   65.140</td> <td>  535.156</td>\n",
       "</tr>\n",
       "<tr>\n",
       "  <th>Age</th>                               <td>   -4.4277</td> <td>    4.631</td> <td>   -0.956</td> <td> 0.339</td> <td>  -13.513</td> <td>    4.657</td>\n",
       "</tr>\n",
       "<tr>\n",
       "  <th>DistanceFromHome</th>                  <td>   -4.5889</td> <td>    3.643</td> <td>   -1.260</td> <td> 0.208</td> <td>  -11.735</td> <td>    2.557</td>\n",
       "</tr>\n",
       "<tr>\n",
       "  <th>HourlyRate</th>                        <td>    1.4345</td> <td>    1.451</td> <td>    0.989</td> <td> 0.323</td> <td>   -1.411</td> <td>    4.280</td>\n",
       "</tr>\n",
       "<tr>\n",
       "  <th>JobLevel</th>                          <td> 2767.1348</td> <td>   67.758</td> <td>   40.839</td> <td> 0.000</td> <td> 2634.220</td> <td> 2900.050</td>\n",
       "</tr>\n",
       "<tr>\n",
       "  <th>NumCompaniesWorked</th>                <td>   11.2233</td> <td>   13.225</td> <td>    0.849</td> <td> 0.396</td> <td>  -14.719</td> <td>   37.166</td>\n",
       "</tr>\n",
       "<tr>\n",
       "  <th>PerformanceRating</th>                 <td>  -25.0732</td> <td>   81.703</td> <td>   -0.307</td> <td> 0.759</td> <td> -185.344</td> <td>  135.198</td>\n",
       "</tr>\n",
       "<tr>\n",
       "  <th>StockOptionLevel</th>                  <td>  -42.9048</td> <td>   47.391</td> <td>   -0.905</td> <td> 0.365</td> <td> -135.869</td> <td>   50.059</td>\n",
       "</tr>\n",
       "<tr>\n",
       "  <th>TotalWorkingYears</th>                 <td>   47.2463</td> <td>    8.302</td> <td>    5.691</td> <td> 0.000</td> <td>   30.961</td> <td>   63.532</td>\n",
       "</tr>\n",
       "<tr>\n",
       "  <th>TrainingTimesLastYear</th>             <td>  -15.1400</td> <td>   23.104</td> <td>   -0.655</td> <td> 0.512</td> <td>  -60.462</td> <td>   30.182</td>\n",
       "</tr>\n",
       "<tr>\n",
       "  <th>WorkLifeBalance</th>                   <td>  -22.8015</td> <td>   41.963</td> <td>   -0.543</td> <td> 0.587</td> <td> -105.117</td> <td>   59.514</td>\n",
       "</tr>\n",
       "<tr>\n",
       "  <th>YearsAtCompany</th>                    <td>    6.0221</td> <td>   10.389</td> <td>    0.580</td> <td> 0.562</td> <td>  -14.357</td> <td>   26.401</td>\n",
       "</tr>\n",
       "<tr>\n",
       "  <th>YearsInCurrentRole</th>                <td>    0.2450</td> <td>   13.469</td> <td>    0.018</td> <td> 0.985</td> <td>  -26.177</td> <td>   26.667</td>\n",
       "</tr>\n",
       "<tr>\n",
       "  <th>YearsSinceLastPromotion</th>           <td>   23.4739</td> <td>   11.854</td> <td>    1.980</td> <td> 0.048</td> <td>    0.221</td> <td>   46.727</td>\n",
       "</tr>\n",
       "<tr>\n",
       "  <th>YearsWithCurrManager</th>              <td>  -32.8938</td> <td>   13.768</td> <td>   -2.389</td> <td> 0.017</td> <td>  -59.901</td> <td>   -5.887</td>\n",
       "</tr>\n",
       "<tr>\n",
       "  <th>Department_Human Resources</th>        <td>  -20.4541</td> <td>  275.386</td> <td>   -0.074</td> <td> 0.941</td> <td> -560.658</td> <td>  519.750</td>\n",
       "</tr>\n",
       "<tr>\n",
       "  <th>Department_Research & Development</th> <td>  237.4587</td> <td>  170.099</td> <td>    1.396</td> <td> 0.163</td> <td>  -96.210</td> <td>  571.128</td>\n",
       "</tr>\n",
       "<tr>\n",
       "  <th>Department_Sales</th>                  <td>   83.1433</td> <td>  186.008</td> <td>    0.447</td> <td> 0.655</td> <td> -281.733</td> <td>  448.020</td>\n",
       "</tr>\n",
       "<tr>\n",
       "  <th>Education_1</th>                       <td>  244.8780</td> <td>   82.838</td> <td>    2.956</td> <td> 0.003</td> <td>   82.381</td> <td>  407.375</td>\n",
       "</tr>\n",
       "<tr>\n",
       "  <th>Education_2</th>                       <td>  -53.1548</td> <td>   70.739</td> <td>   -0.751</td> <td> 0.453</td> <td> -191.918</td> <td>   85.609</td>\n",
       "</tr>\n",
       "<tr>\n",
       "  <th>Education_3</th>                       <td>  107.2230</td> <td>   58.367</td> <td>    1.837</td> <td> 0.066</td> <td>   -7.270</td> <td>  221.716</td>\n",
       "</tr>\n",
       "<tr>\n",
       "  <th>Education_4</th>                       <td>  124.3094</td> <td>   65.243</td> <td>    1.905</td> <td> 0.057</td> <td>   -3.672</td> <td>  252.291</td>\n",
       "</tr>\n",
       "<tr>\n",
       "  <th>Education_5</th>                       <td> -123.1077</td> <td>  138.764</td> <td>   -0.887</td> <td> 0.375</td> <td> -395.311</td> <td>  149.096</td>\n",
       "</tr>\n",
       "<tr>\n",
       "  <th>EducationField_Human Resources</th>    <td>   86.0188</td> <td>  242.451</td> <td>    0.355</td> <td> 0.723</td> <td> -389.578</td> <td>  561.616</td>\n",
       "</tr>\n",
       "<tr>\n",
       "  <th>EducationField_Life Sciences</th>      <td>   31.1171</td> <td>   72.007</td> <td>    0.432</td> <td> 0.666</td> <td> -110.133</td> <td>  172.368</td>\n",
       "</tr>\n",
       "<tr>\n",
       "  <th>EducationField_Marketing</th>          <td>   94.1579</td> <td>  109.742</td> <td>    0.858</td> <td> 0.391</td> <td> -121.114</td> <td>  309.430</td>\n",
       "</tr>\n",
       "<tr>\n",
       "  <th>EducationField_Medical</th>            <td>   24.8709</td> <td>   75.870</td> <td>    0.328</td> <td> 0.743</td> <td> -123.958</td> <td>  173.699</td>\n",
       "</tr>\n",
       "<tr>\n",
       "  <th>EducationField_Other</th>              <td>  -47.9453</td> <td>  120.670</td> <td>   -0.397</td> <td> 0.691</td> <td> -284.655</td> <td>  188.764</td>\n",
       "</tr>\n",
       "<tr>\n",
       "  <th>EducationField_Technical Degree</th>   <td>  111.9284</td> <td>  101.877</td> <td>    1.099</td> <td> 0.272</td> <td>  -87.916</td> <td>  311.773</td>\n",
       "</tr>\n",
       "<tr>\n",
       "  <th>Gender_Female</th>                     <td>  110.7195</td> <td>   67.937</td> <td>    1.630</td> <td> 0.103</td> <td>  -22.548</td> <td>  243.987</td>\n",
       "</tr>\n",
       "<tr>\n",
       "  <th>Gender_Male</th>                       <td>  189.4283</td> <td>   66.249</td> <td>    2.859</td> <td> 0.004</td> <td>   59.472</td> <td>  319.384</td>\n",
       "</tr>\n",
       "<tr>\n",
       "  <th>JobRole_Healthcare Representative</th> <td> -708.2605</td> <td>  131.944</td> <td>   -5.368</td> <td> 0.000</td> <td> -967.084</td> <td> -449.437</td>\n",
       "</tr>\n",
       "<tr>\n",
       "  <th>JobRole_Human Resources</th>           <td> -737.8863</td> <td>  352.081</td> <td>   -2.096</td> <td> 0.036</td> <td>-1428.536</td> <td>  -47.237</td>\n",
       "</tr>\n",
       "<tr>\n",
       "  <th>JobRole_Laboratory Technician</th>     <td>-1274.5964</td> <td>  127.306</td> <td>  -10.012</td> <td> 0.000</td> <td>-1524.323</td> <td>-1024.869</td>\n",
       "</tr>\n",
       "<tr>\n",
       "  <th>JobRole_Manager</th>                   <td> 3471.1066</td> <td>  158.212</td> <td>   21.940</td> <td> 0.000</td> <td> 3160.753</td> <td> 3781.460</td>\n",
       "</tr>\n",
       "<tr>\n",
       "  <th>JobRole_Manufacturing Director</th>    <td> -752.1447</td> <td>  129.533</td> <td>   -5.807</td> <td> 0.000</td> <td>-1006.240</td> <td> -498.049</td>\n",
       "</tr>\n",
       "<tr>\n",
       "  <th>JobRole_Research Director</th>         <td> 3356.7593</td> <td>  178.089</td> <td>   18.849</td> <td> 0.000</td> <td> 3007.416</td> <td> 3706.102</td>\n",
       "</tr>\n",
       "<tr>\n",
       "  <th>JobRole_Research Scientist</th>        <td>-1198.4858</td> <td>  126.895</td> <td>   -9.445</td> <td> 0.000</td> <td>-1447.406</td> <td> -949.566</td>\n",
       "</tr>\n",
       "<tr>\n",
       "  <th>JobRole_Sales Executive</th>           <td> -609.6201</td> <td>  185.016</td> <td>   -3.295</td> <td> 0.001</td> <td> -972.552</td> <td> -246.688</td>\n",
       "</tr>\n",
       "<tr>\n",
       "  <th>JobRole_Sales Representative</th>      <td>-1246.7243</td> <td>  215.265</td> <td>   -5.792</td> <td> 0.000</td> <td>-1668.994</td> <td> -824.455</td>\n",
       "</tr>\n",
       "<tr>\n",
       "  <th>MaritalStatus_Divorced</th>            <td>   94.1406</td> <td>   71.885</td> <td>    1.310</td> <td> 0.191</td> <td>  -46.871</td> <td>  235.152</td>\n",
       "</tr>\n",
       "<tr>\n",
       "  <th>MaritalStatus_Married</th>             <td>  140.4217</td> <td>   57.538</td> <td>    2.441</td> <td> 0.015</td> <td>   27.554</td> <td>  253.290</td>\n",
       "</tr>\n",
       "<tr>\n",
       "  <th>MaritalStatus_Single</th>              <td>   65.5856</td> <td>   68.824</td> <td>    0.953</td> <td> 0.341</td> <td>  -69.421</td> <td>  200.592</td>\n",
       "</tr>\n",
       "<tr>\n",
       "  <th>OverTime_No</th>                       <td>  113.3927</td> <td>   67.748</td> <td>    1.674</td> <td> 0.094</td> <td>  -19.504</td> <td>  246.289</td>\n",
       "</tr>\n",
       "<tr>\n",
       "  <th>OverTime_Yes</th>                      <td>  186.7552</td> <td>   68.914</td> <td>    2.710</td> <td> 0.007</td> <td>   51.572</td> <td>  321.938</td>\n",
       "</tr>\n",
       "</table>\n",
       "<table class=\"simpletable\">\n",
       "<tr>\n",
       "  <th>Omnibus:</th>       <td>49.349</td> <th>  Durbin-Watson:     </th> <td>   2.055</td>\n",
       "</tr>\n",
       "<tr>\n",
       "  <th>Prob(Omnibus):</th> <td> 0.000</td> <th>  Jarque-Bera (JB):  </th> <td>  98.677</td>\n",
       "</tr>\n",
       "<tr>\n",
       "  <th>Skew:</th>          <td> 0.214</td> <th>  Prob(JB):          </th> <td>3.74e-22</td>\n",
       "</tr>\n",
       "<tr>\n",
       "  <th>Kurtosis:</th>      <td> 4.195</td> <th>  Cond. No.          </th> <td>3.10e+16</td>\n",
       "</tr>\n",
       "</table><br/><br/>Notes:<br/>[1] Standard Errors assume that the covariance matrix of the errors is correctly specified.<br/>[2] The smallest eigenvalue is 9.78e-27. This might indicate that there are<br/>strong multicollinearity problems or that the design matrix is singular."
      ],
      "text/plain": [
       "<class 'statsmodels.iolib.summary.Summary'>\n",
       "\"\"\"\n",
       "                            OLS Regression Results                            \n",
       "==============================================================================\n",
       "Dep. Variable:          MonthlyIncome   R-squared:                       0.945\n",
       "Model:                            OLS   Adj. R-squared:                  0.943\n",
       "Method:                 Least Squares   F-statistic:                     661.2\n",
       "Date:                Mon, 14 Mar 2022   Prob (F-statistic):               0.00\n",
       "Time:                        22:47:10   Log-Likelihood:                -12389.\n",
       "No. Observations:                1470   AIC:                         2.485e+04\n",
       "Df Residuals:                    1432   BIC:                         2.506e+04\n",
       "Df Model:                          37                                         \n",
       "Covariance Type:            nonrobust                                         \n",
       "=====================================================================================================\n",
       "                                        coef    std err          t      P>|t|      [0.025      0.975]\n",
       "-----------------------------------------------------------------------------------------------------\n",
       "const                               300.1479    119.803      2.505      0.012      65.140     535.156\n",
       "Age                                  -4.4277      4.631     -0.956      0.339     -13.513       4.657\n",
       "DistanceFromHome                     -4.5889      3.643     -1.260      0.208     -11.735       2.557\n",
       "HourlyRate                            1.4345      1.451      0.989      0.323      -1.411       4.280\n",
       "JobLevel                           2767.1348     67.758     40.839      0.000    2634.220    2900.050\n",
       "NumCompaniesWorked                   11.2233     13.225      0.849      0.396     -14.719      37.166\n",
       "PerformanceRating                   -25.0732     81.703     -0.307      0.759    -185.344     135.198\n",
       "StockOptionLevel                    -42.9048     47.391     -0.905      0.365    -135.869      50.059\n",
       "TotalWorkingYears                    47.2463      8.302      5.691      0.000      30.961      63.532\n",
       "TrainingTimesLastYear               -15.1400     23.104     -0.655      0.512     -60.462      30.182\n",
       "WorkLifeBalance                     -22.8015     41.963     -0.543      0.587    -105.117      59.514\n",
       "YearsAtCompany                        6.0221     10.389      0.580      0.562     -14.357      26.401\n",
       "YearsInCurrentRole                    0.2450     13.469      0.018      0.985     -26.177      26.667\n",
       "YearsSinceLastPromotion              23.4739     11.854      1.980      0.048       0.221      46.727\n",
       "YearsWithCurrManager                -32.8938     13.768     -2.389      0.017     -59.901      -5.887\n",
       "Department_Human Resources          -20.4541    275.386     -0.074      0.941    -560.658     519.750\n",
       "Department_Research & Development   237.4587    170.099      1.396      0.163     -96.210     571.128\n",
       "Department_Sales                     83.1433    186.008      0.447      0.655    -281.733     448.020\n",
       "Education_1                         244.8780     82.838      2.956      0.003      82.381     407.375\n",
       "Education_2                         -53.1548     70.739     -0.751      0.453    -191.918      85.609\n",
       "Education_3                         107.2230     58.367      1.837      0.066      -7.270     221.716\n",
       "Education_4                         124.3094     65.243      1.905      0.057      -3.672     252.291\n",
       "Education_5                        -123.1077    138.764     -0.887      0.375    -395.311     149.096\n",
       "EducationField_Human Resources       86.0188    242.451      0.355      0.723    -389.578     561.616\n",
       "EducationField_Life Sciences         31.1171     72.007      0.432      0.666    -110.133     172.368\n",
       "EducationField_Marketing             94.1579    109.742      0.858      0.391    -121.114     309.430\n",
       "EducationField_Medical               24.8709     75.870      0.328      0.743    -123.958     173.699\n",
       "EducationField_Other                -47.9453    120.670     -0.397      0.691    -284.655     188.764\n",
       "EducationField_Technical Degree     111.9284    101.877      1.099      0.272     -87.916     311.773\n",
       "Gender_Female                       110.7195     67.937      1.630      0.103     -22.548     243.987\n",
       "Gender_Male                         189.4283     66.249      2.859      0.004      59.472     319.384\n",
       "JobRole_Healthcare Representative  -708.2605    131.944     -5.368      0.000    -967.084    -449.437\n",
       "JobRole_Human Resources            -737.8863    352.081     -2.096      0.036   -1428.536     -47.237\n",
       "JobRole_Laboratory Technician     -1274.5964    127.306    -10.012      0.000   -1524.323   -1024.869\n",
       "JobRole_Manager                    3471.1066    158.212     21.940      0.000    3160.753    3781.460\n",
       "JobRole_Manufacturing Director     -752.1447    129.533     -5.807      0.000   -1006.240    -498.049\n",
       "JobRole_Research Director          3356.7593    178.089     18.849      0.000    3007.416    3706.102\n",
       "JobRole_Research Scientist        -1198.4858    126.895     -9.445      0.000   -1447.406    -949.566\n",
       "JobRole_Sales Executive            -609.6201    185.016     -3.295      0.001    -972.552    -246.688\n",
       "JobRole_Sales Representative      -1246.7243    215.265     -5.792      0.000   -1668.994    -824.455\n",
       "MaritalStatus_Divorced               94.1406     71.885      1.310      0.191     -46.871     235.152\n",
       "MaritalStatus_Married               140.4217     57.538      2.441      0.015      27.554     253.290\n",
       "MaritalStatus_Single                 65.5856     68.824      0.953      0.341     -69.421     200.592\n",
       "OverTime_No                         113.3927     67.748      1.674      0.094     -19.504     246.289\n",
       "OverTime_Yes                        186.7552     68.914      2.710      0.007      51.572     321.938\n",
       "==============================================================================\n",
       "Omnibus:                       49.349   Durbin-Watson:                   2.055\n",
       "Prob(Omnibus):                  0.000   Jarque-Bera (JB):               98.677\n",
       "Skew:                           0.214   Prob(JB):                     3.74e-22\n",
       "Kurtosis:                       4.195   Cond. No.                     3.10e+16\n",
       "==============================================================================\n",
       "\n",
       "Notes:\n",
       "[1] Standard Errors assume that the covariance matrix of the errors is correctly specified.\n",
       "[2] The smallest eigenvalue is 9.78e-27. This might indicate that there are\n",
       "strong multicollinearity problems or that the design matrix is singular.\n",
       "\"\"\""
      ]
     },
     "execution_count": 14,
     "metadata": {},
     "output_type": "execute_result"
    }
   ],
   "source": [
    "modelall = sm.OLS(Y,sm.add_constant(X)).fit()\n",
    "modelall.summary()"
   ]
  },
  {
   "cell_type": "markdown",
   "metadata": {
    "id": "sH5l8NhCcKJk"
   },
   "source": [
    "### Explanation"
   ]
  },
  {
   "cell_type": "markdown",
   "metadata": {
    "id": "OlGVQ12vcKJk"
   },
   "source": [
    "The r-squared value is 0.945 which is a pretty high value indicating that the model is good. The corresponding correlation is 0.972 between predicted and actual monthly incomes.\n",
    "The three most significant inputs are job level, total working years, and job role. For job level and total working years, the p-value is 0.000 and for most categories of job role the p value is 0.000 thus indicating that there is a relationship of all three with monthly income and a strong one. For example, for job level, with every one unit increase in job level, the monthly income increases approximately by 2767. Similarly, with every one year increase in total working years the monthly income increases by approximately 47. For job role, since for most of the categories the p-value is 0.000 and for others it is less than 0.05 it shows that the monthly income depends on what kind of role do you have in the company. With different roles, the monthly income changes and that of course depends on the nature of the company as well. The three lowest signficant inputs are age, years in current role, and department human resources. For all three, the p-value is high a lot more than 0.05 indicating there is no relationship between these inputs and the monthly income. Or we can say that the monthly income does not depend on these quantities. "
   ]
  },
  {
   "cell_type": "markdown",
   "metadata": {
    "id": "Kt4nvGXOcKJl"
   },
   "source": [
    "### Part 2"
   ]
  },
  {
   "cell_type": "markdown",
   "metadata": {
    "id": "OGhhCHUtcKJl"
   },
   "source": [
    "### Creating new row"
   ]
  },
  {
   "cell_type": "code",
   "execution_count": 15,
   "metadata": {
    "colab": {
     "base_uri": "https://localhost:8080/"
    },
    "id": "xo81djoQhOsn",
    "outputId": "bbad1c0c-de37-46b5-93b7-8a1f02d783e7"
   },
   "outputs": [],
   "source": [
    "X = one_hot.drop([\"MonthlyIncome\"], axis=1)\n",
    "Y = one_hot[\"MonthlyIncome\"]\n",
    "X = sm.add_constant(X)\n",
    "\n",
    "actual = float(one_hot.tail(1)['MonthlyIncome'])\n",
    "predicted = float(modelall.predict(X.tail(1)))"
   ]
  },
  {
   "cell_type": "markdown",
   "metadata": {
    "id": "xN1yCaUAcKJm"
   },
   "source": [
    "### Prediction Code"
   ]
  },
  {
   "cell_type": "code",
   "execution_count": 16,
   "metadata": {
    "colab": {
     "base_uri": "https://localhost:8080/"
    },
    "id": "7EC0TxlFcKJl",
    "outputId": "7cef57f3-188b-41ef-8496-def39beff193"
   },
   "outputs": [
    {
     "data": {
      "text/plain": [
       "0    1676.132856\n",
       "dtype: float64"
      ]
     },
     "execution_count": 16,
     "metadata": {},
     "output_type": "execute_result"
    }
   ],
   "source": [
    "# newX = [23, 'Sales', 27, 3, \"Life Sciences\", \"Female\", 84, 3, 'Research Scientist', \"Single\", 6, 'Yes', 4, 1, 18, 0, 3, 11, 5, 1, 3, 5379]\n",
    "newX = [\n",
    "    1, 2,24,100,1,1,3,2,0,1,2,1,0,1,0,1,1,0,0,1,0,1,1,0,0,0,1,1,0,1,1,0,0,1,0,0,0,0,1,0,1,0,0,1,0\n",
    "]\n",
    "\n",
    "newdf = pd.DataFrame([newX], columns=X.columns.to_list())\n",
    "modelall.predict(newdf)"
   ]
  },
  {
   "cell_type": "markdown",
   "metadata": {
    "id": "kIrXDIi-cKJn"
   },
   "source": [
    "### Explanation"
   ]
  },
  {
   "cell_type": "markdown",
   "metadata": {
    "id": "NDsIEqMOcKJn"
   },
   "source": [
    "The predicted monthly income from the above model is 1676. This includes adding an entry with random values."
   ]
  },
  {
   "cell_type": "markdown",
   "metadata": {
    "id": "TNzWJ2BmcKJn"
   },
   "source": [
    "## Question 5"
   ]
  },
  {
   "cell_type": "markdown",
   "metadata": {
    "id": "rZyNtvl_cKJn"
   },
   "source": [
    "### Part 1"
   ]
  },
  {
   "cell_type": "code",
   "execution_count": 30,
   "metadata": {
    "id": "sUAzPdaccKJo"
   },
   "outputs": [],
   "source": [
    "cols = ['Department', 'Education', 'EducationField', 'Gender', 'JobRole', 'MaritalStatus', 'OverTime']\n",
    "one_hot = encoding(df, cols)\n",
    "X = one_hot.drop(['HourlyRate'], axis=1)\n",
    "Y = one_hot['HourlyRate']"
   ]
  },
  {
   "cell_type": "code",
   "execution_count": 18,
   "metadata": {
    "id": "IPDIARCXcKJo",
    "outputId": "47c7c561-2fe5-419a-f151-e26512b2746b"
   },
   "outputs": [
    {
     "data": {
      "text/html": [
       "<table class=\"simpletable\">\n",
       "<caption>OLS Regression Results</caption>\n",
       "<tr>\n",
       "  <th>Dep. Variable:</th>       <td>HourlyRate</td>    <th>  R-squared:         </th> <td>   0.017</td> \n",
       "</tr>\n",
       "<tr>\n",
       "  <th>Model:</th>                   <td>OLS</td>       <th>  Adj. R-squared:    </th> <td>  -0.009</td> \n",
       "</tr>\n",
       "<tr>\n",
       "  <th>Method:</th>             <td>Least Squares</td>  <th>  F-statistic:       </th> <td>  0.6561</td> \n",
       "</tr>\n",
       "<tr>\n",
       "  <th>Date:</th>             <td>Mon, 14 Mar 2022</td> <th>  Prob (F-statistic):</th>  <td> 0.945</td>  \n",
       "</tr>\n",
       "<tr>\n",
       "  <th>Time:</th>                 <td>22:47:11</td>     <th>  Log-Likelihood:    </th> <td> -6500.7</td> \n",
       "</tr>\n",
       "<tr>\n",
       "  <th>No. Observations:</th>      <td>  1470</td>      <th>  AIC:               </th> <td>1.308e+04</td>\n",
       "</tr>\n",
       "<tr>\n",
       "  <th>Df Residuals:</th>          <td>  1432</td>      <th>  BIC:               </th> <td>1.328e+04</td>\n",
       "</tr>\n",
       "<tr>\n",
       "  <th>Df Model:</th>              <td>    37</td>      <th>                     </th>     <td> </td>    \n",
       "</tr>\n",
       "<tr>\n",
       "  <th>Covariance Type:</th>      <td>nonrobust</td>    <th>                     </th>     <td> </td>    \n",
       "</tr>\n",
       "</table>\n",
       "<table class=\"simpletable\">\n",
       "<tr>\n",
       "                  <td></td>                     <th>coef</th>     <th>std err</th>      <th>t</th>      <th>P>|t|</th>  <th>[0.025</th>    <th>0.975]</th>  \n",
       "</tr>\n",
       "<tr>\n",
       "  <th>const</th>                             <td>   20.8458</td> <td>    2.116</td> <td>    9.853</td> <td> 0.000</td> <td>   16.696</td> <td>   24.996</td>\n",
       "</tr>\n",
       "<tr>\n",
       "  <th>Age</th>                               <td>    0.0614</td> <td>    0.084</td> <td>    0.728</td> <td> 0.467</td> <td>   -0.104</td> <td>    0.227</td>\n",
       "</tr>\n",
       "<tr>\n",
       "  <th>DistanceFromHome</th>                  <td>    0.0781</td> <td>    0.066</td> <td>    1.178</td> <td> 0.239</td> <td>   -0.052</td> <td>    0.208</td>\n",
       "</tr>\n",
       "<tr>\n",
       "  <th>JobLevel</th>                          <td>   -3.3206</td> <td>    1.813</td> <td>   -1.831</td> <td> 0.067</td> <td>   -6.877</td> <td>    0.236</td>\n",
       "</tr>\n",
       "<tr>\n",
       "  <th>NumCompaniesWorked</th>                <td>    0.1133</td> <td>    0.241</td> <td>    0.471</td> <td> 0.638</td> <td>   -0.359</td> <td>    0.586</td>\n",
       "</tr>\n",
       "<tr>\n",
       "  <th>PerformanceRating</th>                 <td>   -0.3599</td> <td>    1.488</td> <td>   -0.242</td> <td> 0.809</td> <td>   -3.278</td> <td>    2.559</td>\n",
       "</tr>\n",
       "<tr>\n",
       "  <th>StockOptionLevel</th>                  <td>    1.4168</td> <td>    0.862</td> <td>    1.643</td> <td> 0.101</td> <td>   -0.275</td> <td>    3.108</td>\n",
       "</tr>\n",
       "<tr>\n",
       "  <th>TotalWorkingYears</th>                 <td>    0.0508</td> <td>    0.153</td> <td>    0.333</td> <td> 0.740</td> <td>   -0.249</td> <td>    0.351</td>\n",
       "</tr>\n",
       "<tr>\n",
       "  <th>TrainingTimesLastYear</th>             <td>   -0.0985</td> <td>    0.421</td> <td>   -0.234</td> <td> 0.815</td> <td>   -0.924</td> <td>    0.727</td>\n",
       "</tr>\n",
       "<tr>\n",
       "  <th>WorkLifeBalance</th>                   <td>    0.1105</td> <td>    0.764</td> <td>    0.145</td> <td> 0.885</td> <td>   -1.389</td> <td>    1.610</td>\n",
       "</tr>\n",
       "<tr>\n",
       "  <th>YearsAtCompany</th>                    <td>    0.0490</td> <td>    0.189</td> <td>    0.259</td> <td> 0.796</td> <td>   -0.322</td> <td>    0.420</td>\n",
       "</tr>\n",
       "<tr>\n",
       "  <th>YearsInCurrentRole</th>                <td>   -0.1083</td> <td>    0.245</td> <td>   -0.442</td> <td> 0.659</td> <td>   -0.589</td> <td>    0.373</td>\n",
       "</tr>\n",
       "<tr>\n",
       "  <th>YearsSinceLastPromotion</th>           <td>   -0.1702</td> <td>    0.216</td> <td>   -0.788</td> <td> 0.431</td> <td>   -0.594</td> <td>    0.254</td>\n",
       "</tr>\n",
       "<tr>\n",
       "  <th>YearsWithCurrManager</th>              <td>   -0.0103</td> <td>    0.251</td> <td>   -0.041</td> <td> 0.967</td> <td>   -0.503</td> <td>    0.482</td>\n",
       "</tr>\n",
       "<tr>\n",
       "  <th>MonthlyIncome</th>                     <td>    0.0005</td> <td>    0.000</td> <td>    0.989</td> <td> 0.323</td> <td>   -0.000</td> <td>    0.001</td>\n",
       "</tr>\n",
       "<tr>\n",
       "  <th>Department_Human Resources</th>        <td>    7.5879</td> <td>    5.011</td> <td>    1.514</td> <td> 0.130</td> <td>   -2.241</td> <td>   17.417</td>\n",
       "</tr>\n",
       "<tr>\n",
       "  <th>Department_Research & Development</th> <td>    5.9308</td> <td>    3.095</td> <td>    1.916</td> <td> 0.056</td> <td>   -0.141</td> <td>   12.003</td>\n",
       "</tr>\n",
       "<tr>\n",
       "  <th>Department_Sales</th>                  <td>    7.3271</td> <td>    3.382</td> <td>    2.167</td> <td> 0.030</td> <td>    0.693</td> <td>   13.961</td>\n",
       "</tr>\n",
       "<tr>\n",
       "  <th>Education_1</th>                       <td>    3.0402</td> <td>    1.511</td> <td>    2.012</td> <td> 0.044</td> <td>    0.076</td> <td>    6.004</td>\n",
       "</tr>\n",
       "<tr>\n",
       "  <th>Education_2</th>                       <td>    4.1731</td> <td>    1.284</td> <td>    3.251</td> <td> 0.001</td> <td>    1.655</td> <td>    6.691</td>\n",
       "</tr>\n",
       "<tr>\n",
       "  <th>Education_3</th>                       <td>    3.5733</td> <td>    1.060</td> <td>    3.371</td> <td> 0.001</td> <td>    1.494</td> <td>    5.652</td>\n",
       "</tr>\n",
       "<tr>\n",
       "  <th>Education_4</th>                       <td>    3.6161</td> <td>    1.186</td> <td>    3.050</td> <td> 0.002</td> <td>    1.290</td> <td>    5.942</td>\n",
       "</tr>\n",
       "<tr>\n",
       "  <th>Education_5</th>                       <td>    6.4431</td> <td>    2.522</td> <td>    2.555</td> <td> 0.011</td> <td>    1.496</td> <td>   11.390</td>\n",
       "</tr>\n",
       "<tr>\n",
       "  <th>EducationField_Human Resources</th>    <td>   -1.7358</td> <td>    4.415</td> <td>   -0.393</td> <td> 0.694</td> <td>  -10.396</td> <td>    6.924</td>\n",
       "</tr>\n",
       "<tr>\n",
       "  <th>EducationField_Life Sciences</th>      <td>    5.7845</td> <td>    1.302</td> <td>    4.442</td> <td> 0.000</td> <td>    3.230</td> <td>    8.339</td>\n",
       "</tr>\n",
       "<tr>\n",
       "  <th>EducationField_Marketing</th>          <td>    5.4838</td> <td>    1.994</td> <td>    2.751</td> <td> 0.006</td> <td>    1.573</td> <td>    9.394</td>\n",
       "</tr>\n",
       "<tr>\n",
       "  <th>EducationField_Medical</th>            <td>    4.0666</td> <td>    1.377</td> <td>    2.952</td> <td> 0.003</td> <td>    1.365</td> <td>    6.768</td>\n",
       "</tr>\n",
       "<tr>\n",
       "  <th>EducationField_Other</th>              <td>    1.5388</td> <td>    2.197</td> <td>    0.700</td> <td> 0.484</td> <td>   -2.771</td> <td>    5.849</td>\n",
       "</tr>\n",
       "<tr>\n",
       "  <th>EducationField_Technical Degree</th>   <td>    5.7079</td> <td>    1.850</td> <td>    3.086</td> <td> 0.002</td> <td>    2.079</td> <td>    9.336</td>\n",
       "</tr>\n",
       "<tr>\n",
       "  <th>Gender_Female</th>                     <td>   10.4197</td> <td>    1.207</td> <td>    8.631</td> <td> 0.000</td> <td>    8.052</td> <td>   12.788</td>\n",
       "</tr>\n",
       "<tr>\n",
       "  <th>Gender_Male</th>                       <td>   10.4261</td> <td>    1.178</td> <td>    8.851</td> <td> 0.000</td> <td>    8.115</td> <td>   12.737</td>\n",
       "</tr>\n",
       "<tr>\n",
       "  <th>JobRole_Healthcare Representative</th> <td>    4.4698</td> <td>    2.424</td> <td>    1.844</td> <td> 0.065</td> <td>   -0.285</td> <td>    9.224</td>\n",
       "</tr>\n",
       "<tr>\n",
       "  <th>JobRole_Human Resources</th>           <td>    1.3740</td> <td>    6.421</td> <td>    0.214</td> <td> 0.831</td> <td>  -11.221</td> <td>   13.969</td>\n",
       "</tr>\n",
       "<tr>\n",
       "  <th>JobRole_Laboratory Technician</th>     <td>    2.7611</td> <td>    2.397</td> <td>    1.152</td> <td> 0.250</td> <td>   -1.941</td> <td>    7.463</td>\n",
       "</tr>\n",
       "<tr>\n",
       "  <th>JobRole_Manager</th>                   <td>    4.8908</td> <td>    3.328</td> <td>    1.470</td> <td> 0.142</td> <td>   -1.637</td> <td>   11.418</td>\n",
       "</tr>\n",
       "<tr>\n",
       "  <th>JobRole_Manufacturing Director</th>    <td>    2.6191</td> <td>    2.385</td> <td>    1.098</td> <td> 0.272</td> <td>   -2.060</td> <td>    7.298</td>\n",
       "</tr>\n",
       "<tr>\n",
       "  <th>JobRole_Research Director</th>         <td>    1.6158</td> <td>    3.623</td> <td>    0.446</td> <td> 0.656</td> <td>   -5.490</td> <td>    8.722</td>\n",
       "</tr>\n",
       "<tr>\n",
       "  <th>JobRole_Research Scientist</th>        <td>    2.6465</td> <td>    2.380</td> <td>    1.112</td> <td> 0.266</td> <td>   -2.023</td> <td>    7.316</td>\n",
       "</tr>\n",
       "<tr>\n",
       "  <th>JobRole_Sales Executive</th>           <td>    1.3648</td> <td>    3.382</td> <td>    0.404</td> <td> 0.687</td> <td>   -5.268</td> <td>    7.998</td>\n",
       "</tr>\n",
       "<tr>\n",
       "  <th>JobRole_Sales Representative</th>      <td>   -0.8962</td> <td>    3.965</td> <td>   -0.226</td> <td> 0.821</td> <td>   -8.675</td> <td>    6.882</td>\n",
       "</tr>\n",
       "<tr>\n",
       "  <th>MaritalStatus_Divorced</th>            <td>    5.9410</td> <td>    1.300</td> <td>    4.569</td> <td> 0.000</td> <td>    3.390</td> <td>    8.492</td>\n",
       "</tr>\n",
       "<tr>\n",
       "  <th>MaritalStatus_Married</th>             <td>    7.6452</td> <td>    1.030</td> <td>    7.421</td> <td> 0.000</td> <td>    5.624</td> <td>    9.666</td>\n",
       "</tr>\n",
       "<tr>\n",
       "  <th>MaritalStatus_Single</th>              <td>    7.2597</td> <td>    1.239</td> <td>    5.860</td> <td> 0.000</td> <td>    4.829</td> <td>    9.690</td>\n",
       "</tr>\n",
       "<tr>\n",
       "  <th>OverTime_No</th>                       <td>   10.6117</td> <td>    1.203</td> <td>    8.824</td> <td> 0.000</td> <td>    8.253</td> <td>   12.971</td>\n",
       "</tr>\n",
       "<tr>\n",
       "  <th>OverTime_Yes</th>                      <td>   10.2341</td> <td>    1.229</td> <td>    8.329</td> <td> 0.000</td> <td>    7.824</td> <td>   12.644</td>\n",
       "</tr>\n",
       "</table>\n",
       "<table class=\"simpletable\">\n",
       "<tr>\n",
       "  <th>Omnibus:</th>       <td>778.563</td> <th>  Durbin-Watson:     </th> <td>   2.008</td>\n",
       "</tr>\n",
       "<tr>\n",
       "  <th>Prob(Omnibus):</th> <td> 0.000</td>  <th>  Jarque-Bera (JB):  </th> <td>  81.120</td>\n",
       "</tr>\n",
       "<tr>\n",
       "  <th>Skew:</th>          <td>-0.028</td>  <th>  Prob(JB):          </th> <td>2.43e-18</td>\n",
       "</tr>\n",
       "<tr>\n",
       "  <th>Kurtosis:</th>      <td> 1.850</td>  <th>  Cond. No.          </th> <td>2.71e+16</td>\n",
       "</tr>\n",
       "</table><br/><br/>Notes:<br/>[1] Standard Errors assume that the covariance matrix of the errors is correctly specified.<br/>[2] The smallest eigenvalue is 1.29e-22. This might indicate that there are<br/>strong multicollinearity problems or that the design matrix is singular."
      ],
      "text/plain": [
       "<class 'statsmodels.iolib.summary.Summary'>\n",
       "\"\"\"\n",
       "                            OLS Regression Results                            \n",
       "==============================================================================\n",
       "Dep. Variable:             HourlyRate   R-squared:                       0.017\n",
       "Model:                            OLS   Adj. R-squared:                 -0.009\n",
       "Method:                 Least Squares   F-statistic:                    0.6561\n",
       "Date:                Mon, 14 Mar 2022   Prob (F-statistic):              0.945\n",
       "Time:                        22:47:11   Log-Likelihood:                -6500.7\n",
       "No. Observations:                1470   AIC:                         1.308e+04\n",
       "Df Residuals:                    1432   BIC:                         1.328e+04\n",
       "Df Model:                          37                                         \n",
       "Covariance Type:            nonrobust                                         \n",
       "=====================================================================================================\n",
       "                                        coef    std err          t      P>|t|      [0.025      0.975]\n",
       "-----------------------------------------------------------------------------------------------------\n",
       "const                                20.8458      2.116      9.853      0.000      16.696      24.996\n",
       "Age                                   0.0614      0.084      0.728      0.467      -0.104       0.227\n",
       "DistanceFromHome                      0.0781      0.066      1.178      0.239      -0.052       0.208\n",
       "JobLevel                             -3.3206      1.813     -1.831      0.067      -6.877       0.236\n",
       "NumCompaniesWorked                    0.1133      0.241      0.471      0.638      -0.359       0.586\n",
       "PerformanceRating                    -0.3599      1.488     -0.242      0.809      -3.278       2.559\n",
       "StockOptionLevel                      1.4168      0.862      1.643      0.101      -0.275       3.108\n",
       "TotalWorkingYears                     0.0508      0.153      0.333      0.740      -0.249       0.351\n",
       "TrainingTimesLastYear                -0.0985      0.421     -0.234      0.815      -0.924       0.727\n",
       "WorkLifeBalance                       0.1105      0.764      0.145      0.885      -1.389       1.610\n",
       "YearsAtCompany                        0.0490      0.189      0.259      0.796      -0.322       0.420\n",
       "YearsInCurrentRole                   -0.1083      0.245     -0.442      0.659      -0.589       0.373\n",
       "YearsSinceLastPromotion              -0.1702      0.216     -0.788      0.431      -0.594       0.254\n",
       "YearsWithCurrManager                 -0.0103      0.251     -0.041      0.967      -0.503       0.482\n",
       "MonthlyIncome                         0.0005      0.000      0.989      0.323      -0.000       0.001\n",
       "Department_Human Resources            7.5879      5.011      1.514      0.130      -2.241      17.417\n",
       "Department_Research & Development     5.9308      3.095      1.916      0.056      -0.141      12.003\n",
       "Department_Sales                      7.3271      3.382      2.167      0.030       0.693      13.961\n",
       "Education_1                           3.0402      1.511      2.012      0.044       0.076       6.004\n",
       "Education_2                           4.1731      1.284      3.251      0.001       1.655       6.691\n",
       "Education_3                           3.5733      1.060      3.371      0.001       1.494       5.652\n",
       "Education_4                           3.6161      1.186      3.050      0.002       1.290       5.942\n",
       "Education_5                           6.4431      2.522      2.555      0.011       1.496      11.390\n",
       "EducationField_Human Resources       -1.7358      4.415     -0.393      0.694     -10.396       6.924\n",
       "EducationField_Life Sciences          5.7845      1.302      4.442      0.000       3.230       8.339\n",
       "EducationField_Marketing              5.4838      1.994      2.751      0.006       1.573       9.394\n",
       "EducationField_Medical                4.0666      1.377      2.952      0.003       1.365       6.768\n",
       "EducationField_Other                  1.5388      2.197      0.700      0.484      -2.771       5.849\n",
       "EducationField_Technical Degree       5.7079      1.850      3.086      0.002       2.079       9.336\n",
       "Gender_Female                        10.4197      1.207      8.631      0.000       8.052      12.788\n",
       "Gender_Male                          10.4261      1.178      8.851      0.000       8.115      12.737\n",
       "JobRole_Healthcare Representative     4.4698      2.424      1.844      0.065      -0.285       9.224\n",
       "JobRole_Human Resources               1.3740      6.421      0.214      0.831     -11.221      13.969\n",
       "JobRole_Laboratory Technician         2.7611      2.397      1.152      0.250      -1.941       7.463\n",
       "JobRole_Manager                       4.8908      3.328      1.470      0.142      -1.637      11.418\n",
       "JobRole_Manufacturing Director        2.6191      2.385      1.098      0.272      -2.060       7.298\n",
       "JobRole_Research Director             1.6158      3.623      0.446      0.656      -5.490       8.722\n",
       "JobRole_Research Scientist            2.6465      2.380      1.112      0.266      -2.023       7.316\n",
       "JobRole_Sales Executive               1.3648      3.382      0.404      0.687      -5.268       7.998\n",
       "JobRole_Sales Representative         -0.8962      3.965     -0.226      0.821      -8.675       6.882\n",
       "MaritalStatus_Divorced                5.9410      1.300      4.569      0.000       3.390       8.492\n",
       "MaritalStatus_Married                 7.6452      1.030      7.421      0.000       5.624       9.666\n",
       "MaritalStatus_Single                  7.2597      1.239      5.860      0.000       4.829       9.690\n",
       "OverTime_No                          10.6117      1.203      8.824      0.000       8.253      12.971\n",
       "OverTime_Yes                         10.2341      1.229      8.329      0.000       7.824      12.644\n",
       "==============================================================================\n",
       "Omnibus:                      778.563   Durbin-Watson:                   2.008\n",
       "Prob(Omnibus):                  0.000   Jarque-Bera (JB):               81.120\n",
       "Skew:                          -0.028   Prob(JB):                     2.43e-18\n",
       "Kurtosis:                       1.850   Cond. No.                     2.71e+16\n",
       "==============================================================================\n",
       "\n",
       "Notes:\n",
       "[1] Standard Errors assume that the covariance matrix of the errors is correctly specified.\n",
       "[2] The smallest eigenvalue is 1.29e-22. This might indicate that there are\n",
       "strong multicollinearity problems or that the design matrix is singular.\n",
       "\"\"\""
      ]
     },
     "execution_count": 18,
     "metadata": {},
     "output_type": "execute_result"
    }
   ],
   "source": [
    "modelall = sm.OLS(Y,sm.add_constant(X)).fit()\n",
    "modelall.summary()"
   ]
  },
  {
   "cell_type": "markdown",
   "metadata": {
    "id": "mArARwbOcKJo"
   },
   "source": [
    "### Explanation"
   ]
  },
  {
   "cell_type": "markdown",
   "metadata": {
    "id": "aG_eU_TgcKJp"
   },
   "source": [
    "The r-squared value for this model is 0.017 indicating that the model is not good enough. However, the three most significant relationships are gender, overtime, and marital status. For all the categories of these columns, the p-value is 0.000 suggesting a relationship of these columns with hourly rate. For gender, this p-value is a bit strange but it means that the gender of an employee does determine their hourly rate. For overtime, it means that the time you spent on your job impacts your hourly rate. For marital status as well, it means that for married couples or singles their hourly rate differs. The three least significant relationships are years with current manager, work-life balance, and training times last year. For all these columns, the p-value is the highest and greater than 0.05 indicating that they do not impact the hourly rate of an employee. Possibly because hourly rate is decided by the management and even with employees having work-life balance or trainings, their performance might improve but not their hourly rate. "
   ]
  },
  {
   "cell_type": "code",
   "execution_count": 23,
   "metadata": {},
   "outputs": [
    {
     "data": {
      "text/plain": [
       "'Not part of assignment submission'"
      ]
     },
     "execution_count": 23,
     "metadata": {},
     "output_type": "execute_result"
    }
   ],
   "source": [
    "'''Not part of assignment submission'''\n",
    "# sns.barplot(data=df, x='Gender', y='HourlyRate')\n",
    "# question: why is the p-value of gender for both 0.000 but the graph is showing that \n",
    "# hourly rate is the same for both? Doesn't p-value checks whether our data provides enough \n",
    "# evidence that a relationship exists?"
   ]
  },
  {
   "cell_type": "markdown",
   "metadata": {
    "id": "4obCrqMWcKJp"
   },
   "source": [
    "### Part 2"
   ]
  },
  {
   "cell_type": "markdown",
   "metadata": {
    "id": "lYq98uVkcKJp"
   },
   "source": [
    "### Creating a new row"
   ]
  },
  {
   "cell_type": "code",
   "execution_count": 24,
   "metadata": {
    "id": "l_oqws8dcKJp"
   },
   "outputs": [],
   "source": [
    "X = one_hot.drop([\"MonthlyIncome\"], axis=1)\n",
    "Y = one_hot[\"MonthlyIncome\"]\n",
    "X = sm.add_constant(X)\n",
    "\n",
    "actual = float(one_hot.tail(1)['MonthlyIncome'])\n",
    "predicted = float(modelall.predict(X.tail(1)))"
   ]
  },
  {
   "cell_type": "markdown",
   "metadata": {
    "id": "qgtLuKOScKJq"
   },
   "source": [
    "### Prediction Code"
   ]
  },
  {
   "cell_type": "code",
   "execution_count": 25,
   "metadata": {
    "id": "morblz9vcKJq"
   },
   "outputs": [
    {
     "data": {
      "text/plain": [
       "0    39.933366\n",
       "dtype: float64"
      ]
     },
     "execution_count": 25,
     "metadata": {},
     "output_type": "execute_result"
    }
   ],
   "source": [
    "newX = [\n",
    "    1, 2,12,23,1,1,3,2,0,1,2,1,1,0,0,0,1,0,0,1,0,1,1,0,1,1,0,1,0,1,1,0,1,1,0,0,1,1,1,0,1,0,0,1,1\n",
    "]\n",
    "\n",
    "newdf = pd.DataFrame([newX], columns=X.columns.to_list())\n",
    "modelall.predict(newdf)"
   ]
  },
  {
   "cell_type": "markdown",
   "metadata": {
    "id": "mMad21h2cKJq"
   },
   "source": [
    "### Explanation"
   ]
  },
  {
   "cell_type": "markdown",
   "metadata": {
    "id": "XKGg0LAHcKJr"
   },
   "source": [
    "The value of hourly rate predicted by the model is approximately 40. This include the new record in the data as well."
   ]
  },
  {
   "cell_type": "markdown",
   "metadata": {
    "id": "yKkpzECVcKJr"
   },
   "source": [
    "## Question 6"
   ]
  },
  {
   "cell_type": "code",
   "execution_count": 41,
   "metadata": {
    "colab": {
     "base_uri": "https://localhost:8080/",
     "height": 397
    },
    "id": "0UNlkgHocKJr",
    "outputId": "dcee798f-44ba-4a4d-fdef-798961a657e6"
   },
   "outputs": [
    {
     "data": {
      "text/html": [
       "<table class=\"simpletable\">\n",
       "<caption>OLS Regression Results</caption>\n",
       "<tr>\n",
       "  <th>Dep. Variable:</th>      <td>MonthlyIncome</td>  <th>  R-squared:         </th> <td>   0.952</td> \n",
       "</tr>\n",
       "<tr>\n",
       "  <th>Model:</th>                   <td>OLS</td>       <th>  Adj. R-squared:    </th> <td>   0.951</td> \n",
       "</tr>\n",
       "<tr>\n",
       "  <th>Method:</th>             <td>Least Squares</td>  <th>  F-statistic:       </th> <td>   556.4</td> \n",
       "</tr>\n",
       "<tr>\n",
       "  <th>Date:</th>             <td>Mon, 14 Mar 2022</td> <th>  Prob (F-statistic):</th>  <td>  0.00</td>  \n",
       "</tr>\n",
       "<tr>\n",
       "  <th>Time:</th>                 <td>23:13:00</td>     <th>  Log-Likelihood:    </th> <td> -12287.</td> \n",
       "</tr>\n",
       "<tr>\n",
       "  <th>No. Observations:</th>      <td>  1471</td>      <th>  AIC:               </th> <td>2.468e+04</td>\n",
       "</tr>\n",
       "<tr>\n",
       "  <th>Df Residuals:</th>          <td>  1419</td>      <th>  BIC:               </th> <td>2.495e+04</td>\n",
       "</tr>\n",
       "<tr>\n",
       "  <th>Df Model:</th>              <td>    51</td>      <th>                     </th>     <td> </td>    \n",
       "</tr>\n",
       "<tr>\n",
       "  <th>Covariance Type:</th>      <td>nonrobust</td>    <th>                     </th>     <td> </td>    \n",
       "</tr>\n",
       "</table>\n",
       "<table class=\"simpletable\">\n",
       "<tr>\n",
       "                  <td></td>                     <th>coef</th>     <th>std err</th>      <th>t</th>      <th>P>|t|</th>  <th>[0.025</th>    <th>0.975]</th>  \n",
       "</tr>\n",
       "<tr>\n",
       "  <th>const</th>                             <td> 8.961e+13</td> <td>  7.3e+15</td> <td>    0.012</td> <td> 0.990</td> <td>-1.42e+16</td> <td> 1.44e+16</td>\n",
       "</tr>\n",
       "<tr>\n",
       "  <th>JobLevel_1</th>                        <td>-1.068e+14</td> <td>  8.7e+15</td> <td>   -0.012</td> <td> 0.990</td> <td>-1.72e+16</td> <td>  1.7e+16</td>\n",
       "</tr>\n",
       "<tr>\n",
       "  <th>JobLevel_2</th>                        <td>-1.068e+14</td> <td>  8.7e+15</td> <td>   -0.012</td> <td> 0.990</td> <td>-1.72e+16</td> <td>  1.7e+16</td>\n",
       "</tr>\n",
       "<tr>\n",
       "  <th>JobLevel_3</th>                        <td>-1.068e+14</td> <td>  8.7e+15</td> <td>   -0.012</td> <td> 0.990</td> <td>-1.72e+16</td> <td>  1.7e+16</td>\n",
       "</tr>\n",
       "<tr>\n",
       "  <th>JobLevel_4</th>                        <td>-1.068e+14</td> <td>  8.7e+15</td> <td>   -0.012</td> <td> 0.990</td> <td>-1.72e+16</td> <td>  1.7e+16</td>\n",
       "</tr>\n",
       "<tr>\n",
       "  <th>JobLevel_5</th>                        <td>-1.068e+14</td> <td>  8.7e+15</td> <td>   -0.012</td> <td> 0.990</td> <td>-1.72e+16</td> <td>  1.7e+16</td>\n",
       "</tr>\n",
       "<tr>\n",
       "  <th>TotalWorkingYears_0</th>               <td> 8.594e+12</td> <td>    7e+14</td> <td>    0.012</td> <td> 0.990</td> <td>-1.37e+15</td> <td> 1.38e+15</td>\n",
       "</tr>\n",
       "<tr>\n",
       "  <th>TotalWorkingYears_1</th>               <td> 8.594e+12</td> <td>    7e+14</td> <td>    0.012</td> <td> 0.990</td> <td>-1.37e+15</td> <td> 1.38e+15</td>\n",
       "</tr>\n",
       "<tr>\n",
       "  <th>TotalWorkingYears_2</th>               <td> 8.594e+12</td> <td>    7e+14</td> <td>    0.012</td> <td> 0.990</td> <td>-1.37e+15</td> <td> 1.38e+15</td>\n",
       "</tr>\n",
       "<tr>\n",
       "  <th>TotalWorkingYears_3</th>               <td> 8.594e+12</td> <td>    7e+14</td> <td>    0.012</td> <td> 0.990</td> <td>-1.37e+15</td> <td> 1.38e+15</td>\n",
       "</tr>\n",
       "<tr>\n",
       "  <th>TotalWorkingYears_4</th>               <td> 8.594e+12</td> <td>    7e+14</td> <td>    0.012</td> <td> 0.990</td> <td>-1.37e+15</td> <td> 1.38e+15</td>\n",
       "</tr>\n",
       "<tr>\n",
       "  <th>TotalWorkingYears_5</th>               <td> 8.594e+12</td> <td>    7e+14</td> <td>    0.012</td> <td> 0.990</td> <td>-1.37e+15</td> <td> 1.38e+15</td>\n",
       "</tr>\n",
       "<tr>\n",
       "  <th>TotalWorkingYears_6</th>               <td> 8.594e+12</td> <td>    7e+14</td> <td>    0.012</td> <td> 0.990</td> <td>-1.37e+15</td> <td> 1.38e+15</td>\n",
       "</tr>\n",
       "<tr>\n",
       "  <th>TotalWorkingYears_7</th>               <td> 8.594e+12</td> <td>    7e+14</td> <td>    0.012</td> <td> 0.990</td> <td>-1.37e+15</td> <td> 1.38e+15</td>\n",
       "</tr>\n",
       "<tr>\n",
       "  <th>TotalWorkingYears_8</th>               <td> 8.594e+12</td> <td>    7e+14</td> <td>    0.012</td> <td> 0.990</td> <td>-1.37e+15</td> <td> 1.38e+15</td>\n",
       "</tr>\n",
       "<tr>\n",
       "  <th>TotalWorkingYears_9</th>               <td> 8.594e+12</td> <td>    7e+14</td> <td>    0.012</td> <td> 0.990</td> <td>-1.37e+15</td> <td> 1.38e+15</td>\n",
       "</tr>\n",
       "<tr>\n",
       "  <th>TotalWorkingYears_10</th>              <td> 8.594e+12</td> <td>    7e+14</td> <td>    0.012</td> <td> 0.990</td> <td>-1.37e+15</td> <td> 1.38e+15</td>\n",
       "</tr>\n",
       "<tr>\n",
       "  <th>TotalWorkingYears_11</th>              <td> 8.594e+12</td> <td>    7e+14</td> <td>    0.012</td> <td> 0.990</td> <td>-1.37e+15</td> <td> 1.38e+15</td>\n",
       "</tr>\n",
       "<tr>\n",
       "  <th>TotalWorkingYears_12</th>              <td> 8.594e+12</td> <td>    7e+14</td> <td>    0.012</td> <td> 0.990</td> <td>-1.37e+15</td> <td> 1.38e+15</td>\n",
       "</tr>\n",
       "<tr>\n",
       "  <th>TotalWorkingYears_13</th>              <td> 8.594e+12</td> <td>    7e+14</td> <td>    0.012</td> <td> 0.990</td> <td>-1.37e+15</td> <td> 1.38e+15</td>\n",
       "</tr>\n",
       "<tr>\n",
       "  <th>TotalWorkingYears_14</th>              <td> 8.594e+12</td> <td>    7e+14</td> <td>    0.012</td> <td> 0.990</td> <td>-1.37e+15</td> <td> 1.38e+15</td>\n",
       "</tr>\n",
       "<tr>\n",
       "  <th>TotalWorkingYears_15</th>              <td> 8.594e+12</td> <td>    7e+14</td> <td>    0.012</td> <td> 0.990</td> <td>-1.37e+15</td> <td> 1.38e+15</td>\n",
       "</tr>\n",
       "<tr>\n",
       "  <th>TotalWorkingYears_16</th>              <td> 8.594e+12</td> <td>    7e+14</td> <td>    0.012</td> <td> 0.990</td> <td>-1.37e+15</td> <td> 1.38e+15</td>\n",
       "</tr>\n",
       "<tr>\n",
       "  <th>TotalWorkingYears_17</th>              <td> 8.594e+12</td> <td>    7e+14</td> <td>    0.012</td> <td> 0.990</td> <td>-1.37e+15</td> <td> 1.38e+15</td>\n",
       "</tr>\n",
       "<tr>\n",
       "  <th>TotalWorkingYears_18</th>              <td> 8.594e+12</td> <td>    7e+14</td> <td>    0.012</td> <td> 0.990</td> <td>-1.37e+15</td> <td> 1.38e+15</td>\n",
       "</tr>\n",
       "<tr>\n",
       "  <th>TotalWorkingYears_19</th>              <td> 8.594e+12</td> <td>    7e+14</td> <td>    0.012</td> <td> 0.990</td> <td>-1.37e+15</td> <td> 1.38e+15</td>\n",
       "</tr>\n",
       "<tr>\n",
       "  <th>TotalWorkingYears_20</th>              <td> 8.594e+12</td> <td>    7e+14</td> <td>    0.012</td> <td> 0.990</td> <td>-1.37e+15</td> <td> 1.38e+15</td>\n",
       "</tr>\n",
       "<tr>\n",
       "  <th>TotalWorkingYears_21</th>              <td> 8.594e+12</td> <td>    7e+14</td> <td>    0.012</td> <td> 0.990</td> <td>-1.37e+15</td> <td> 1.38e+15</td>\n",
       "</tr>\n",
       "<tr>\n",
       "  <th>TotalWorkingYears_22</th>              <td> 8.594e+12</td> <td>    7e+14</td> <td>    0.012</td> <td> 0.990</td> <td>-1.37e+15</td> <td> 1.38e+15</td>\n",
       "</tr>\n",
       "<tr>\n",
       "  <th>TotalWorkingYears_23</th>              <td> 8.594e+12</td> <td>    7e+14</td> <td>    0.012</td> <td> 0.990</td> <td>-1.37e+15</td> <td> 1.38e+15</td>\n",
       "</tr>\n",
       "<tr>\n",
       "  <th>TotalWorkingYears_24</th>              <td> 8.594e+12</td> <td>    7e+14</td> <td>    0.012</td> <td> 0.990</td> <td>-1.37e+15</td> <td> 1.38e+15</td>\n",
       "</tr>\n",
       "<tr>\n",
       "  <th>TotalWorkingYears_25</th>              <td> 8.594e+12</td> <td>    7e+14</td> <td>    0.012</td> <td> 0.990</td> <td>-1.37e+15</td> <td> 1.38e+15</td>\n",
       "</tr>\n",
       "<tr>\n",
       "  <th>TotalWorkingYears_26</th>              <td> 8.594e+12</td> <td>    7e+14</td> <td>    0.012</td> <td> 0.990</td> <td>-1.37e+15</td> <td> 1.38e+15</td>\n",
       "</tr>\n",
       "<tr>\n",
       "  <th>TotalWorkingYears_27</th>              <td> 8.594e+12</td> <td>    7e+14</td> <td>    0.012</td> <td> 0.990</td> <td>-1.37e+15</td> <td> 1.38e+15</td>\n",
       "</tr>\n",
       "<tr>\n",
       "  <th>TotalWorkingYears_28</th>              <td> 8.594e+12</td> <td>    7e+14</td> <td>    0.012</td> <td> 0.990</td> <td>-1.37e+15</td> <td> 1.38e+15</td>\n",
       "</tr>\n",
       "<tr>\n",
       "  <th>TotalWorkingYears_29</th>              <td> 8.594e+12</td> <td>    7e+14</td> <td>    0.012</td> <td> 0.990</td> <td>-1.37e+15</td> <td> 1.38e+15</td>\n",
       "</tr>\n",
       "<tr>\n",
       "  <th>TotalWorkingYears_30</th>              <td> 8.594e+12</td> <td>    7e+14</td> <td>    0.012</td> <td> 0.990</td> <td>-1.37e+15</td> <td> 1.38e+15</td>\n",
       "</tr>\n",
       "<tr>\n",
       "  <th>TotalWorkingYears_31</th>              <td> 8.594e+12</td> <td>    7e+14</td> <td>    0.012</td> <td> 0.990</td> <td>-1.37e+15</td> <td> 1.38e+15</td>\n",
       "</tr>\n",
       "<tr>\n",
       "  <th>TotalWorkingYears_32</th>              <td> 8.594e+12</td> <td>    7e+14</td> <td>    0.012</td> <td> 0.990</td> <td>-1.37e+15</td> <td> 1.38e+15</td>\n",
       "</tr>\n",
       "<tr>\n",
       "  <th>TotalWorkingYears_33</th>              <td> 8.594e+12</td> <td>    7e+14</td> <td>    0.012</td> <td> 0.990</td> <td>-1.37e+15</td> <td> 1.38e+15</td>\n",
       "</tr>\n",
       "<tr>\n",
       "  <th>TotalWorkingYears_34</th>              <td> 8.594e+12</td> <td>    7e+14</td> <td>    0.012</td> <td> 0.990</td> <td>-1.37e+15</td> <td> 1.38e+15</td>\n",
       "</tr>\n",
       "<tr>\n",
       "  <th>TotalWorkingYears_35</th>              <td> 8.594e+12</td> <td>    7e+14</td> <td>    0.012</td> <td> 0.990</td> <td>-1.37e+15</td> <td> 1.38e+15</td>\n",
       "</tr>\n",
       "<tr>\n",
       "  <th>TotalWorkingYears_36</th>              <td> 8.594e+12</td> <td>    7e+14</td> <td>    0.012</td> <td> 0.990</td> <td>-1.37e+15</td> <td> 1.38e+15</td>\n",
       "</tr>\n",
       "<tr>\n",
       "  <th>TotalWorkingYears_37</th>              <td> 8.594e+12</td> <td>    7e+14</td> <td>    0.012</td> <td> 0.990</td> <td>-1.37e+15</td> <td> 1.38e+15</td>\n",
       "</tr>\n",
       "<tr>\n",
       "  <th>TotalWorkingYears_38</th>              <td> 8.594e+12</td> <td>    7e+14</td> <td>    0.012</td> <td> 0.990</td> <td>-1.37e+15</td> <td> 1.38e+15</td>\n",
       "</tr>\n",
       "<tr>\n",
       "  <th>TotalWorkingYears_40</th>              <td> 8.594e+12</td> <td>    7e+14</td> <td>    0.012</td> <td> 0.990</td> <td>-1.37e+15</td> <td> 1.38e+15</td>\n",
       "</tr>\n",
       "<tr>\n",
       "  <th>JobRole_Healthcare Representative</th> <td> 8.564e+12</td> <td> 6.98e+14</td> <td>    0.012</td> <td> 0.990</td> <td>-1.36e+15</td> <td> 1.38e+15</td>\n",
       "</tr>\n",
       "<tr>\n",
       "  <th>JobRole_Human Resources</th>           <td> 8.564e+12</td> <td> 6.98e+14</td> <td>    0.012</td> <td> 0.990</td> <td>-1.36e+15</td> <td> 1.38e+15</td>\n",
       "</tr>\n",
       "<tr>\n",
       "  <th>JobRole_Laboratory Technician</th>     <td> 8.564e+12</td> <td> 6.98e+14</td> <td>    0.012</td> <td> 0.990</td> <td>-1.36e+15</td> <td> 1.38e+15</td>\n",
       "</tr>\n",
       "<tr>\n",
       "  <th>JobRole_Manager</th>                   <td> 8.564e+12</td> <td> 6.98e+14</td> <td>    0.012</td> <td> 0.990</td> <td>-1.36e+15</td> <td> 1.38e+15</td>\n",
       "</tr>\n",
       "<tr>\n",
       "  <th>JobRole_Manufacturing Director</th>    <td> 8.564e+12</td> <td> 6.98e+14</td> <td>    0.012</td> <td> 0.990</td> <td>-1.36e+15</td> <td> 1.38e+15</td>\n",
       "</tr>\n",
       "<tr>\n",
       "  <th>JobRole_Research Director</th>         <td> 8.564e+12</td> <td> 6.98e+14</td> <td>    0.012</td> <td> 0.990</td> <td>-1.36e+15</td> <td> 1.38e+15</td>\n",
       "</tr>\n",
       "<tr>\n",
       "  <th>JobRole_Research Scientist</th>        <td> 8.564e+12</td> <td> 6.98e+14</td> <td>    0.012</td> <td> 0.990</td> <td>-1.36e+15</td> <td> 1.38e+15</td>\n",
       "</tr>\n",
       "<tr>\n",
       "  <th>JobRole_Sales Executive</th>           <td> 8.564e+12</td> <td> 6.98e+14</td> <td>    0.012</td> <td> 0.990</td> <td>-1.36e+15</td> <td> 1.38e+15</td>\n",
       "</tr>\n",
       "<tr>\n",
       "  <th>JobRole_Sales Representative</th>      <td> 8.564e+12</td> <td> 6.98e+14</td> <td>    0.012</td> <td> 0.990</td> <td>-1.36e+15</td> <td> 1.38e+15</td>\n",
       "</tr>\n",
       "</table>\n",
       "<table class=\"simpletable\">\n",
       "<tr>\n",
       "  <th>Omnibus:</th>       <td>142.507</td> <th>  Durbin-Watson:     </th> <td>   2.036</td>\n",
       "</tr>\n",
       "<tr>\n",
       "  <th>Prob(Omnibus):</th> <td> 0.000</td>  <th>  Jarque-Bera (JB):  </th> <td> 297.794</td>\n",
       "</tr>\n",
       "<tr>\n",
       "  <th>Skew:</th>          <td> 0.602</td>  <th>  Prob(JB):          </th> <td>2.16e-65</td>\n",
       "</tr>\n",
       "<tr>\n",
       "  <th>Kurtosis:</th>      <td> 4.846</td>  <th>  Cond. No.          </th> <td>4.14e+15</td>\n",
       "</tr>\n",
       "</table><br/><br/>Notes:<br/>[1] Standard Errors assume that the covariance matrix of the errors is correctly specified.<br/>[2] The smallest eigenvalue is 1.31e-28. This might indicate that there are<br/>strong multicollinearity problems or that the design matrix is singular."
      ],
      "text/plain": [
       "<class 'statsmodels.iolib.summary.Summary'>\n",
       "\"\"\"\n",
       "                            OLS Regression Results                            \n",
       "==============================================================================\n",
       "Dep. Variable:          MonthlyIncome   R-squared:                       0.952\n",
       "Model:                            OLS   Adj. R-squared:                  0.951\n",
       "Method:                 Least Squares   F-statistic:                     556.4\n",
       "Date:                Mon, 14 Mar 2022   Prob (F-statistic):               0.00\n",
       "Time:                        23:13:00   Log-Likelihood:                -12287.\n",
       "No. Observations:                1471   AIC:                         2.468e+04\n",
       "Df Residuals:                    1419   BIC:                         2.495e+04\n",
       "Df Model:                          51                                         \n",
       "Covariance Type:            nonrobust                                         \n",
       "=====================================================================================================\n",
       "                                        coef    std err          t      P>|t|      [0.025      0.975]\n",
       "-----------------------------------------------------------------------------------------------------\n",
       "const                              8.961e+13    7.3e+15      0.012      0.990   -1.42e+16    1.44e+16\n",
       "JobLevel_1                        -1.068e+14    8.7e+15     -0.012      0.990   -1.72e+16     1.7e+16\n",
       "JobLevel_2                        -1.068e+14    8.7e+15     -0.012      0.990   -1.72e+16     1.7e+16\n",
       "JobLevel_3                        -1.068e+14    8.7e+15     -0.012      0.990   -1.72e+16     1.7e+16\n",
       "JobLevel_4                        -1.068e+14    8.7e+15     -0.012      0.990   -1.72e+16     1.7e+16\n",
       "JobLevel_5                        -1.068e+14    8.7e+15     -0.012      0.990   -1.72e+16     1.7e+16\n",
       "TotalWorkingYears_0                8.594e+12      7e+14      0.012      0.990   -1.37e+15    1.38e+15\n",
       "TotalWorkingYears_1                8.594e+12      7e+14      0.012      0.990   -1.37e+15    1.38e+15\n",
       "TotalWorkingYears_2                8.594e+12      7e+14      0.012      0.990   -1.37e+15    1.38e+15\n",
       "TotalWorkingYears_3                8.594e+12      7e+14      0.012      0.990   -1.37e+15    1.38e+15\n",
       "TotalWorkingYears_4                8.594e+12      7e+14      0.012      0.990   -1.37e+15    1.38e+15\n",
       "TotalWorkingYears_5                8.594e+12      7e+14      0.012      0.990   -1.37e+15    1.38e+15\n",
       "TotalWorkingYears_6                8.594e+12      7e+14      0.012      0.990   -1.37e+15    1.38e+15\n",
       "TotalWorkingYears_7                8.594e+12      7e+14      0.012      0.990   -1.37e+15    1.38e+15\n",
       "TotalWorkingYears_8                8.594e+12      7e+14      0.012      0.990   -1.37e+15    1.38e+15\n",
       "TotalWorkingYears_9                8.594e+12      7e+14      0.012      0.990   -1.37e+15    1.38e+15\n",
       "TotalWorkingYears_10               8.594e+12      7e+14      0.012      0.990   -1.37e+15    1.38e+15\n",
       "TotalWorkingYears_11               8.594e+12      7e+14      0.012      0.990   -1.37e+15    1.38e+15\n",
       "TotalWorkingYears_12               8.594e+12      7e+14      0.012      0.990   -1.37e+15    1.38e+15\n",
       "TotalWorkingYears_13               8.594e+12      7e+14      0.012      0.990   -1.37e+15    1.38e+15\n",
       "TotalWorkingYears_14               8.594e+12      7e+14      0.012      0.990   -1.37e+15    1.38e+15\n",
       "TotalWorkingYears_15               8.594e+12      7e+14      0.012      0.990   -1.37e+15    1.38e+15\n",
       "TotalWorkingYears_16               8.594e+12      7e+14      0.012      0.990   -1.37e+15    1.38e+15\n",
       "TotalWorkingYears_17               8.594e+12      7e+14      0.012      0.990   -1.37e+15    1.38e+15\n",
       "TotalWorkingYears_18               8.594e+12      7e+14      0.012      0.990   -1.37e+15    1.38e+15\n",
       "TotalWorkingYears_19               8.594e+12      7e+14      0.012      0.990   -1.37e+15    1.38e+15\n",
       "TotalWorkingYears_20               8.594e+12      7e+14      0.012      0.990   -1.37e+15    1.38e+15\n",
       "TotalWorkingYears_21               8.594e+12      7e+14      0.012      0.990   -1.37e+15    1.38e+15\n",
       "TotalWorkingYears_22               8.594e+12      7e+14      0.012      0.990   -1.37e+15    1.38e+15\n",
       "TotalWorkingYears_23               8.594e+12      7e+14      0.012      0.990   -1.37e+15    1.38e+15\n",
       "TotalWorkingYears_24               8.594e+12      7e+14      0.012      0.990   -1.37e+15    1.38e+15\n",
       "TotalWorkingYears_25               8.594e+12      7e+14      0.012      0.990   -1.37e+15    1.38e+15\n",
       "TotalWorkingYears_26               8.594e+12      7e+14      0.012      0.990   -1.37e+15    1.38e+15\n",
       "TotalWorkingYears_27               8.594e+12      7e+14      0.012      0.990   -1.37e+15    1.38e+15\n",
       "TotalWorkingYears_28               8.594e+12      7e+14      0.012      0.990   -1.37e+15    1.38e+15\n",
       "TotalWorkingYears_29               8.594e+12      7e+14      0.012      0.990   -1.37e+15    1.38e+15\n",
       "TotalWorkingYears_30               8.594e+12      7e+14      0.012      0.990   -1.37e+15    1.38e+15\n",
       "TotalWorkingYears_31               8.594e+12      7e+14      0.012      0.990   -1.37e+15    1.38e+15\n",
       "TotalWorkingYears_32               8.594e+12      7e+14      0.012      0.990   -1.37e+15    1.38e+15\n",
       "TotalWorkingYears_33               8.594e+12      7e+14      0.012      0.990   -1.37e+15    1.38e+15\n",
       "TotalWorkingYears_34               8.594e+12      7e+14      0.012      0.990   -1.37e+15    1.38e+15\n",
       "TotalWorkingYears_35               8.594e+12      7e+14      0.012      0.990   -1.37e+15    1.38e+15\n",
       "TotalWorkingYears_36               8.594e+12      7e+14      0.012      0.990   -1.37e+15    1.38e+15\n",
       "TotalWorkingYears_37               8.594e+12      7e+14      0.012      0.990   -1.37e+15    1.38e+15\n",
       "TotalWorkingYears_38               8.594e+12      7e+14      0.012      0.990   -1.37e+15    1.38e+15\n",
       "TotalWorkingYears_40               8.594e+12      7e+14      0.012      0.990   -1.37e+15    1.38e+15\n",
       "JobRole_Healthcare Representative  8.564e+12   6.98e+14      0.012      0.990   -1.36e+15    1.38e+15\n",
       "JobRole_Human Resources            8.564e+12   6.98e+14      0.012      0.990   -1.36e+15    1.38e+15\n",
       "JobRole_Laboratory Technician      8.564e+12   6.98e+14      0.012      0.990   -1.36e+15    1.38e+15\n",
       "JobRole_Manager                    8.564e+12   6.98e+14      0.012      0.990   -1.36e+15    1.38e+15\n",
       "JobRole_Manufacturing Director     8.564e+12   6.98e+14      0.012      0.990   -1.36e+15    1.38e+15\n",
       "JobRole_Research Director          8.564e+12   6.98e+14      0.012      0.990   -1.36e+15    1.38e+15\n",
       "JobRole_Research Scientist         8.564e+12   6.98e+14      0.012      0.990   -1.36e+15    1.38e+15\n",
       "JobRole_Sales Executive            8.564e+12   6.98e+14      0.012      0.990   -1.36e+15    1.38e+15\n",
       "JobRole_Sales Representative       8.564e+12   6.98e+14      0.012      0.990   -1.36e+15    1.38e+15\n",
       "==============================================================================\n",
       "Omnibus:                      142.507   Durbin-Watson:                   2.036\n",
       "Prob(Omnibus):                  0.000   Jarque-Bera (JB):              297.794\n",
       "Skew:                           0.602   Prob(JB):                     2.16e-65\n",
       "Kurtosis:                       4.846   Cond. No.                     4.14e+15\n",
       "==============================================================================\n",
       "\n",
       "Notes:\n",
       "[1] Standard Errors assume that the covariance matrix of the errors is correctly specified.\n",
       "[2] The smallest eigenvalue is 1.31e-28. This might indicate that there are\n",
       "strong multicollinearity problems or that the design matrix is singular.\n",
       "\"\"\""
      ]
     },
     "execution_count": 41,
     "metadata": {},
     "output_type": "execute_result"
    }
   ],
   "source": [
    "# years since last promotion, job level, total working years\n",
    "df3 = df.loc[:, df.columns.intersection(['JobRole','JobLevel', 'TotalWorkingYears', \"MonthlyIncome\"])]\n",
    "cols = ['JobLevel', 'TotalWorkingYears', 'JobRole']\n",
    "one_hot = encoding(df3, cols)\n",
    "X = one_hot.drop(['MonthlyIncome'], axis=1)\n",
    "Y = one_hot['MonthlyIncome']\n",
    "\n",
    "model = sm.OLS(Y,sm.add_constant(X)).fit()\n",
    "model.summary()"
   ]
  },
  {
   "cell_type": "markdown",
   "metadata": {},
   "source": [
    "### Explanation"
   ]
  },
  {
   "cell_type": "markdown",
   "metadata": {},
   "source": [
    "The model has an r-squared value of 0.952 as opposed to the r-square value in Q4 of 0.945. The model is better and the reason is because these three columns are the ones impacting the monthly income the most so the overall prediction of the monthly income in regression doesn't decrease or change a lot. Monthly income is mostly dependent on these variables. In terms of perference, I believe we do need a model containing all the variables so that we can get the bigger picture of the relationships but after then, we can use this model to further study the significant relationships. "
   ]
  },
  {
   "cell_type": "markdown",
   "metadata": {},
   "source": [
    "# End of Assignment"
   ]
  }
 ],
 "metadata": {
  "colab": {
   "collapsed_sections": [],
   "name": "hw8.ipynb",
   "provenance": []
  },
  "interpreter": {
   "hash": "a881fa1e4cd4432e2a28099fca63b2991b39e372f13379f083f0434cb1d75a93"
  },
  "kernelspec": {
   "display_name": "Python 3 (ipykernel)",
   "language": "python",
   "name": "python3"
  },
  "language_info": {
   "codemirror_mode": {
    "name": "ipython",
    "version": 3
   },
   "file_extension": ".py",
   "mimetype": "text/x-python",
   "name": "python",
   "nbconvert_exporter": "python",
   "pygments_lexer": "ipython3",
   "version": "3.9.7"
  }
 },
 "nbformat": 4,
 "nbformat_minor": 4
}
