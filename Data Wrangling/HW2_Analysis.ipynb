{
 "cells": [
  {
   "cell_type": "markdown",
   "id": "eb9357cb",
   "metadata": {},
   "source": [
    "# Homework 2: Data Wrangling"
   ]
  },
  {
   "cell_type": "markdown",
   "id": "ccc84bd8",
   "metadata": {},
   "source": [
    "## Aliza Rafique (ar05986)"
   ]
  },
  {
   "cell_type": "markdown",
   "id": "3fb7248a",
   "metadata": {},
   "source": [
    "### Email Address: ar05986@st.habib.edu.pk"
   ]
  },
  {
   "cell_type": "markdown",
   "id": "373dbdf0",
   "metadata": {},
   "source": [
    "### Part 3: Analysis"
   ]
  },
  {
   "cell_type": "code",
   "execution_count": 2,
   "id": "3051c10b",
   "metadata": {},
   "outputs": [],
   "source": [
    "import pandas as pd\n",
    "import datetime\n",
    "import numpy as np\n",
    "import matplotlib.pyplot as plt"
   ]
  },
  {
   "cell_type": "code",
   "execution_count": 3,
   "id": "46668acd",
   "metadata": {},
   "outputs": [],
   "source": [
    "data = pd.read_csv(\"580SurveyCleanup_formatted_cleaned.csv\")"
   ]
  },
  {
   "cell_type": "code",
   "execution_count": 4,
   "id": "6309dc4d",
   "metadata": {},
   "outputs": [
    {
     "data": {
      "text/plain": [
       "Index(['Unnamed: 0', 'No.', 'Time', 'Status', 'Duration (Seconds)',\n",
       "       'IP Address', 'Country', 'Region', 'City / Town / District', 'Latitude',\n",
       "       'Longitude', 'Age (years)', 'Height (Inches)', 'Country of Citizenship',\n",
       "       'Undergraduate Degree',\n",
       "       'Expected Graduation date from Mason MS program?',\n",
       "       'What is your goal for learning about data analytics?', 'Section',\n",
       "       'Gender', 'Employment', 'Python Proficiency', 'Type of Laptop',\n",
       "       'R Proficiency', 'SQL Proficiency'],\n",
       "      dtype='object')"
      ]
     },
     "execution_count": 4,
     "metadata": {},
     "output_type": "execute_result"
    }
   ],
   "source": [
    "data.keys()"
   ]
  },
  {
   "cell_type": "markdown",
   "id": "57cf3767",
   "metadata": {},
   "source": [
    "#### Question 1 : Section\n",
    "This is a categorical data representing the sections of people who responded to the survey. We can show the percentage of people from each section on a pie chart. "
   ]
  },
  {
   "cell_type": "code",
   "execution_count": 5,
   "id": "0ba16d33",
   "metadata": {},
   "outputs": [
    {
     "data": {
      "text/plain": [
       "count     36\n",
       "unique     2\n",
       "top        2\n",
       "freq      20\n",
       "Name: Section, dtype: object"
      ]
     },
     "execution_count": 5,
     "metadata": {},
     "output_type": "execute_result"
    }
   ],
   "source": [
    "# Since section is only two categories:\n",
    "data['Section'] = data['Section'].astype(\"string\")\n",
    "data['Section'].describe()"
   ]
  },
  {
   "cell_type": "code",
   "execution_count": 6,
   "id": "5d204887",
   "metadata": {},
   "outputs": [
    {
     "data": {
      "text/plain": [
       "<AxesSubplot:ylabel='None'>"
      ]
     },
     "execution_count": 6,
     "metadata": {},
     "output_type": "execute_result"
    },
    {
     "data": {
      "image/png": "[encoded data removed]",
      "text/plain": [
       "<Figure size 432x288 with 1 Axes>"
      ]
     },
     "metadata": {},
     "output_type": "display_data"
    }
   ],
   "source": [
    "data.groupby('Section').size().plot(kind='pie', autopct='%.2f')"
   ]
  },
  {
   "cell_type": "markdown",
   "id": "ab93dd1b",
   "metadata": {},
   "source": [
    "As it shows that most of the people who took part in the survey belonged to the section \"002\"."
   ]
  },
  {
   "cell_type": "markdown",
   "id": "3dd7842b",
   "metadata": {},
   "source": [
    "#### Question 2: Gender\n",
    "This is also a categorical data and we can represent it using either a bar graph or a pie chart. "
   ]
  },
  {
   "cell_type": "code",
   "execution_count": 7,
   "id": "3b82164b",
   "metadata": {},
   "outputs": [
    {
     "data": {
      "text/plain": [
       "count       36\n",
       "unique       4\n",
       "top       Male\n",
       "freq        18\n",
       "Name: Gender, dtype: object"
      ]
     },
     "execution_count": 7,
     "metadata": {},
     "output_type": "execute_result"
    }
   ],
   "source": [
    "data['Gender'].describe()"
   ]
  },
  {
   "cell_type": "code",
   "execution_count": 8,
   "id": "2ec88152",
   "metadata": {},
   "outputs": [
    {
     "data": {
      "text/plain": [
       "<AxesSubplot:xlabel='Gender'>"
      ]
     },
     "execution_count": 8,
     "metadata": {},
     "output_type": "execute_result"
    },
    {
     "data": {
      "image/png": "[encoded data removed]",
      "text/plain": [
       "<Figure size 432x288 with 1 Axes>"
      ]
     },
     "metadata": {
      "needs_background": "light"
     },
     "output_type": "display_data"
    }
   ],
   "source": [
    "data.groupby(\"Gender\").size().plot(kind='bar')"
   ]
  },
  {
   "cell_type": "markdown",
   "id": "a1493cc6",
   "metadata": {},
   "source": [
    "Most of the participants were Male, 18 out of 36. Making a majority of the sample. "
   ]
  },
  {
   "cell_type": "markdown",
   "id": "6116c7f5",
   "metadata": {},
   "source": [
    "#### Question 3: Age\n"
   ]
  },
  {
   "cell_type": "code",
   "execution_count": 9,
   "id": "c1d23cdd",
   "metadata": {},
   "outputs": [
    {
     "data": {
      "text/plain": [
       "count    36.000000\n",
       "mean     27.111111\n",
       "std       6.492975\n",
       "min      22.000000\n",
       "25%      23.000000\n",
       "50%      25.000000\n",
       "75%      28.000000\n",
       "max      55.000000\n",
       "Name: Age (years), dtype: float64"
      ]
     },
     "execution_count": 9,
     "metadata": {},
     "output_type": "execute_result"
    }
   ],
   "source": [
    "data['Age (years)'].describe()"
   ]
  },
  {
   "cell_type": "code",
   "execution_count": 33,
   "id": "07528dba",
   "metadata": {},
   "outputs": [
    {
     "data": {
      "text/plain": [
       "<AxesSubplot:ylabel='Frequency'>"
      ]
     },
     "execution_count": 33,
     "metadata": {},
     "output_type": "execute_result"
    },
    {
     "data": {
      "image/png": "[encoded data removed]",
      "text/plain": [
       "<Figure size 432x288 with 1 Axes>"
      ]
     },
     "metadata": {
      "needs_background": "light"
     },
     "output_type": "display_data"
    }
   ],
   "source": [
    "data.groupby('Age (years)').size().plot(kind='hist')"
   ]
  },
  {
   "cell_type": "markdown",
   "id": "ec571c0f",
   "metadata": {},
   "source": [
    "Average age of participants is 27 years old and the oldest participant was 55 years old. "
   ]
  },
  {
   "cell_type": "markdown",
   "id": "f8be6368",
   "metadata": {},
   "source": [
    "#### Question 4: Height"
   ]
  },
  {
   "cell_type": "code",
   "execution_count": 11,
   "id": "01dc2ede",
   "metadata": {},
   "outputs": [
    {
     "data": {
      "text/plain": [
       "count    36.000000\n",
       "mean     67.277778\n",
       "std       4.240021\n",
       "min      56.000000\n",
       "25%      65.750000\n",
       "50%      67.000000\n",
       "75%      70.000000\n",
       "max      75.000000\n",
       "Name: Height (Inches), dtype: float64"
      ]
     },
     "execution_count": 11,
     "metadata": {},
     "output_type": "execute_result"
    }
   ],
   "source": [
    "data['Height (Inches)'].describe()"
   ]
  },
  {
   "cell_type": "code",
   "execution_count": 12,
   "id": "755ccf95",
   "metadata": {},
   "outputs": [
    {
     "data": {
      "text/plain": [
       "<AxesSubplot:ylabel='Density'>"
      ]
     },
     "execution_count": 12,
     "metadata": {},
     "output_type": "execute_result"
    },
    {
     "data": {
      "image/png": "[encoded data removed]",
      "text/plain": [
       "<Figure size 432x288 with 1 Axes>"
      ]
     },
     "metadata": {
      "needs_background": "light"
     },
     "output_type": "display_data"
    }
   ],
   "source": [
    "data['Height (Inches)'].plot.kde()"
   ]
  },
  {
   "cell_type": "markdown",
   "id": "960ccd05",
   "metadata": {},
   "source": [
    "We can see the mean height of the participants involved was 68 inches (rounded off). "
   ]
  },
  {
   "cell_type": "markdown",
   "id": "da72f8bc",
   "metadata": {},
   "source": [
    "#### Question 5: Country of Citizenship"
   ]
  },
  {
   "cell_type": "code",
   "execution_count": 13,
   "id": "9697e06f",
   "metadata": {},
   "outputs": [
    {
     "data": {
      "text/plain": [
       "count        36\n",
       "unique       12\n",
       "top       India\n",
       "freq         12\n",
       "Name: Country of Citizenship, dtype: object"
      ]
     },
     "execution_count": 13,
     "metadata": {},
     "output_type": "execute_result"
    }
   ],
   "source": [
    "data['Country of Citizenship'].describe()"
   ]
  },
  {
   "cell_type": "markdown",
   "id": "3d7fd4c9",
   "metadata": {},
   "source": [
    "The participants belonged mostly from India (12 participants) and others belonged to other 12 countries."
   ]
  },
  {
   "cell_type": "markdown",
   "id": "b0ece0b7",
   "metadata": {},
   "source": [
    "#### Question 6: Undergraduate Degree"
   ]
  },
  {
   "cell_type": "code",
   "execution_count": 14,
   "id": "955ba08f",
   "metadata": {},
   "outputs": [
    {
     "data": {
      "text/plain": [
       "count            36\n",
       "unique           24\n",
       "top       Economics\n",
       "freq              9\n",
       "Name: Undergraduate Degree, dtype: object"
      ]
     },
     "execution_count": 14,
     "metadata": {},
     "output_type": "execute_result"
    }
   ],
   "source": [
    "data['Undergraduate Degree'].describe()"
   ]
  },
  {
   "cell_type": "code",
   "execution_count": 15,
   "id": "a9d23f60",
   "metadata": {},
   "outputs": [
    {
     "data": {
      "text/plain": [
       "<AxesSubplot:xlabel='Undergraduate Degree'>"
      ]
     },
     "execution_count": 15,
     "metadata": {},
     "output_type": "execute_result"
    },
    {
     "data": {
      "image/png": "[encoded data removed]",
      "text/plain": [
       "<Figure size 432x288 with 1 Axes>"
      ]
     },
     "metadata": {
      "needs_background": "light"
     },
     "output_type": "display_data"
    }
   ],
   "source": [
    "data.groupby('Undergraduate Degree').size().plot(kind='bar')"
   ]
  },
  {
   "cell_type": "markdown",
   "id": "45024d52",
   "metadata": {},
   "source": [
    "We can see that 9 participants have done an undergrduate in Economics."
   ]
  },
  {
   "cell_type": "markdown",
   "id": "67516416",
   "metadata": {},
   "source": [
    "#### Question 7: Expected Graduation Date"
   ]
  },
  {
   "cell_type": "code",
   "execution_count": 16,
   "id": "a220aeda",
   "metadata": {},
   "outputs": [
    {
     "data": {
      "text/plain": [
       "count             36\n",
       "unique            25\n",
       "top       2021-12-31\n",
       "freq               3\n",
       "Name: Expected Graduation date from Mason MS program?, dtype: object"
      ]
     },
     "execution_count": 16,
     "metadata": {},
     "output_type": "execute_result"
    }
   ],
   "source": [
    "data['Expected Graduation date from Mason MS program?'].describe()"
   ]
  },
  {
   "cell_type": "markdown",
   "id": "66acac5f",
   "metadata": {},
   "source": [
    "A lot of participants are graduating on different dates and by today's dates many of them have already graduated. "
   ]
  },
  {
   "cell_type": "markdown",
   "id": "74348b19",
   "metadata": {},
   "source": [
    "#### Question 8: Type of Laptop Used"
   ]
  },
  {
   "cell_type": "code",
   "execution_count": 17,
   "id": "66ac542f",
   "metadata": {},
   "outputs": [
    {
     "data": {
      "text/plain": [
       "count                    36\n",
       "unique                    4\n",
       "top       Microsoft/Windows\n",
       "freq                     24\n",
       "Name: Type of Laptop, dtype: object"
      ]
     },
     "execution_count": 17,
     "metadata": {},
     "output_type": "execute_result"
    }
   ],
   "source": [
    "data['Type of Laptop'].describe()"
   ]
  },
  {
   "cell_type": "markdown",
   "id": "0c4c0534",
   "metadata": {},
   "source": [
    "Twenty four participants have stated that they used Microsoft/Windows the most. It shows that this laptop is popular among the participants."
   ]
  },
  {
   "cell_type": "markdown",
   "id": "56e6cf48",
   "metadata": {},
   "source": [
    "#### Question 9: Employment"
   ]
  },
  {
   "cell_type": "code",
   "execution_count": 18,
   "id": "80a8e719",
   "metadata": {},
   "outputs": [
    {
     "data": {
      "text/plain": [
       "count                                    36\n",
       "unique                                    3\n",
       "top       Not Working while attending Mason\n",
       "freq                                     20\n",
       "Name: Employment, dtype: object"
      ]
     },
     "execution_count": 18,
     "metadata": {},
     "output_type": "execute_result"
    }
   ],
   "source": [
    "data['Employment'].describe()"
   ]
  },
  {
   "cell_type": "code",
   "execution_count": 19,
   "id": "caba715c",
   "metadata": {},
   "outputs": [
    {
     "data": {
      "text/plain": [
       "<AxesSubplot:ylabel='None'>"
      ]
     },
     "execution_count": 19,
     "metadata": {},
     "output_type": "execute_result"
    },
    {
     "data": {
      "image/png": "[encoded data removed]",
      "text/plain": [
       "<Figure size 432x288 with 1 Axes>"
      ]
     },
     "metadata": {},
     "output_type": "display_data"
    }
   ],
   "source": [
    "data.groupby('Employment').size().plot(kind='pie', autopct='%.2f')"
   ]
  },
  {
   "cell_type": "markdown",
   "id": "b7483ac8",
   "metadata": {},
   "source": [
    "#### Question 10: Programming Skill in Python"
   ]
  },
  {
   "cell_type": "code",
   "execution_count": 20,
   "id": "a911043a",
   "metadata": {},
   "outputs": [
    {
     "data": {
      "text/plain": [
       "count               36\n",
       "unique               4\n",
       "top       Average user\n",
       "freq                18\n",
       "Name: Python Proficiency, dtype: object"
      ]
     },
     "execution_count": 20,
     "metadata": {},
     "output_type": "execute_result"
    }
   ],
   "source": [
    "data['Python Proficiency'].describe()"
   ]
  },
  {
   "cell_type": "code",
   "execution_count": 21,
   "id": "31ad8816",
   "metadata": {},
   "outputs": [
    {
     "data": {
      "text/plain": [
       "<AxesSubplot:xlabel='Python Proficiency'>"
      ]
     },
     "execution_count": 21,
     "metadata": {},
     "output_type": "execute_result"
    },
    {
     "data": {
      "image/png": "[encoded data removed]",
      "text/plain": [
       "<Figure size 432x288 with 1 Axes>"
      ]
     },
     "metadata": {
      "needs_background": "light"
     },
     "output_type": "display_data"
    }
   ],
   "source": [
    "data.groupby(\"Python Proficiency\").size().plot(kind='bar')"
   ]
  },
  {
   "cell_type": "markdown",
   "id": "45aa4086",
   "metadata": {},
   "source": [
    "As we can see that most of the participants are average Python users. "
   ]
  },
  {
   "cell_type": "markdown",
   "id": "9fad4434",
   "metadata": {},
   "source": [
    "#### Question 11: Programming Skill in R"
   ]
  },
  {
   "cell_type": "code",
   "execution_count": 22,
   "id": "ab25974e",
   "metadata": {},
   "outputs": [
    {
     "data": {
      "text/plain": [
       "count               36\n",
       "unique               5\n",
       "top       Average user\n",
       "freq                12\n",
       "Name: R Proficiency, dtype: object"
      ]
     },
     "execution_count": 22,
     "metadata": {},
     "output_type": "execute_result"
    }
   ],
   "source": [
    "data['R Proficiency'].describe()"
   ]
  },
  {
   "cell_type": "code",
   "execution_count": 23,
   "id": "822ed29e",
   "metadata": {},
   "outputs": [
    {
     "data": {
      "text/plain": [
       "<AxesSubplot:xlabel='R Proficiency'>"
      ]
     },
     "execution_count": 23,
     "metadata": {},
     "output_type": "execute_result"
    },
    {
     "data": {
      "image/png": "[encoded data removed]",
      "text/plain": [
       "<Figure size 432x288 with 1 Axes>"
      ]
     },
     "metadata": {
      "needs_background": "light"
     },
     "output_type": "display_data"
    }
   ],
   "source": [
    "data.groupby(\"R Proficiency\").size().plot(kind='bar')"
   ]
  },
  {
   "cell_type": "markdown",
   "id": "11a01731",
   "metadata": {},
   "source": [
    "For R, however, some participants did state that they are fluent or expert in this language as oppose to the responses for Python. "
   ]
  },
  {
   "cell_type": "markdown",
   "id": "c1bd510f",
   "metadata": {},
   "source": [
    "#### Question 12: Programming Skill in SQL"
   ]
  },
  {
   "cell_type": "code",
   "execution_count": 24,
   "id": "fff96106",
   "metadata": {},
   "outputs": [
    {
     "data": {
      "text/plain": [
       "count               36\n",
       "unique               5\n",
       "top       Average user\n",
       "freq                12\n",
       "Name: SQL Proficiency, dtype: object"
      ]
     },
     "execution_count": 24,
     "metadata": {},
     "output_type": "execute_result"
    }
   ],
   "source": [
    "data['SQL Proficiency'].describe()"
   ]
  },
  {
   "cell_type": "code",
   "execution_count": 25,
   "id": "e61e67c6",
   "metadata": {},
   "outputs": [
    {
     "data": {
      "text/plain": [
       "<AxesSubplot:xlabel='SQL Proficiency'>"
      ]
     },
     "execution_count": 25,
     "metadata": {},
     "output_type": "execute_result"
    },
    {
     "data": {
      "image/png": "[encoded data removed]",
      "text/plain": [
       "<Figure size 432x288 with 1 Axes>"
      ]
     },
     "metadata": {
      "needs_background": "light"
     },
     "output_type": "display_data"
    }
   ],
   "source": [
    "data.groupby(\"SQL Proficiency\").size().plot(kind='bar')"
   ]
  },
  {
   "cell_type": "markdown",
   "id": "9350f0ad",
   "metadata": {},
   "source": [
    "For this category as well, we have more participants as average users but some of them are expert in SQL too. "
   ]
  },
  {
   "cell_type": "markdown",
   "id": "5c86b8dd",
   "metadata": {},
   "source": [
    "# End of Assignment"
   ]
  }
 ],
 "metadata": {
  "kernelspec": {
   "display_name": "Python 3 (ipykernel)",
   "language": "python",
   "name": "python3"
  },
  "language_info": {
   "codemirror_mode": {
    "name": "ipython",
    "version": 3
   },
   "file_extension": ".py",
   "mimetype": "text/x-python",
   "name": "python",
   "nbconvert_exporter": "python",
   "pygments_lexer": "ipython3",
   "version": "3.9.7"
  }
 },
 "nbformat": 4,
 "nbformat_minor": 5
}
